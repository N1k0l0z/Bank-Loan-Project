{
  "cells": [
    {
      "cell_type": "code",
      "execution_count": null,
      "metadata": {
        "colab": {
          "base_uri": "https://localhost:8080/"
        },
        "id": "1LeCE074EjP5",
        "outputId": "fe96c7a3-eeca-4b2a-e025-b558e0682c69"
      },
      "outputs": [
        {
          "output_type": "stream",
          "name": "stdout",
          "text": [
            "Collecting pyspark\n",
            "  Downloading pyspark-3.5.2.tar.gz (317.3 MB)\n",
            "\u001b[2K     \u001b[90m━━━━━━━━━━━━━━━━━━━━━━━━━━━━━━━━━━━━━━━━\u001b[0m \u001b[32m317.3/317.3 MB\u001b[0m \u001b[31m3.1 MB/s\u001b[0m eta \u001b[36m0:00:00\u001b[0m\n",
            "\u001b[?25h  Preparing metadata (setup.py) ... \u001b[?25l\u001b[?25hdone\n",
            "Requirement already satisfied: py4j==0.10.9.7 in /usr/local/lib/python3.10/dist-packages (from pyspark) (0.10.9.7)\n",
            "Building wheels for collected packages: pyspark\n",
            "  Building wheel for pyspark (setup.py) ... \u001b[?25l\u001b[?25hdone\n",
            "  Created wheel for pyspark: filename=pyspark-3.5.2-py2.py3-none-any.whl size=317812365 sha256=59a6274a4e21906e1d136addfd13fc5bf32953687020942822d47ce7892db04d\n",
            "  Stored in directory: /root/.cache/pip/wheels/34/34/bd/03944534c44b677cd5859f248090daa9fb27b3c8f8e5f49574\n",
            "Successfully built pyspark\n",
            "Installing collected packages: pyspark\n",
            "Successfully installed pyspark-3.5.2\n"
          ]
        }
      ],
      "source": [
        "!pip install pyspark"
      ]
    },
    {
      "cell_type": "code",
      "execution_count": null,
      "metadata": {
        "id": "HiQXbfIGQCx8"
      },
      "outputs": [],
      "source": [
        "import matplotlib.pyplot as plt\n",
        "import pandas as pd\n",
        "from pyspark.sql.functions import rand, col\n",
        "from pyspark.ml.linalg import VectorUDT\n",
        "from pyspark.sql.types import StructType, StructField\n",
        "from pyspark.sql import functions as F\n",
        "from pyspark.sql.types import NumericType\n",
        "import pickle\n",
        "import time\n",
        "from pyspark.ml.regression import DecisionTreeRegressionModel\n",
        "from pyspark.ml.feature import VectorAssembler\n",
        "from pyspark.sql import SparkSession\n",
        "from pyspark.sql.types import DoubleType\n",
        "from pyspark.ml.regression import DecisionTreeRegressor\n",
        "from pyspark.ml.evaluation import RegressionEvaluator\n",
        "from pyspark.sql import DataFrame\n",
        "from pyspark.sql.types import DoubleType\n",
        "from pyspark.ml.linalg import VectorUDT\n",
        "from pyspark.sql.functions import isnan, when, count, isnull, avg, expr, min, max, col, rand\n",
        "from pyspark.sql.functions import col, to_date, month, year\n",
        "from pyspark.sql.types import IntegerType, StringType, FloatType\n",
        "from pyspark.ml.feature import StringIndexer, OneHotEncoder\n",
        "from pyspark.sql.functions import regexp_replace, struct, udf\n",
        "from pyspark.sql.functions import regexp_extract"
      ]
    },
    {
      "cell_type": "code",
      "execution_count": null,
      "metadata": {
        "colab": {
          "base_uri": "https://localhost:8080/"
        },
        "id": "fnHjM4czF-f2",
        "outputId": "85938cf6-3491-46f5-b345-10b02e1cad5b"
      },
      "outputs": [
        {
          "output_type": "stream",
          "name": "stdout",
          "text": [
            "Drive already mounted at /content/drive; to attempt to forcibly remount, call drive.mount(\"/content/drive\", force_remount=True).\n"
          ]
        }
      ],
      "source": [
        "from google.colab import drive\n",
        "drive.mount('/content/drive')"
      ]
    },
    {
      "cell_type": "code",
      "execution_count": null,
      "metadata": {
        "id": "-z-BKM5cFHns"
      },
      "outputs": [],
      "source": [
        "spark = SparkSession.builder \\\n",
        "    .appName(\"Bank Project\") \\\n",
        "    .config(\"spark.driver.memory\", \"8g\") \\\n",
        "    .config(\"spark.executor.memory\", \"8g\") \\\n",
        "    .config(\"spark.executor.memoryOverhead\", \"2g\") \\\n",
        "    .config(\"spark.executor.instances\", \"4\") \\\n",
        "    .config(\"spark.executor.cores\", \"2\") \\\n",
        "    .config(\"spark.driver.extraJavaOptions\", \"-XX:+UseG1GC -XX:InitiatingHeapOccupancyPercent=35\") \\\n",
        "    .getOrCreate()\n",
        "spark.conf.set(\"spark.sql.codegen.wholeStage\", \"false\")"
      ]
    },
    {
      "cell_type": "code",
      "source": [
        "data = spark.read.csv('/content/drive/MyDrive/Bank Project/Loan_Data.csv', header=True, inferSchema=True)"
      ],
      "metadata": {
        "id": "7x4YwvTDOET-"
      },
      "execution_count": null,
      "outputs": []
    },
    {
      "cell_type": "markdown",
      "metadata": {
        "id": "mCUSJ1PaeE1t"
      },
      "source": [
        "# **Drop duplicate rows to avoid data leakage and then save train and test separately.**"
      ]
    },
    {
      "cell_type": "code",
      "execution_count": null,
      "metadata": {
        "colab": {
          "base_uri": "https://localhost:8080/"
        },
        "id": "8BCmtKiXEZV-",
        "outputId": "7bc1ed29-705c-4a1d-f385-f5b042c9168b"
      },
      "outputs": [
        {
          "data": {
            "text/plain": [
              "2925493"
            ]
          },
          "execution_count": 8,
          "metadata": {},
          "output_type": "execute_result"
        }
      ],
      "source": [
        "data.count()"
      ]
    },
    {
      "cell_type": "code",
      "execution_count": null,
      "metadata": {
        "id": "L7k0nv6qHOC2"
      },
      "outputs": [],
      "source": [
        "data = data.drop_duplicates(data.columns[2:])"
      ]
    },
    {
      "cell_type": "code",
      "execution_count": null,
      "metadata": {
        "colab": {
          "base_uri": "https://localhost:8080/"
        },
        "id": "Mv4FIH4pEW1t",
        "outputId": "99323236-04b2-48e9-d1d9-af426da3b0ea"
      },
      "outputs": [
        {
          "data": {
            "text/plain": [
              "2925493"
            ]
          },
          "execution_count": 10,
          "metadata": {},
          "output_type": "execute_result"
        }
      ],
      "source": [
        "data.count()"
      ]
    },
    {
      "cell_type": "code",
      "execution_count": null,
      "metadata": {
        "id": "ZukMweUSEgBk"
      },
      "outputs": [],
      "source": [
        "train, test = data.randomSplit([0.8, 0.2], seed=42)"
      ]
    },
    {
      "cell_type": "code",
      "execution_count": null,
      "metadata": {
        "colab": {
          "background_save": true
        },
        "id": "8Jwj4p_8Iwkj"
      },
      "outputs": [],
      "source": [
        "train.write.csv('/content/drive/MyDrive/Bank Project/train', header=True)\n",
        "test.write.csv('/content/drive/MyDrive/Bank Project/test', header=True)"
      ]
    },
    {
      "cell_type": "markdown",
      "metadata": {
        "id": "f0-hu4ZEeVv1"
      },
      "source": [
        "# **Read train data**"
      ]
    },
    {
      "cell_type": "code",
      "execution_count": null,
      "metadata": {
        "id": "hULxa_bFfHf3"
      },
      "outputs": [],
      "source": [
        "train = spark.read.csv('/content/drive/MyDrive/Bank Project/train', header=True, inferSchema=True)"
      ]
    },
    {
      "cell_type": "code",
      "execution_count": null,
      "metadata": {
        "colab": {
          "base_uri": "https://localhost:8080/"
        },
        "id": "Vy8xv3NqdAao",
        "outputId": "4dccba5c-97d9-4a15-909d-f9685a1160ce"
      },
      "outputs": [
        {
          "name": "stdout",
          "output_type": "stream",
          "text": [
            "+---+---------+---------+-----------+---------------+---------+--------+-----------+-----+---------+--------------------+----------+--------------+----------+-------------------+--------+---------------+----------+--------------------+------------------+--------------------+--------+----------+-----+-----------+----------------+--------------+---------------+--------------+----------------------+----------------------+--------+-------+---------+----------+---------+-------------------+---------+-------------+----------------+---------------+---------------+-------------+------------------+----------+-----------------------+------------+---------------+------------+------------------+--------------------+-------------------+--------------------------+---------------------------+-----------+----------------+----------------+---------+-------------------------+--------------+------------+-----------+-----------+-----------+-----------+-----------+------------------+------------+-------+-----------+-----------+----------+--------+----------------+------+-----------+------------+--------------------+-----------+--------------+-------+------------------------+-----------+------------------+--------------------+---------------------+--------------+--------+--------------------+------------------------+---------------------+------------------------------+---------------------+--------------+---------------+-----------+---------+---------+-------------+-------------+-------------------+--------+----------------+------------+------------------+------------------+--------------+----------------+--------------------+---------+---------------+-----------------+--------------+--------------------------+---------------+----------------------+-----------------------+------------------------+----------------------+----------------+----------------+------------------+-------------------+---------------------+--------------------------------+----------------------------------+-------------+-------------+---------------+---------------+-------------+---------------+-------------------+-----------------+-----------------------+---------------+------------+--------------------+------------------------------------------+------------------------------+----------------------------+--------------------+\n",
            "|_c0|       id|loan_amnt|funded_amnt|funded_amnt_inv|     term|int_rate|installment|grade|sub_grade|           emp_title|emp_length|home_ownership|annual_inc|verification_status| issue_d|    loan_status|pymnt_plan|                 url|           purpose|               title|zip_code|addr_state|  dti|delinq_2yrs|earliest_cr_line|fico_range_low|fico_range_high|inq_last_6mths|mths_since_last_delinq|mths_since_last_record|open_acc|pub_rec|revol_bal|revol_util|total_acc|initial_list_status|out_prncp|out_prncp_inv|     total_pymnt|total_pymnt_inv|total_rec_prncp|total_rec_int|total_rec_late_fee|recoveries|collection_recovery_fee|last_pymnt_d|last_pymnt_amnt|next_pymnt_d|last_credit_pull_d|last_fico_range_high|last_fico_range_low|collections_12_mths_ex_med|mths_since_last_major_derog|policy_code|application_type|annual_inc_joint|dti_joint|verification_status_joint|acc_now_delinq|tot_coll_amt|tot_cur_bal|open_acc_6m|open_act_il|open_il_12m|open_il_24m|mths_since_rcnt_il|total_bal_il|il_util|open_rv_12m|open_rv_24m|max_bal_bc|all_util|total_rev_hi_lim|inq_fi|total_cu_tl|inq_last_12m|acc_open_past_24mths|avg_cur_bal|bc_open_to_buy|bc_util|chargeoff_within_12_mths|delinq_amnt|mo_sin_old_il_acct|mo_sin_old_rev_tl_op|mo_sin_rcnt_rev_tl_op|mo_sin_rcnt_tl|mort_acc|mths_since_recent_bc|mths_since_recent_bc_dlq|mths_since_recent_inq|mths_since_recent_revol_delinq|num_accts_ever_120_pd|num_actv_bc_tl|num_actv_rev_tl|num_bc_sats|num_bc_tl|num_il_tl|num_op_rev_tl|num_rev_accts|num_rev_tl_bal_gt_0|num_sats|num_tl_120dpd_2m|num_tl_30dpd|num_tl_90g_dpd_24m|num_tl_op_past_12m|pct_tl_nvr_dlq|percent_bc_gt_75|pub_rec_bankruptcies|tax_liens|tot_hi_cred_lim|total_bal_ex_mort|total_bc_limit|total_il_high_credit_limit|revol_bal_joint|sec_app_fico_range_low|sec_app_fico_range_high|sec_app_earliest_cr_line|sec_app_inq_last_6mths|sec_app_mort_acc|sec_app_open_acc|sec_app_revol_util|sec_app_open_act_il|sec_app_num_rev_accts|sec_app_chargeoff_within_12_mths|sec_app_collections_12_mths_ex_med|hardship_flag|hardship_type|hardship_reason|hardship_status|deferral_term|hardship_amount|hardship_start_date|hardship_end_date|payment_plan_start_date|hardship_length|hardship_dpd|hardship_loan_status|orig_projected_additional_accrued_interest|hardship_payoff_balance_amount|hardship_last_payment_amount|debt_settlement_flag|\n",
            "+---+---------+---------+-----------+---------------+---------+--------+-----------+-----+---------+--------------------+----------+--------------+----------+-------------------+--------+---------------+----------+--------------------+------------------+--------------------+--------+----------+-----+-----------+----------------+--------------+---------------+--------------+----------------------+----------------------+--------+-------+---------+----------+---------+-------------------+---------+-------------+----------------+---------------+---------------+-------------+------------------+----------+-----------------------+------------+---------------+------------+------------------+--------------------+-------------------+--------------------------+---------------------------+-----------+----------------+----------------+---------+-------------------------+--------------+------------+-----------+-----------+-----------+-----------+-----------+------------------+------------+-------+-----------+-----------+----------+--------+----------------+------+-----------+------------+--------------------+-----------+--------------+-------+------------------------+-----------+------------------+--------------------+---------------------+--------------+--------+--------------------+------------------------+---------------------+------------------------------+---------------------+--------------+---------------+-----------+---------+---------+-------------+-------------+-------------------+--------+----------------+------------+------------------+------------------+--------------+----------------+--------------------+---------+---------------+-----------------+--------------+--------------------------+---------------+----------------------+-----------------------+------------------------+----------------------+----------------+----------------+------------------+-------------------+---------------------+--------------------------------+----------------------------------+-------------+-------------+---------------+---------------+-------------+---------------+-------------------+-----------------+-----------------------+---------------+------------+--------------------+------------------------------------------+------------------------------+----------------------------+--------------------+\n",
            "|  0|158339152|    24000|      24000|        24000.0|36 months|  16.95%|     855.07|    C|       C4| Connection Designer| 10+ years|      MORTGAGE|     60000|           Verified|Sep-2019|In Grace Period|         n|https://lendingcl...|       credit_card|Credit card refin...|   042xx|        ME|20.46|        0.0|        Nov-1998|           700|            704|             1|                    80|                  NULL|      11|      0|    24126|     72.9%|       20|                  w| 20287.29|     20287.29|         5962.89|        5962.89|        3712.71|      2250.18|               0.0|       0.0|                    0.0|    May-2020|         855.07|    Jun-2020|          May-2020|                 719|                715|                         0|                         80|          1|      Individual|            NULL|     NULL|                     NULL|             0|           0|     161515|          0|          2|          0|          1|                15|       18940|     70|          0|          1|      5336|      72|           33100|     0|          2|           3|                   2|      14683|          2380|   88.0|                     0.0|          0|               250|                  66|                   22|            15|       2|                  42|                    NULL|                    5|                          NULL|                    2|             4|              8|          4|        4|       10|            8|            8|                  8|      11|               0|           0|                 0|                 0|          90.0|           100.0|                   0|        0|         188838|            43066|         19800|                     27029|           NULL|                  NULL|                   NULL|                    NULL|                  NULL|            NULL|            NULL|              NULL|               NULL|                 NULL|                            NULL|                              NULL|            N|         NULL|           NULL|           NULL|         NULL|           NULL|               NULL|             NULL|                   NULL|           NULL|        NULL|                NULL|                                      NULL|                          NULL|                        NULL|                   N|\n",
            "| 10|149396040|    16000|      16000|        16000.0|60 months|  12.40%|     359.16|    B|       B4|Information Techn...|   5 years|      MORTGAGE|     67500|    Source Verified|Mar-2019|        Current|         n|https://lendingcl...|debt_consolidation|  Debt consolidation|   531xx|        WI|26.77|        0.0|        Mar-2006|           710|            714|             1|                  NULL|                  NULL|      32|      0|    17079|     45.3%|       74|                  w| 13537.23|     13537.23|         4287.88|        4287.88|        2462.77|      1825.11|               0.0|       0.0|                    0.0|    May-2020|            0.0|    Jul-2020|          May-2020|                 674|                670|                         0|                       NULL|          1|      Individual|            NULL|     NULL|                     NULL|             0|           0|     296847|          1|         20|          2|          4|                 6|      115852|    104|          0|          1|      6211|      89|           37700|     1|          0|           5|                   8|       9276|         12888|   47.2|                     0.0|          0|               156|                 144|                   23|             6|       5|                  23|                    NULL|                    0|                          NULL|                    0|             3|              6|          5|        8|       55|           11|           14|                  6|      32|               0|           0|                 0|                 2|         100.0|            60.0|                   0|        0|         330446|           132931|         24400|                    111246|           NULL|                  NULL|                   NULL|                    NULL|                  NULL|            NULL|            NULL|              NULL|               NULL|                 NULL|                            NULL|                              NULL|            Y|    CVD19SKIP|     INCOMECURT|         ACTIVE|            2|            0.0|           Apr-2020|         Jun-2020|               Apr-2020|              2|           0|              ACTIVE|                                    279.77|                      13611.83|                      359.16|                   N|\n",
            "| 10| 75331908|     4000|       4000|         4000.0|36 months|   6.97%|     123.46|    A|       A3|    Terminal Manager|   2 years|          RENT|     94500|    Source Verified|Mar-2016|     Fully Paid|         n|https://lendingcl...|               car|       Car financing|   629xx|        IL|10.07|        0.0|        Dec-1994|           720|            724|             0|                    36|                  NULL|       9|      0|     3532|     12.7%|       23|                  w|     0.00|          0.0|  4441.201727622|         4441.2|         4000.0|        441.2|               0.0|       0.0|                    0.0|    Apr-2019|          123.2|        NULL|          Nov-2019|                 714|                710|                         0|                       NULL|          1|      Individual|            NULL|     NULL|                     NULL|             0|        2070|      15723|          1|          3|          1|          2|                12|       12191|     39|          3|          4|      2728|      27|           27800|     0|          2|           7|                   6|       1747|         24268|   12.7|                     0.0|          0|               226|                 255|                    3|             3|       1|                   3|                      36|                    0|                            36|                    0|             4|              4|          6|       11|        7|            6|           15|                  4|       9|               0|           0|                 0|                 4|          82.6|             0.0|                   0|        0|          59233|            15723|         27800|                     31433|           NULL|                  NULL|                   NULL|                    NULL|                  NULL|            NULL|            NULL|              NULL|               NULL|                 NULL|                            NULL|                              NULL|            N|         NULL|           NULL|           NULL|         NULL|           NULL|               NULL|             NULL|                   NULL|           NULL|        NULL|                NULL|                                      NULL|                          NULL|                        NULL|                   N|\n",
            "| 13|154336301|    13500|      13500|        13500.0|36 months|   6.46%|     413.52|    A|       A1|              server| 10+ years|      MORTGAGE|     27000|           Verified|Jun-2019|        Current|         n|https://lendingcl...|       credit_card|Credit card refin...|   629xx|        IL|29.16|        0.0|        Aug-1995|           795|            799|             0|                  NULL|                  NULL|       9|      0|     9952|     28.4%|       23|                  w|  9648.13|      9648.13|         4539.03|        4539.03|        3851.87|       687.16|               0.0|       0.0|                    0.0|    May-2020|         413.52|    Jun-2020|          May-2020|                 804|                800|                         0|                       NULL|          1|      Individual|            NULL|     NULL|                     NULL|             0|           0|      84148|          0|          3|          0|          1|                17|       10020|     48|          0|          0|      9552|      36|           35100|     0|          0|           0|                   1|       9350|         20948|   31.3|                     0.0|          0|               275|                 286|                   68|            17|       2|                  83|                    NULL|                 NULL|                          NULL|                    0|             1|              2|          2|        4|        7|            5|           14|                  2|       9|               0|           0|                 0|                 0|         100.0|             0.0|                   0|        0|         127528|            19972|         30500|                     21000|           NULL|                  NULL|                   NULL|                    NULL|                  NULL|            NULL|            NULL|              NULL|               NULL|                 NULL|                            NULL|                              NULL|            N|         NULL|           NULL|           NULL|         NULL|           NULL|               NULL|             NULL|                   NULL|           NULL|        NULL|                NULL|                                      NULL|                          NULL|                        NULL|                   N|\n",
            "| 13| 37712169|    21075|      21075|        21075.0|60 months|  21.99%|     581.95|    E|       E5|           Paralegal| 10+ years|      MORTGAGE|     55000|    Source Verified|Dec-2014|     Fully Paid|         n|https://lendingcl...|debt_consolidation|  Debt consolidation|   606xx|        IL| 29.5|        0.0|        Nov-1987|           690|            694|             0|                    26|                  NULL|      14|      0|    15955|     88.6%|       21|                  f|     0.00|          0.0|34852.4956372544|        34852.5|        21075.0|      13777.5|               0.0|       0.0|                    0.0|    Dec-2019|         581.82|        NULL|          Jan-2020|                 699|                695|                         0|                       NULL|          1|      Individual|            NULL|     NULL|                     NULL|             0|           0|     262274|       NULL|       NULL|       NULL|       NULL|              NULL|        NULL|   NULL|       NULL|       NULL|      NULL|    NULL|           18000|  NULL|       NULL|        NULL|                   0|      20175|          1468|   91.0|                     0.0|          0|               160|                 205|                   30|            30|       1|                  30|                      26|                   10|                            26|                    2|             3|              4|          3|        6|        7|            5|           11|                  4|      14|               0|           0|                 0|                 0|          76.2|           100.0|                   0|        0|         300308|            62443|         16300|                     55441|           NULL|                  NULL|                   NULL|                    NULL|                  NULL|            NULL|            NULL|              NULL|               NULL|                 NULL|                            NULL|                              NULL|            N|         NULL|           NULL|           NULL|         NULL|           NULL|               NULL|             NULL|                   NULL|           NULL|        NULL|                NULL|                                      NULL|                          NULL|                        NULL|                   N|\n",
            "+---+---------+---------+-----------+---------------+---------+--------+-----------+-----+---------+--------------------+----------+--------------+----------+-------------------+--------+---------------+----------+--------------------+------------------+--------------------+--------+----------+-----+-----------+----------------+--------------+---------------+--------------+----------------------+----------------------+--------+-------+---------+----------+---------+-------------------+---------+-------------+----------------+---------------+---------------+-------------+------------------+----------+-----------------------+------------+---------------+------------+------------------+--------------------+-------------------+--------------------------+---------------------------+-----------+----------------+----------------+---------+-------------------------+--------------+------------+-----------+-----------+-----------+-----------+-----------+------------------+------------+-------+-----------+-----------+----------+--------+----------------+------+-----------+------------+--------------------+-----------+--------------+-------+------------------------+-----------+------------------+--------------------+---------------------+--------------+--------+--------------------+------------------------+---------------------+------------------------------+---------------------+--------------+---------------+-----------+---------+---------+-------------+-------------+-------------------+--------+----------------+------------+------------------+------------------+--------------+----------------+--------------------+---------+---------------+-----------------+--------------+--------------------------+---------------+----------------------+-----------------------+------------------------+----------------------+----------------+----------------+------------------+-------------------+---------------------+--------------------------------+----------------------------------+-------------+-------------+---------------+---------------+-------------+---------------+-------------------+-----------------+-----------------------+---------------+------------+--------------------+------------------------------------------+------------------------------+----------------------------+--------------------+\n",
            "only showing top 5 rows\n",
            "\n"
          ]
        }
      ],
      "source": [
        "train.show(5)"
      ]
    },
    {
      "cell_type": "markdown",
      "metadata": {
        "id": "4gFr5RR91MM7"
      },
      "source": [
        "# **Drop all unnecessary columns**"
      ]
    },
    {
      "cell_type": "code",
      "execution_count": null,
      "metadata": {
        "id": "4NnzhbfteCb5"
      },
      "outputs": [],
      "source": [
        "def drop_clear_cols(data):\n",
        "  return data.drop('_c0', 'id', 'url', 'zip_code', 'grade', 'title')"
      ]
    },
    {
      "cell_type": "markdown",
      "metadata": {
        "id": "pgODUQ26QNww"
      },
      "source": [
        "# **Drop all columns which contain more than 90 % constant values.**"
      ]
    },
    {
      "cell_type": "code",
      "execution_count": null,
      "metadata": {
        "id": "gSeaayBqj4LT"
      },
      "outputs": [],
      "source": [
        "def drop_unnecessary_columns_by_constants(data, threshold=0.9):\n",
        "    row_num = data.count()\n",
        "\n",
        "    for col_name in data.columns:\n",
        "        value_counts = data.groupBy(col_name).count()\n",
        "\n",
        "        max_count_row = value_counts.agg({\"count\": \"max\"}).collect()[0]\n",
        "        max_count = max_count_row[0]\n",
        "\n",
        "        max_count = float(max_count)\n",
        "\n",
        "        if max_count / row_num > threshold:\n",
        "            data = data.drop(col_name)\n",
        "    return data"
      ]
    },
    {
      "cell_type": "code",
      "execution_count": null,
      "metadata": {
        "id": "sMEuBqf9gwNP"
      },
      "outputs": [],
      "source": [
        "def all_drop_columns(data):\n",
        "  data = drop_unnecessary_columns_by_constants(drop_clear_cols(data))\n",
        "  return data"
      ]
    },
    {
      "cell_type": "code",
      "execution_count": null,
      "metadata": {
        "id": "FJcoy4yegzOV"
      },
      "outputs": [],
      "source": [
        "train = all_drop_columns(train)"
      ]
    },
    {
      "cell_type": "markdown",
      "metadata": {
        "id": "4iC0I2wz1WP5"
      },
      "source": [
        "# **Create columnset which is proper for training and testing**"
      ]
    },
    {
      "cell_type": "code",
      "execution_count": null,
      "metadata": {
        "id": "lFa3jRYczXUz"
      },
      "outputs": [],
      "source": [
        "with open('/content/drive/MyDrive/Bank Project/columns.pkl', 'wb') as file:\n",
        "    pickle.dump(train.columns, file)"
      ]
    },
    {
      "cell_type": "code",
      "execution_count": null,
      "metadata": {
        "id": "gJxPq10ECySu"
      },
      "outputs": [],
      "source": [
        "import pickle\n",
        "with open('/content/drive/MyDrive/Bank Project/columns.pkl', 'rb') as file:\n",
        "    columnset = pickle.load(file)"
      ]
    },
    {
      "cell_type": "code",
      "execution_count": null,
      "metadata": {
        "id": "jgP9JTn1cMfl"
      },
      "outputs": [],
      "source": [
        "train = spark.read.csv('/content/drive/MyDrive/Bank Project/train', header=True, inferSchema=True)"
      ]
    },
    {
      "cell_type": "code",
      "execution_count": null,
      "metadata": {
        "id": "dDsvnWakDHpN"
      },
      "outputs": [],
      "source": [
        "final_cols = []\n",
        "for i in train.columns:\n",
        "  if i in columnset and i not in ['acc_now_delinq', 'delinq_2yrs', 'delinq_amnt', 'mths_since_recent_revol_delinq', 'mths_since_recent_bc_dlq', 'mths_since_last_delinq', 'pct_tl_nvr_dlq']:\n",
        "    final_cols.append(i)"
      ]
    },
    {
      "cell_type": "code",
      "execution_count": null,
      "metadata": {
        "id": "avC87Rkqc2OU"
      },
      "outputs": [],
      "source": [
        "with open('/content/drive/MyDrive/Bank Project/columns_.pkl', 'wb') as file:\n",
        "    pickle.dump(final_cols + ['acc_now_delinq', 'delinq_2yrs', 'delinq_amnt'], file)"
      ]
    },
    {
      "cell_type": "code",
      "execution_count": null,
      "metadata": {
        "id": "-LS4RJQzrDTv"
      },
      "outputs": [],
      "source": [
        "with open('/content/drive/MyDrive/Bank Project/columns_.pkl', 'rb') as file:\n",
        "    final_cols = pickle.load(file)\n",
        "train = spark.read.csv('/content/drive/MyDrive/Bank Project/train', header=True, inferSchema=True)"
      ]
    },
    {
      "cell_type": "code",
      "execution_count": null,
      "metadata": {
        "id": "F4Y6qHRn2iW6"
      },
      "outputs": [],
      "source": [
        "train = train.select(*final_cols)"
      ]
    },
    {
      "cell_type": "code",
      "execution_count": null,
      "metadata": {
        "colab": {
          "base_uri": "https://localhost:8080/"
        },
        "id": "oYG1GHsyrGgn",
        "outputId": "b7eeeea3-c029-42df-cca6-4fadbbb79984"
      },
      "outputs": [
        {
          "name": "stdout",
          "output_type": "stream",
          "text": [
            "+---------+-----------+---------------+---------+--------+-----------+---------+--------------------+----------+--------------+----------+-------------------+--------+---------------+------------------+----------+-----+----------------+--------------+---------------+--------------+----------------------+--------+-------+---------+----------+---------+-------------------+---------+-------------+----------------+---------------+---------------+-------------+------------+---------------+------------+------------------+--------------------+-------------------+---------------------------+------------+-----------+-----------+-----------+-----------+-----------+------------------+------------+-------+-----------+-----------+----------+--------+----------------+------+-----------+------------+--------------------+-----------+--------------+-------+------------------+--------------------+---------------------+--------------+--------+--------------------+---------------------+---------------------+--------------+---------------+-----------+---------+---------+-------------+-------------+-------------------+--------+------------------+----------------+--------------------+---------------+-----------------+--------------+--------------------------+--------------+-----------+-----------+\n",
            "|loan_amnt|funded_amnt|funded_amnt_inv|     term|int_rate|installment|sub_grade|           emp_title|emp_length|home_ownership|annual_inc|verification_status| issue_d|    loan_status|           purpose|addr_state|  dti|earliest_cr_line|fico_range_low|fico_range_high|inq_last_6mths|mths_since_last_record|open_acc|pub_rec|revol_bal|revol_util|total_acc|initial_list_status|out_prncp|out_prncp_inv|     total_pymnt|total_pymnt_inv|total_rec_prncp|total_rec_int|last_pymnt_d|last_pymnt_amnt|next_pymnt_d|last_credit_pull_d|last_fico_range_high|last_fico_range_low|mths_since_last_major_derog|tot_coll_amt|tot_cur_bal|open_acc_6m|open_act_il|open_il_12m|open_il_24m|mths_since_rcnt_il|total_bal_il|il_util|open_rv_12m|open_rv_24m|max_bal_bc|all_util|total_rev_hi_lim|inq_fi|total_cu_tl|inq_last_12m|acc_open_past_24mths|avg_cur_bal|bc_open_to_buy|bc_util|mo_sin_old_il_acct|mo_sin_old_rev_tl_op|mo_sin_rcnt_rev_tl_op|mo_sin_rcnt_tl|mort_acc|mths_since_recent_bc|mths_since_recent_inq|num_accts_ever_120_pd|num_actv_bc_tl|num_actv_rev_tl|num_bc_sats|num_bc_tl|num_il_tl|num_op_rev_tl|num_rev_accts|num_rev_tl_bal_gt_0|num_sats|num_tl_op_past_12m|percent_bc_gt_75|pub_rec_bankruptcies|tot_hi_cred_lim|total_bal_ex_mort|total_bc_limit|total_il_high_credit_limit|acc_now_delinq|delinq_2yrs|delinq_amnt|\n",
            "+---------+-----------+---------------+---------+--------+-----------+---------+--------------------+----------+--------------+----------+-------------------+--------+---------------+------------------+----------+-----+----------------+--------------+---------------+--------------+----------------------+--------+-------+---------+----------+---------+-------------------+---------+-------------+----------------+---------------+---------------+-------------+------------+---------------+------------+------------------+--------------------+-------------------+---------------------------+------------+-----------+-----------+-----------+-----------+-----------+------------------+------------+-------+-----------+-----------+----------+--------+----------------+------+-----------+------------+--------------------+-----------+--------------+-------+------------------+--------------------+---------------------+--------------+--------+--------------------+---------------------+---------------------+--------------+---------------+-----------+---------+---------+-------------+-------------+-------------------+--------+------------------+----------------+--------------------+---------------+-----------------+--------------+--------------------------+--------------+-----------+-----------+\n",
            "|    24000|      24000|        24000.0|36 months|  16.95%|     855.07|       C4| Connection Designer| 10+ years|      MORTGAGE|     60000|           Verified|Sep-2019|In Grace Period|       credit_card|        ME|20.46|        Nov-1998|           700|            704|             1|                  NULL|      11|      0|    24126|     72.9%|       20|                  w| 20287.29|     20287.29|         5962.89|        5962.89|        3712.71|      2250.18|    May-2020|         855.07|    Jun-2020|          May-2020|                 719|                715|                         80|           0|     161515|          0|          2|          0|          1|                15|       18940|     70|          0|          1|      5336|      72|           33100|     0|          2|           3|                   2|      14683|          2380|   88.0|               250|                  66|                   22|            15|       2|                  42|                    5|                    2|             4|              8|          4|        4|       10|            8|            8|                  8|      11|                 0|           100.0|                   0|         188838|            43066|         19800|                     27029|             0|        0.0|          0|\n",
            "|    16000|      16000|        16000.0|60 months|  12.40%|     359.16|       B4|Information Techn...|   5 years|      MORTGAGE|     67500|    Source Verified|Mar-2019|        Current|debt_consolidation|        WI|26.77|        Mar-2006|           710|            714|             1|                  NULL|      32|      0|    17079|     45.3%|       74|                  w| 13537.23|     13537.23|         4287.88|        4287.88|        2462.77|      1825.11|    May-2020|            0.0|    Jul-2020|          May-2020|                 674|                670|                       NULL|           0|     296847|          1|         20|          2|          4|                 6|      115852|    104|          0|          1|      6211|      89|           37700|     1|          0|           5|                   8|       9276|         12888|   47.2|               156|                 144|                   23|             6|       5|                  23|                    0|                    0|             3|              6|          5|        8|       55|           11|           14|                  6|      32|                 2|            60.0|                   0|         330446|           132931|         24400|                    111246|             0|        0.0|          0|\n",
            "|     4000|       4000|         4000.0|36 months|   6.97%|     123.46|       A3|    Terminal Manager|   2 years|          RENT|     94500|    Source Verified|Mar-2016|     Fully Paid|               car|        IL|10.07|        Dec-1994|           720|            724|             0|                  NULL|       9|      0|     3532|     12.7%|       23|                  w|     0.00|          0.0|  4441.201727622|         4441.2|         4000.0|        441.2|    Apr-2019|          123.2|        NULL|          Nov-2019|                 714|                710|                       NULL|        2070|      15723|          1|          3|          1|          2|                12|       12191|     39|          3|          4|      2728|      27|           27800|     0|          2|           7|                   6|       1747|         24268|   12.7|               226|                 255|                    3|             3|       1|                   3|                    0|                    0|             4|              4|          6|       11|        7|            6|           15|                  4|       9|                 4|             0.0|                   0|          59233|            15723|         27800|                     31433|             0|        0.0|          0|\n",
            "|    13500|      13500|        13500.0|36 months|   6.46%|     413.52|       A1|              server| 10+ years|      MORTGAGE|     27000|           Verified|Jun-2019|        Current|       credit_card|        IL|29.16|        Aug-1995|           795|            799|             0|                  NULL|       9|      0|     9952|     28.4%|       23|                  w|  9648.13|      9648.13|         4539.03|        4539.03|        3851.87|       687.16|    May-2020|         413.52|    Jun-2020|          May-2020|                 804|                800|                       NULL|           0|      84148|          0|          3|          0|          1|                17|       10020|     48|          0|          0|      9552|      36|           35100|     0|          0|           0|                   1|       9350|         20948|   31.3|               275|                 286|                   68|            17|       2|                  83|                 NULL|                    0|             1|              2|          2|        4|        7|            5|           14|                  2|       9|                 0|             0.0|                   0|         127528|            19972|         30500|                     21000|             0|        0.0|          0|\n",
            "|    21075|      21075|        21075.0|60 months|  21.99%|     581.95|       E5|           Paralegal| 10+ years|      MORTGAGE|     55000|    Source Verified|Dec-2014|     Fully Paid|debt_consolidation|        IL| 29.5|        Nov-1987|           690|            694|             0|                  NULL|      14|      0|    15955|     88.6%|       21|                  f|     0.00|          0.0|34852.4956372544|        34852.5|        21075.0|      13777.5|    Dec-2019|         581.82|        NULL|          Jan-2020|                 699|                695|                       NULL|           0|     262274|       NULL|       NULL|       NULL|       NULL|              NULL|        NULL|   NULL|       NULL|       NULL|      NULL|    NULL|           18000|  NULL|       NULL|        NULL|                   0|      20175|          1468|   91.0|               160|                 205|                   30|            30|       1|                  30|                   10|                    2|             3|              4|          3|        6|        7|            5|           11|                  4|      14|                 0|           100.0|                   0|         300308|            62443|         16300|                     55441|             0|        0.0|          0|\n",
            "|    10000|      10000|        10000.0|36 months|   7.49%|     311.02|       A4|     Product Manager|   4 years|          RENT|     85000|       Not Verified|Mar-2017|     Fully Paid|debt_consolidation|        MA|17.68|        Apr-2007|           750|            754|             0|                  NULL|      12|      0|     7668|     48.5%|       26|                  f|     0.00|          0.0|11068.3970224134|        11068.4|        10000.0|       1068.4|    Jun-2019|        2307.46|        NULL|          Jun-2019|                 809|                805|                       NULL|           0|      52149|          0|          9|          0|          1|                16|       44481|     62|          0|          1|      7668|      59|           15800|     1|          0|           0|                   2|       4346|          8132|   48.5|               119|                 111|                   24|            16|       0|                  24|                   17|                    0|             1|              1|          3|        3|       23|            3|            3|                  1|      12|                 0|             0.0|                   0|          88045|            52149|         15800|                     72245|             0|        0.0|          0|\n",
            "|     2000|       2000|         2000.0|36 months|  14.99%|      69.33|       C5|practice plan ass...|   8 years|          RENT|     32200|       Not Verified|Dec-2014|     Fully Paid|       credit_card|        NY|22.14|        Sep-1996|           670|            674|             0|                    95|      10|      1|     9544|     62.4%|       21|                  f|     0.00|          0.0|         2101.52|        2101.52|         2000.0|       101.52|    May-2015|        1897.69|        NULL|          Oct-2019|                 649|                645|                       NULL|           0|      20539|       NULL|       NULL|       NULL|       NULL|              NULL|        NULL|   NULL|       NULL|       NULL|      NULL|    NULL|           15300|  NULL|       NULL|        NULL|                   6|       2054|          3636|   72.2|                27|                 219|                    8|             4|       0|                   8|                   14|                    0|             5|              6|          6|       10|        4|            8|           17|                  6|      10|                 4|            83.3|                   1|          27300|            20539|         13100|                     12000|             0|        0.0|          0|\n",
            "|     8800|       8800|         8800.0|36 months|   9.80%|     283.13|       B3|Sales Representat...| 10+ years|      MORTGAGE|     92000|    Source Verified|Dec-2015|     Fully Paid|       credit_card|        MI| 5.18|        Nov-2001|           665|            669|             1|                  NULL|       9|      0|     9195|     76.6%|       24|                  w|     0.00|          0.0|  9852.877877179|        9852.88|         8800.0|      1052.88|    Aug-2017|        4768.52|        NULL|          Aug-2017|                 709|                705|                       NULL|           0|     105650|          1|          1|          0|          0|                35|         921|     15|          2|          5|      3818|      56|           12000|     0|          2|           3|                   8|      11739|           445|   94.8|               102|                 169|                    6|             6|       2|                   9|                    6|                    0|             3|              5|          3|       11|        6|            6|           15|                  5|       9|                 2|           100.0|                   0|         116292|            10116|          8500|                      6000|             0|        0.0|          0|\n",
            "|     9000|       9000|         9000.0|36 months|   9.44%|     288.05|       B1|      Police officer| 10+ years|      MORTGAGE|     72000|       Not Verified|Sep-2017|        Current|    major_purchase|        MI| 3.07|        Sep-1999|           695|            699|             1|                  NULL|      12|      0|     1154|     38.5%|       40|                  w|  1129.66|      1129.66|         9208.16|        9208.16|        7870.34|      1337.82|    May-2020|         288.05|    Jun-2020|          May-2020|                 709|                705|                         18|           0|     185410|          1|         10|          0|          0|                81|       38930|    132|          1|          1|      1154|     123|            3000|     1|          0|           1|                   1|      15451|          1846|   38.5|               216|                 137|                    6|             6|       1|                   6|                    6|                   14|             1|              1|          1|        8|       23|            1|           15|                  1|      12|                 1|             0.0|                   0|         190355|            40084|          3000|                     29481|             0|        3.0|          0|\n",
            "|    32000|      32000|        32000.0|36 months|  13.99%|    1093.53|       C3|           Conroller| 10+ years|      MORTGAGE|    110000|           Verified|Jun-2016|     Fully Paid|debt_consolidation|        MA| 17.3|        May-1992|           705|            709|             0|                  NULL|       9|      0|    40816|     96.7%|       15|                  f|     0.00|          0.0|39339.8498137895|       39339.85|        32000.0|      7339.85|    Jun-2019|        2193.18|        NULL|          May-2020|                 709|                705|                       NULL|           0|     216674|          1|          3|          0|          1|                14|       25826|     51|          1|          2|      6159|      72|           42200|     0|          2|           0|                   3|      24075|           781|   95.5|                98|                 289|                    3|             3|       1|                   3|                 NULL|                    0|             4|              5|          4|        7|        4|            5|           10|                  5|       9|                 1|            75.0|                   0|         283160|            66642|         17200|                     50960|             0|        0.0|          0|\n",
            "|    10000|      10000|        10000.0|60 months|  13.98%|     232.58|       C1|   electronic mapper|   5 years|          RENT|     25000|    Source Verified|Dec-2013|    Charged Off|debt_consolidation|        NY|27.03|        Feb-2004|           700|            704|             0|                  NULL|      13|      0|     5394|     46.9%|       22|                  f|     0.00|          0.0|          4068.3|         4068.3|        1619.02|      1404.23|    Feb-2015|         232.58|        NULL|          Oct-2016|                 574|                570|                       NULL|           0|      24419|       NULL|       NULL|       NULL|       NULL|              NULL|        NULL|   NULL|       NULL|       NULL|      NULL|    NULL|           11500|  NULL|       NULL|        NULL|                   6|       1878|           701|   76.6|               101|                 118|                   13|            13|       0|                  17|                   14|                    0|             1|              2|          1|        2|       14|            5|            8|                  2|      13|                 0|           100.0|                   0|          40142|            24419|          3000|                     28642|             0|        0.0|          0|\n",
            "|    12000|      12000|        12000.0|36 months|  16.99%|     427.78|       D1|                NULL|      NULL|          RENT|     30000|       Not Verified|Dec-2016|     Fully Paid|       credit_card|        WA| 9.26|        Nov-1996|           665|            669|             0|                    72|       3|      3|     8862|     38.2%|        5|                  w|     0.00|          0.0|14188.8074239509|       14188.81|        12000.0|      2188.81|    Apr-2018|        8228.21|        NULL|          Nov-2019|                 799|                795|                       NULL|           0|       8862|          1|          0|          0|          0|              NULL|           0|   NULL|          2|          2|      8617|      38|           23200|     0|          0|           2|                   2|       2954|         14338|   38.2|              NULL|                 241|                    0|             0|       0|                   0|                   10|                    0|             3|              3|          3|        4|        0|            3|            5|                  3|       3|                 2|             0.0|                   0|          23200|             8862|         23200|                         0|             0|        0.0|          0|\n",
            "|    10000|      10000|        10000.0|36 months|  11.99%|      332.1|       B3|                 LPN| 10+ years|      MORTGAGE|     41000|       Not Verified|Dec-2013|     Fully Paid|debt_consolidation|        PA|25.79|        Jul-2001|           695|            699|             1|                    98|      10|      1|    12409|       65%|       16|                  w|     0.00|          0.0|        11719.93|       11719.93|        10000.0|      1719.93|    Dec-2015|        4395.33|        NULL|          May-2020|                 689|                685|                       NULL|           0|      50865|       NULL|       NULL|       NULL|       NULL|              NULL|        NULL|   NULL|       NULL|       NULL|      NULL|    NULL|           19100|  NULL|       NULL|        NULL|                   3|       5652|          1658|   74.1|               137|                  86|                    5|             5|       2|                  27|                    5|                    0|             3|              7|          3|        5|        3|            7|            9|                  7|      10|                 2|            66.7|                   1|          85580|            29894|          6400|                     21480|             0|        0.0|          0|\n",
            "|     2000|       2000|         2000.0|36 months|  13.49%|      67.87|       C2|Accounting Associate|   2 years|          RENT|     40000|    Source Verified|Jun-2016|     Fully Paid|             other|        OH|25.11|        Sep-2010|           690|            694|             1|                  NULL|      19|      0|     9079|     33.9%|       24|                  w|     0.00|          0.0| 2313.8763799293|        2313.88|         2000.0|       313.88|    Dec-2017|        1230.22|        NULL|          Mar-2019|                 624|                620|                       NULL|           0|      59901|          2|          9|          0|          1|                21|       50822|     92|          3|          6|      4700|      73|           26800|     0|          1|           1|                   7|       3328|          8058|   51.5|                69|                  66|                    2|             2|       0|                   2|                    2|                    0|             3|              6|          4|        6|       10|           10|           14|                  6|      19|                 3|            50.0|                   0|          82372|            59901|         16600|                     55572|             0|        0.0|          0|\n",
            "|     3000|       3000|         3000.0|36 months|   8.19%|      94.28|       A4|Financial service...|   2 years|      MORTGAGE|     36766|       Not Verified|Jun-2019|     Fully Paid|             other|        NC| 0.78|        Sep-2013|           730|            734|             0|                  NULL|       9|      0|     2159|      9.3%|       21|                  w|     0.00|          0.0| 3030.4513027008|        3030.45|         3000.0|        30.45|    Jul-2019|        3033.18|        NULL|          Aug-2019|                 719|                715|                       NULL|          66|       2159|          1|          0|          0|          0|                61|           0|   NULL|          3|          7|      2159|       9|           23200|     0|          0|           0|                   7|        240|         16841|   11.4|                64|                  69|                    5|             5|       0|                   5|                 NULL|                    0|             1|              1|          5|        6|        2|            9|           19|                  1|       9|                 3|             0.0|                   0|          23200|             2159|         19000|                         0|             0|        0.0|          0|\n",
            "|     6825|       6825|         6825.0|36 months|  15.99%|     239.92|       D2|Graduate Teaching...|    1 year|          RENT|     19000|       Not Verified|Dec-2014|     Fully Paid|debt_consolidation|        FL|26.06|        Mar-2011|           730|            734|             0|                  NULL|       7|      0|     5514|     26.3%|        9|                  f|     0.00|          0.0|         6881.32|        6881.32|         6825.0|        56.32|    Jan-2015|        6890.41|        NULL|          Jun-2016|                 729|                725|                       NULL|           0|      15894|       NULL|       NULL|       NULL|       NULL|              NULL|        NULL|   NULL|       NULL|       NULL|      NULL|    NULL|           21000|  NULL|       NULL|        NULL|                   3|       2271|         13074|   27.4|                 4|                  45|                    9|             4|       0|                   9|                    4|                    0|             2|              3|          4|        5|        1|            6|            8|                  3|       7|                 2|             0.0|                   0|          41128|            15894|         18000|                     20128|             0|        0.0|          0|\n",
            "|    25000|      25000|        25000.0|60 months|  10.19%|     533.52|       A4|                 CPA|   7 years|      MORTGAGE|    140000|       Not Verified|Jun-2020|        Current|       credit_card|        IL|23.73|        Feb-1997|           705|            709|             0|                  NULL|      12|      0|    47048|     69.7%|       30|                  w| 24071.29|     24071.29|         1586.41|        1586.41|         928.71|        657.7|    Oct-2020|         533.52|    Nov-2020|          Oct-2020|                 739|                735|                       NULL|           0|     448412|          0|          3|          0|          2|                20|       66559|     45|          1|          3|     19757|      58|           67500|     1|          4|           2|                   5|      37368|         12333|   78.8|               133|                 280|                   10|            10|       6|                  10|                    3|                    0|             6|              7|          6|        8|        9|            8|           15|                  7|      12|                 1|            83.3|                   0|         524913|           113607|         58200|                    110663|             0|        0.0|          0|\n",
            "|    10000|      10000|        10000.0|36 months|  17.74%|     360.23|       C5|          Ramp Agent| 10+ years|          RENT|     54000|    Source Verified|Dec-2019|        Current|debt_consolidation|        IL|21.62|        Jun-1994|           685|            689|             1|                  NULL|       9|      0|     8608|       43%|       16|                  f|  9204.39|      9204.39|         1426.14|        1426.14|         795.61|       630.53|    May-2020|         360.23|    Jun-2020|          May-2020|                 709|                705|                         19|           0|      23689|          0|          2|          1|          1|                 8|       15081|     50|          0|          0|      2697|      47|           20000|     1|          2|           2|                   1|       2632|          9019|   48.8|                58|                 306|                   25|             8|       0|                  36|                    1|                    2|             4|              5|          5|        7|        3|            7|           13|                  5|       9|                 1|            40.0|                   0|          50496|            23689|         17600|                     30496|             0|        3.0|          0|\n",
            "|    19000|      19000|        19000.0|60 months|  14.85%|     450.52|       C5| Application Analyst|   9 years|           OWN|     75000|       Not Verified|Dec-2015|     Fully Paid|       credit_card|        NY|13.09|        Jun-2000|           665|            669|             2|                  NULL|      15|      0|    17771|     63.7%|       34|                  w|     0.00|          0.0|21165.0373511115|       21165.04|        19000.0|      2165.04|    Feb-2017|       10797.99|        NULL|          Feb-2018|                 779|                775|                       NULL|           0|      72043|          2|          2|          0|          1|                13|       30388|     83|          3|          6|      2724|      75|           27900|     0|          4|           2|                   9|       5146|           884|   88.2|               151|                 186|                    1|             1|       3|                   3|                    1|                    1|             4|             10|          4|        6|       13|           12|           18|                 10|      15|                 4|           100.0|                   0|          94620|            48159|          7500|                     36720|             0|        0.0|          0|\n",
            "|    21000|      21000|        21000.0|36 months|  13.67%|     714.37|       C3|     General Manager|   2 years|      MORTGAGE|    127500|       Not Verified|Mar-2016|    Charged Off|debt_consolidation|        WY|27.54|        Feb-1993|           660|            664|             1|                  NULL|      12|      0|    15125|     85.9%|       36|                  w|     0.00|          0.0|        17934.32|       17934.32|        9431.56|       3395.2|    Oct-2017|         714.37|        NULL|          May-2020|                 519|                515|                       NULL|         128|     310152|          0|          4|          2|          3|                 7|       80623|     58|          1|          2|      4896|      65|           17600|     6|          8|          10|                   5|      25846|           156|   97.9|               137|                 277|                   10|             7|       5|                  24|                    0|                    0|             2|              7|          2|        4|       15|            7|           16|                  7|      12|                 3|           100.0|                   0|         345011|            95748|          7300|                    103261|             0|        2.0|          0|\n",
            "+---------+-----------+---------------+---------+--------+-----------+---------+--------------------+----------+--------------+----------+-------------------+--------+---------------+------------------+----------+-----+----------------+--------------+---------------+--------------+----------------------+--------+-------+---------+----------+---------+-------------------+---------+-------------+----------------+---------------+---------------+-------------+------------+---------------+------------+------------------+--------------------+-------------------+---------------------------+------------+-----------+-----------+-----------+-----------+-----------+------------------+------------+-------+-----------+-----------+----------+--------+----------------+------+-----------+------------+--------------------+-----------+--------------+-------+------------------+--------------------+---------------------+--------------+--------+--------------------+---------------------+---------------------+--------------+---------------+-----------+---------+---------+-------------+-------------+-------------------+--------+------------------+----------------+--------------------+---------------+-----------------+--------------+--------------------------+--------------+-----------+-----------+\n",
            "only showing top 20 rows\n",
            "\n"
          ]
        }
      ],
      "source": [
        "train.show()"
      ]
    },
    {
      "cell_type": "markdown",
      "metadata": {
        "id": "MEMAoA88Qp9n"
      },
      "source": [
        "# **Drop rows which contain 80% and more null values.**"
      ]
    },
    {
      "cell_type": "code",
      "execution_count": null,
      "metadata": {
        "id": "XmS4KBjWdkjm"
      },
      "outputs": [],
      "source": [
        "def drop_rows(data):\n",
        "  def null_percentage(row):\n",
        "    null_count = sum([1 for val in row if val is None])\n",
        "    total_count = len(row)\n",
        "    return (null_count / total_count) * 100\n",
        "\n",
        "  null_percentage_udf = udf(null_percentage, FloatType())\n",
        "\n",
        "  columns = data.columns\n",
        "  df = data.withColumn(\"null_percentage\", null_percentage_udf(struct(*columns)))\n",
        "\n",
        "  filtered_df = df.filter(col(\"null_percentage\") <= 80)\n",
        "\n",
        "  filtered_df = filtered_df.drop(\"null_percentage\")\n",
        "  return filtered_df"
      ]
    },
    {
      "cell_type": "markdown",
      "metadata": {
        "id": "2K33wzSUzrI0"
      },
      "source": [
        "# **Convert categorical and nonnumerical data into numeric**"
      ]
    },
    {
      "cell_type": "code",
      "execution_count": null,
      "metadata": {
        "id": "GZT8K7uohBsI"
      },
      "outputs": [],
      "source": [
        "def process_term(data):\n",
        "    data = data.withColumn('term', regexp_extract(col('term'), r'(\\d+)', 1))\n",
        "    return data"
      ]
    },
    {
      "cell_type": "code",
      "execution_count": null,
      "metadata": {
        "id": "_Fe6CrNRktcY"
      },
      "outputs": [],
      "source": [
        "def process_int_rate(data):\n",
        "    data = data.withColumn('int_rate', regexp_replace(col('int_rate'), '%', ''))\n",
        "    return data"
      ]
    },
    {
      "cell_type": "code",
      "execution_count": null,
      "metadata": {
        "id": "0NwrDZffdteq"
      },
      "outputs": [],
      "source": [
        "def process_revol_util(data):\n",
        "    data = data.withColumn('revol_util', regexp_replace(col('int_rate'), '%', ''))\n",
        "    return data"
      ]
    },
    {
      "cell_type": "code",
      "execution_count": null,
      "metadata": {
        "id": "fc1jLXyJdwDq"
      },
      "outputs": [],
      "source": [
        "def process_emp_length(data):\n",
        "    data = data.withColumn('emp_length', regexp_replace(col('emp_length'), r'\\+', ''))\n",
        "\n",
        "    data = data.withColumn('emp_length', regexp_extract(col('emp_length'), r'(\\d+)', 1))\n",
        "\n",
        "    data = data.withColumn('emp_length', col('emp_length').cast('int'))\n",
        "\n",
        "    return data"
      ]
    },
    {
      "cell_type": "code",
      "execution_count": null,
      "metadata": {
        "id": "hLWK4nJ0li83"
      },
      "outputs": [],
      "source": [
        "def process_grade(data):\n",
        "    def map_sub_grade(sub_grade):\n",
        "        mapping = {\n",
        "            'A1': 0, 'A2': 1, 'A3': 2, 'A4': 3, 'A5': 4,\n",
        "            'B1': 5, 'B2': 6, 'B3': 7, 'B4': 8, 'B5': 9,\n",
        "            'C1': 10, 'C2': 11, 'C3': 12, 'C4': 13, 'C5': 14,\n",
        "            'D1': 15, 'D2': 16, 'D3': 17, 'D4': 18, 'D5': 19,\n",
        "            'E1': 20, 'E2': 21, 'E3': 22, 'E4': 23, 'E5': 24,\n",
        "            'F1': 25, 'F2': 26, 'F3': 27, 'F4': 28, 'F5': 29,\n",
        "            'G1': 30, 'G2': 31, 'G3': 32, 'G4': 33, 'G5': 34\n",
        "        }\n",
        "        return mapping.get(sub_grade, -1)\n",
        "\n",
        "    map_sub_grade_udf = udf(map_sub_grade, IntegerType())\n",
        "\n",
        "    df_encoded = data.withColumn('sub_grade', map_sub_grade_udf(col('sub_grade')))\n",
        "    return df_encoded"
      ]
    },
    {
      "cell_type": "code",
      "execution_count": null,
      "metadata": {
        "id": "PMCl8kROw9_x"
      },
      "outputs": [],
      "source": [
        "def process_emp_title(data):\n",
        "  def categorize_profession(title):\n",
        "      if not title:\n",
        "          return 'Unknown'\n",
        "      title = title.lower()\n",
        "      if any(keyword in title for keyword in ['manager', 'director', 'vp', 'executive', 'head', 'chief', 'president', 'supervisor', 'coordinator']):\n",
        "          return 'Management and Executive Roles'\n",
        "      elif any(keyword in title for keyword in ['assistant', 'coordinator', 'clerk', 'office', 'receptionist', 'secretary', 'administrator', 'data entry', 'support', 'specialist', 'scheduler']):\n",
        "          return 'Administrative and Support Roles'\n",
        "      elif any(keyword in title for keyword in ['engineer', 'technician', 'developer', 'it', 'analyst', 'architect', 'programmer', 'consultant', 'tech', 'network', 'systems', 'software', 'hardware']):\n",
        "          return 'Technical and Engineering Roles'\n",
        "      elif any(keyword in title for keyword in ['nurse', 'therapist', 'counselor', 'healthcare', 'clinician', 'practitioner', 'physician', 'medical', 'pharmacist', 'social worker', 'aide', 'caregiver']):\n",
        "          return 'Healthcare and Social Services Roles'\n",
        "      elif any(keyword in title for keyword in ['sales', 'customer service', 'representative', 'associate', 'agent', 'account manager', 'client service', 'business development', 'account executive']):\n",
        "          return 'Sales and Customer Service Roles'\n",
        "      elif any(keyword in title for keyword in ['teacher', 'instructor', 'professor', 'lecturer', 'tutor', 'educator', 'trainer', 'academic advisor']):\n",
        "          return 'Education and Training Roles'\n",
        "      elif any(keyword in title for keyword in ['technician', 'mechanic', 'electrician', 'plumber', 'carpenter', 'welder', 'machinist', 'laborer', 'foreman', 'operator']):\n",
        "          return 'Skilled Trades and Labor'\n",
        "      elif any(keyword in title for keyword in ['designer', 'artist', 'graphic designer', 'creative director', 'art director', 'web designer', 'illustrator', 'photographer', 'stylist']):\n",
        "          return 'Creative and Design Roles'\n",
        "      elif any(keyword in title for keyword in ['accountant', 'auditor', 'financial analyst', 'controller', 'bookkeeper', 'tax preparer', 'finance manager', 'investment analyst']):\n",
        "          return 'Finance and Accounting Roles'\n",
        "      elif any(keyword in title for keyword in ['attorney', 'lawyer', 'paralegal', 'legal assistant', 'compliance officer', 'legal advisor', 'legal secretary']):\n",
        "          return 'Legal and Compliance Roles'\n",
        "      else:\n",
        "          return 'Unknown'\n",
        "\n",
        "  categorize_profession_udf = udf(categorize_profession, StringType())\n",
        "\n",
        "  df_categorized = data.withColumn('emp_title', categorize_profession_udf(col('emp_title')))\n",
        "\n",
        "  indexer = StringIndexer(inputCol='emp_title', outputCol='emp_title_index')\n",
        "  df_indexed = indexer.fit(df_categorized).transform(df_categorized)\n",
        "\n",
        "  encoder = OneHotEncoder(inputCols=['emp_title_index'], outputCols=['emp_title_encoded'])\n",
        "  df_encoded = encoder.fit(df_indexed).transform(df_indexed)\n",
        "  df_encoded = df_encoded.drop('emp_title_index')\n",
        "  df_encoded = df_encoded.drop('emp_title')\n",
        "  return df_encoded"
      ]
    },
    {
      "cell_type": "code",
      "source": [
        "def process_home_ownership(data):\n",
        "    def map_sub_grade(value):\n",
        "        mapping = {\n",
        "            'RENT': 0,\n",
        "            'MORTGAGE': 1,\n",
        "            'OWN': 2,\n",
        "        }\n",
        "        return mapping.get(value, 3)\n",
        "\n",
        "    map_sub_grade_udf = udf(map_sub_grade, IntegerType())\n",
        "\n",
        "    df_encoded = data.withColumn('home_ownership', map_sub_grade_udf(col('home_ownership')))\n",
        "\n",
        "    one_hot_encoder = OneHotEncoder(inputCols=['home_ownership'], outputCols=['home_ownership_encoded'])\n",
        "    df_encoded = one_hot_encoder.fit(df_encoded).transform(df_encoded)\n",
        "    df_encoded = df_encoded.drop('home_ownership')\n",
        "    return df_encoded"
      ],
      "metadata": {
        "id": "pMVKfnY2-bHW"
      },
      "execution_count": null,
      "outputs": []
    },
    {
      "cell_type": "code",
      "source": [
        "def process_verification_status(data):\n",
        "    def map_sub_grade(value):\n",
        "        mapping = {\n",
        "            'Verified': 0,\n",
        "            'Source Verified': 1,\n",
        "            'Not Verified': 2,\n",
        "        }\n",
        "        return mapping.get(value, 3)\n",
        "\n",
        "    map_sub_grade_udf = udf(map_sub_grade, IntegerType())\n",
        "\n",
        "    df_encoded = data.withColumn('verification_status', map_sub_grade_udf(col('verification_status')))\n",
        "\n",
        "    one_hot_encoder = OneHotEncoder(inputCols=['verification_status'], outputCols=['verification_status_encoded'])\n",
        "    df_encoded = one_hot_encoder.fit(df_encoded).transform(df_encoded)\n",
        "    df_encoded = df_encoded.drop('verification_status')\n",
        "    return df_encoded"
      ],
      "metadata": {
        "id": "Ul4erNoRCQl5"
      },
      "execution_count": null,
      "outputs": []
    },
    {
      "cell_type": "code",
      "source": [
        "def process_loan_status(data):\n",
        "    def map_sub_grade(value):\n",
        "        mapping = {\n",
        "            'Fully Paid': 0,\n",
        "            'Charged Off': 1,\n",
        "            'Current': 2,\n",
        "            'In Grace Period': 3,\n",
        "            'Late (16-30 days)': 4,\n",
        "            'Late (31-120 days)': 5,\n",
        "        }\n",
        "        return mapping.get(value, 6)\n",
        "\n",
        "    map_sub_grade_udf = udf(map_sub_grade, IntegerType())\n",
        "\n",
        "    df_encoded = data.withColumn('loan_status', map_sub_grade_udf(col('loan_status')))\n",
        "\n",
        "    one_hot_encoder = OneHotEncoder(inputCols=['loan_status'], outputCols=['loan_status_encoded'])\n",
        "    df_encoded = one_hot_encoder.fit(df_encoded).transform(df_encoded)\n",
        "    df_encoded = df_encoded.drop('loan_status')\n",
        "    return df_encoded"
      ],
      "metadata": {
        "id": "-fTEhHjaCuNE"
      },
      "execution_count": null,
      "outputs": []
    },
    {
      "cell_type": "code",
      "source": [
        "def process_purpose(data):\n",
        "    def map_sub_grade(value):\n",
        "        mapping = {\n",
        "            'wedding': 0,\n",
        "            'educational': 1,\n",
        "            'other': 2,\n",
        "            'small_business': 3,\n",
        "            'debt_consolidation': 4,\n",
        "            'credit_card': 5,\n",
        "            'moving': 6,\n",
        "            'vacation': 7,\n",
        "            'renewable_energy': 8,\n",
        "            'house': 9,\n",
        "            'car': 10,\n",
        "            'major_purchase': 11,\n",
        "            'medical': 12,\n",
        "            'home_improvement': 13\n",
        "        }\n",
        "        return mapping.get(value, 14)\n",
        "\n",
        "    map_sub_grade_udf = udf(map_sub_grade, IntegerType())\n",
        "\n",
        "    df_encoded = data.withColumn('purpose', map_sub_grade_udf(col('purpose')))\n",
        "\n",
        "    one_hot_encoder = OneHotEncoder(inputCols=['purpose'], outputCols=['purpose_encoded'])\n",
        "    df_encoded = one_hot_encoder.fit(df_encoded).transform(df_encoded)\n",
        "    df_encoded = df_encoded.drop('purpose')\n",
        "    return df_encoded"
      ],
      "metadata": {
        "id": "KlJfu7hHCQhH"
      },
      "execution_count": null,
      "outputs": []
    },
    {
      "cell_type": "code",
      "source": [
        "def process_addr_state(data):\n",
        "    def map_sub_grade(value):\n",
        "        mapping = {\n",
        "        'AK': 0,\n",
        "        'AL': 1,\n",
        "        'AR': 2,\n",
        "        'AZ': 3,\n",
        "        'CA': 4,\n",
        "        'CO': 5,\n",
        "        'CT': 6,\n",
        "        'DE': 7,\n",
        "        'FL': 8,\n",
        "        'GA': 9,\n",
        "        'HI': 10,\n",
        "        'IA': 11,\n",
        "        'ID': 12,\n",
        "        'IL': 13,\n",
        "        'IN': 14,\n",
        "        'KS': 15,\n",
        "        'KY': 16,\n",
        "        'LA': 17,\n",
        "        'MA': 18,\n",
        "        'MD': 19,\n",
        "        'ME': 20,\n",
        "        'MI': 21,\n",
        "        'MN': 22,\n",
        "        'MO': 23,\n",
        "        'MS': 24,\n",
        "        'MT': 25,\n",
        "        'NC': 26,\n",
        "        'ND': 27,\n",
        "        'NE': 28,\n",
        "        'NH': 29,\n",
        "        'NJ': 30,\n",
        "        'NM': 31,\n",
        "        'NV': 32,\n",
        "        'NY': 33,\n",
        "        'OH': 34,\n",
        "        'OK': 35,\n",
        "        'OR': 36,\n",
        "        'PA': 37,\n",
        "        'RI': 38,\n",
        "        'SC': 39,\n",
        "        'SD': 40,\n",
        "        'TN': 41,\n",
        "        'TX': 42,\n",
        "        'UT': 43,\n",
        "        'VA': 44,\n",
        "        'VT': 45,\n",
        "        'WA': 46,\n",
        "        'WI': 47,\n",
        "        'WV': 48,\n",
        "        'WY': 49}\n",
        "        return mapping.get(value, 50)\n",
        "\n",
        "    map_sub_grade_udf = udf(map_sub_grade, IntegerType())\n",
        "\n",
        "    df_encoded = data.withColumn('addr_state', map_sub_grade_udf(col('addr_state')))\n",
        "\n",
        "    return df_encoded"
      ],
      "metadata": {
        "id": "JA496RUrCQb0"
      },
      "execution_count": null,
      "outputs": []
    },
    {
      "cell_type": "code",
      "source": [
        "def process_initial_list_status(data):\n",
        "    def map_sub_grade(value):\n",
        "        mapping = {\n",
        "            'f': 0,\n",
        "            'w': 1,\n",
        "        }\n",
        "        return mapping.get(value, 2)\n",
        "\n",
        "    map_sub_grade_udf = udf(map_sub_grade, IntegerType())\n",
        "\n",
        "    df_encoded = data.withColumn('initial_list_status', map_sub_grade_udf(col('initial_list_status')))\n",
        "\n",
        "    one_hot_encoder = OneHotEncoder(inputCols=['initial_list_status'], outputCols=['initial_list_status_encoded'])\n",
        "    df_encoded = one_hot_encoder.fit(df_encoded).transform(df_encoded)\n",
        "    df_encoded = df_encoded.drop('initial_list_status')\n",
        "    return df_encoded"
      ],
      "metadata": {
        "id": "sjCaZpxKF1Hp"
      },
      "execution_count": null,
      "outputs": []
    },
    {
      "cell_type": "code",
      "execution_count": null,
      "metadata": {
        "id": "iCIH44hncEcu"
      },
      "outputs": [],
      "source": [
        "def from_time_to_numeric(data):\n",
        "  lst = ['earliest_cr_line', 'issue_d', 'last_pymnt_d', 'next_pymnt_d', 'last_credit_pull_d']\n",
        "  input_date_format = \"MMM-yyyy\"\n",
        "  for i in lst:\n",
        "      data = data.withColumn(\"date\", to_date(col(i), input_date_format))\n",
        "\n",
        "      data = data.withColumn(f\"month_{i}\", month(col(\"date\")))\n",
        "      data = data.withColumn(f\"year_{i}\", year(col(\"date\")))\n",
        "      data = data.drop('date', i)\n",
        "  return data"
      ]
    },
    {
      "cell_type": "code",
      "execution_count": null,
      "metadata": {
        "id": "R6tP-2nYoY0u"
      },
      "outputs": [],
      "source": [
        "def process_delinq_2yrs(data):\n",
        "    def map_delinq_2yrs(delinq_2yrs):\n",
        "        mapping = {\n",
        "            0: 0,\n",
        "            1: 1,\n",
        "            2: 2,\n",
        "            3: 3,\n",
        "            4: 3\n",
        "        }\n",
        "        return mapping.get(delinq_2yrs, 4)\n",
        "\n",
        "    map_sub_grade_udf = udf(map_delinq_2yrs, IntegerType())\n",
        "\n",
        "    df_encoded = data.withColumn('delinq_2yrs', map_sub_grade_udf(col('delinq_2yrs')))\n",
        "    return df_encoded"
      ]
    },
    {
      "cell_type": "code",
      "execution_count": null,
      "metadata": {
        "id": "sVaBPlnYpeVs"
      },
      "outputs": [],
      "source": [
        "def process_acc_now_delinq(data):\n",
        "    def map_acc_now_delinq(acc_now_delinq):\n",
        "        mapping = {\n",
        "            0: 0\n",
        "        }\n",
        "        return mapping.get(acc_now_delinq, 1)\n",
        "\n",
        "    map_sub_grade_udf = udf(map_acc_now_delinq, IntegerType())\n",
        "\n",
        "    df_encoded = data.withColumn('acc_now_delinq', map_sub_grade_udf(col('acc_now_delinq')))\n",
        "    return df_encoded"
      ]
    },
    {
      "cell_type": "code",
      "execution_count": null,
      "metadata": {
        "id": "DHuMYutg6IAv"
      },
      "outputs": [],
      "source": [
        "def cast_int(data):\n",
        "  for i in data.columns:\n",
        "    if data.select(i).dtypes[0][1] == 'string':\n",
        "        data = data.withColumn(i, col(i).cast('integer'))\n",
        "  return data"
      ]
    },
    {
      "cell_type": "markdown",
      "metadata": {
        "id": "1t-vDHkwRWtG"
      },
      "source": [
        "# **Handle all above transformations.**"
      ]
    },
    {
      "cell_type": "code",
      "execution_count": null,
      "metadata": {
        "id": "oEDsRVeGXMZW"
      },
      "outputs": [],
      "source": [
        "train = drop_rows(train)\n",
        "train = process_term(train)\n",
        "train = process_int_rate(train)\n",
        "train = process_revol_util(train)\n",
        "train = process_emp_length(train)\n",
        "train = process_grade(train)\n",
        "train = process_emp_title(train)\n",
        "train = process_home_ownership(train)\n",
        "train = process_verification_status(train)\n",
        "train = process_loan_status(train)\n",
        "train = process_purpose(train)\n",
        "train = process_addr_state(train)\n",
        "train = process_initial_list_status(train)\n",
        "train = from_time_to_numeric(train)\n",
        "train = process_delinq_2yrs(train)\n",
        "train = process_acc_now_delinq(train)\n",
        "train = cast_int(train)"
      ]
    },
    {
      "cell_type": "markdown",
      "metadata": {
        "id": "wbnLnV7XRhZd"
      },
      "source": [
        "# **Calculate how many null values are in each column.**"
      ]
    },
    {
      "cell_type": "code",
      "execution_count": null,
      "metadata": {
        "id": "NiNLgQPiQb8X"
      },
      "outputs": [],
      "source": [
        "def calculate_nulls(data):\n",
        "    vector_columns = [c for c in data.columns if isinstance(data.schema[c].dataType, VectorUDT)]\n",
        "    null_counts = data.select([count(when(isnan(c) | col(c).isNull(), c)).alias(c) for c in data.columns if c not in vector_columns])\n",
        "    return null_counts"
      ]
    },
    {
      "cell_type": "markdown",
      "metadata": {
        "id": "o40XS7cHRpBl"
      },
      "source": [
        "# **Save train parameters: median, min, max.**"
      ]
    },
    {
      "cell_type": "code",
      "execution_count": null,
      "metadata": {
        "id": "xMH4ks3qiqGX"
      },
      "outputs": [],
      "source": [
        "def save_train_parameters(data: DataFrame, output_path: str) -> DataFrame:\n",
        "    vector_columns = [c for c in data.columns if isinstance(data.schema[c].dataType, VectorUDT)]\n",
        "    non_vector_columns = [c for c in data.columns if c not in vector_columns]\n",
        "\n",
        "    stats_list = []\n",
        "    for col_name in non_vector_columns:\n",
        "        stats = data.select(\n",
        "            expr(f'percentile_approx({col_name}, 0.5)').cast(DoubleType()).alias('median'),\n",
        "            min(col_name).cast(DoubleType()).alias('min'),\n",
        "            max(col_name).cast(DoubleType()).alias('max')\n",
        "        ).collect()[0]\n",
        "\n",
        "        stats_list.append((\n",
        "            col_name,\n",
        "            stats['median'],\n",
        "            stats['min'],\n",
        "            stats['max']\n",
        "        ))\n",
        "        print(f'Column {col_name} processed')\n",
        "\n",
        "    stats_df = data.sparkSession.createDataFrame(\n",
        "        stats_list,\n",
        "        [\"column_name\", \"median\", \"min\", \"max\"]\n",
        "    )\n",
        "\n",
        "    stats_df.show()\n",
        "\n",
        "    stats_df.write.csv(output_path, header=True, mode = 'overwrite')\n",
        "\n",
        "    return stats_df\n"
      ]
    },
    {
      "cell_type": "code",
      "execution_count": null,
      "metadata": {
        "colab": {
          "base_uri": "https://localhost:8080/"
        },
        "id": "QadAq8ME-hX9",
        "outputId": "bd5968c1-cecb-4ed8-e675-e6795ada32f2"
      },
      "outputs": [
        {
          "output_type": "stream",
          "name": "stdout",
          "text": [
            "Column loan_amnt processed\n",
            "Column funded_amnt processed\n",
            "Column funded_amnt_inv processed\n",
            "Column term processed\n",
            "Column int_rate processed\n",
            "Column installment processed\n",
            "Column sub_grade processed\n",
            "Column emp_length processed\n",
            "Column annual_inc processed\n",
            "Column addr_state processed\n",
            "Column dti processed\n",
            "Column fico_range_low processed\n",
            "Column fico_range_high processed\n",
            "Column inq_last_6mths processed\n",
            "Column mths_since_last_record processed\n",
            "Column open_acc processed\n",
            "Column pub_rec processed\n",
            "Column revol_bal processed\n",
            "Column revol_util processed\n",
            "Column total_acc processed\n",
            "Column out_prncp processed\n",
            "Column out_prncp_inv processed\n",
            "Column total_pymnt processed\n",
            "Column total_pymnt_inv processed\n",
            "Column total_rec_prncp processed\n",
            "Column total_rec_int processed\n",
            "Column last_pymnt_amnt processed\n",
            "Column last_fico_range_high processed\n",
            "Column last_fico_range_low processed\n",
            "Column mths_since_last_major_derog processed\n",
            "Column tot_coll_amt processed\n",
            "Column tot_cur_bal processed\n",
            "Column open_acc_6m processed\n",
            "Column open_act_il processed\n",
            "Column open_il_12m processed\n",
            "Column open_il_24m processed\n",
            "Column mths_since_rcnt_il processed\n",
            "Column total_bal_il processed\n",
            "Column il_util processed\n",
            "Column open_rv_12m processed\n",
            "Column open_rv_24m processed\n",
            "Column max_bal_bc processed\n",
            "Column all_util processed\n",
            "Column total_rev_hi_lim processed\n",
            "Column inq_fi processed\n",
            "Column total_cu_tl processed\n",
            "Column inq_last_12m processed\n",
            "Column acc_open_past_24mths processed\n",
            "Column avg_cur_bal processed\n",
            "Column bc_open_to_buy processed\n",
            "Column bc_util processed\n",
            "Column mo_sin_old_il_acct processed\n",
            "Column mo_sin_old_rev_tl_op processed\n",
            "Column mo_sin_rcnt_rev_tl_op processed\n",
            "Column mo_sin_rcnt_tl processed\n",
            "Column mort_acc processed\n",
            "Column mths_since_recent_bc processed\n",
            "Column mths_since_recent_inq processed\n",
            "Column num_accts_ever_120_pd processed\n",
            "Column num_actv_bc_tl processed\n",
            "Column num_actv_rev_tl processed\n",
            "Column num_bc_sats processed\n",
            "Column num_bc_tl processed\n",
            "Column num_il_tl processed\n",
            "Column num_op_rev_tl processed\n",
            "Column num_rev_accts processed\n",
            "Column num_rev_tl_bal_gt_0 processed\n",
            "Column num_sats processed\n",
            "Column num_tl_op_past_12m processed\n",
            "Column percent_bc_gt_75 processed\n",
            "Column pub_rec_bankruptcies processed\n",
            "Column tot_hi_cred_lim processed\n",
            "Column total_bal_ex_mort processed\n",
            "Column total_bc_limit processed\n",
            "Column total_il_high_credit_limit processed\n",
            "Column acc_now_delinq processed\n",
            "Column delinq_2yrs processed\n",
            "Column delinq_amnt processed\n",
            "Column month_earliest_cr_line processed\n",
            "Column year_earliest_cr_line processed\n",
            "Column month_issue_d processed\n",
            "Column year_issue_d processed\n",
            "Column month_last_pymnt_d processed\n",
            "Column year_last_pymnt_d processed\n",
            "Column month_next_pymnt_d processed\n",
            "Column year_next_pymnt_d processed\n",
            "Column month_last_credit_pull_d processed\n",
            "Column year_last_credit_pull_d processed\n",
            "+--------------------+-------+-----+---------+\n",
            "|         column_name| median|  min|      max|\n",
            "+--------------------+-------+-----+---------+\n",
            "|           loan_amnt|13000.0|500.0|  40000.0|\n",
            "|         funded_amnt|13000.0|500.0|  40000.0|\n",
            "|     funded_amnt_inv|13000.0|  0.0|  40000.0|\n",
            "|                term|   36.0| 36.0|     60.0|\n",
            "|            int_rate|   12.0|  5.0|     30.0|\n",
            "|         installment| 381.96| 4.93|  1719.83|\n",
            "|           sub_grade|    9.0|  0.0|     34.0|\n",
            "|          emp_length|    6.0|  1.0|     10.0|\n",
            "|          annual_inc|66000.0|  0.0|    6.1E7|\n",
            "|          addr_state|   22.0|  0.0|     50.0|\n",
            "|                 dti|   18.0| -1.0|    999.0|\n",
            "|      fico_range_low|  695.0|610.0|    845.0|\n",
            "|     fico_range_high|  699.0|614.0|    850.0|\n",
            "|      inq_last_6mths|    0.0|  0.0|    739.0|\n",
            "|mths_since_last_r...|   77.0|  0.0|    129.0|\n",
            "|            open_acc|   11.0|  0.0|    104.0|\n",
            "|             pub_rec|    0.0|  0.0|     86.0|\n",
            "|           revol_bal|11490.0|  0.0|2559552.0|\n",
            "|          revol_util|   12.0|  5.0|     30.0|\n",
            "|           total_acc|   22.0|  1.0|    176.0|\n",
            "+--------------------+-------+-----+---------+\n",
            "only showing top 20 rows\n",
            "\n"
          ]
        },
        {
          "output_type": "execute_result",
          "data": {
            "text/plain": [
              "DataFrame[column_name: string, median: double, min: double, max: double]"
            ]
          },
          "metadata": {},
          "execution_count": 162
        }
      ],
      "source": [
        "save_train_parameters(train, '/content/drive/MyDrive/Bank Project/train_parameters')"
      ]
    },
    {
      "cell_type": "markdown",
      "metadata": {
        "id": "Ec2QrVoLR18t"
      },
      "source": [
        "# **Save data which has all columns integer or vector.**"
      ]
    },
    {
      "cell_type": "code",
      "execution_count": null,
      "metadata": {
        "id": "ZGwUFJ9NAwO9"
      },
      "outputs": [],
      "source": [
        "train.write.parquet('/content/drive/MyDrive/Bank Project/half_processed_train', mode='overwrite')"
      ]
    },
    {
      "cell_type": "code",
      "execution_count": null,
      "metadata": {
        "id": "oGPII5Ei4S8g"
      },
      "outputs": [],
      "source": [
        "train = spark.read.parquet('/content/drive/MyDrive/Bank Project/half_processed_train')"
      ]
    },
    {
      "cell_type": "code",
      "source": [
        "train.show()"
      ],
      "metadata": {
        "colab": {
          "base_uri": "https://localhost:8080/"
        },
        "id": "5aLNdlOIpP3H",
        "outputId": "04ec7ccc-4c31-44bc-b0d8-f5988a82fb8a"
      },
      "execution_count": null,
      "outputs": [
        {
          "output_type": "stream",
          "name": "stdout",
          "text": [
            "+---------+-----------+---------------+----+--------+-----------+---------+----------+----------+----------+---+--------------+---------------+--------------+----------------------+--------+-------+---------+----------+---------+---------+-------------+----------------+---------------+---------------+-------------+---------------+--------------------+-------------------+---------------------------+------------+-----------+-----------+-----------+-----------+-----------+------------------+------------+-------+-----------+-----------+----------+--------+----------------+------+-----------+------------+--------------------+-----------+--------------+-------+------------------+--------------------+---------------------+--------------+--------+--------------------+---------------------+---------------------+--------------+---------------+-----------+---------+---------+-------------+-------------+-------------------+--------+------------------+----------------+--------------------+---------------+-----------------+--------------+--------------------------+--------------+-----------+-----------+-----------------+----------------------+---------------------------+-------------------+---------------+---------------------------+----------------------+---------------------+-------------+------------+------------------+-----------------+------------------+-----------------+------------------------+-----------------------+\n",
            "|loan_amnt|funded_amnt|funded_amnt_inv|term|int_rate|installment|sub_grade|emp_length|annual_inc|addr_state|dti|fico_range_low|fico_range_high|inq_last_6mths|mths_since_last_record|open_acc|pub_rec|revol_bal|revol_util|total_acc|out_prncp|out_prncp_inv|     total_pymnt|total_pymnt_inv|total_rec_prncp|total_rec_int|last_pymnt_amnt|last_fico_range_high|last_fico_range_low|mths_since_last_major_derog|tot_coll_amt|tot_cur_bal|open_acc_6m|open_act_il|open_il_12m|open_il_24m|mths_since_rcnt_il|total_bal_il|il_util|open_rv_12m|open_rv_24m|max_bal_bc|all_util|total_rev_hi_lim|inq_fi|total_cu_tl|inq_last_12m|acc_open_past_24mths|avg_cur_bal|bc_open_to_buy|bc_util|mo_sin_old_il_acct|mo_sin_old_rev_tl_op|mo_sin_rcnt_rev_tl_op|mo_sin_rcnt_tl|mort_acc|mths_since_recent_bc|mths_since_recent_inq|num_accts_ever_120_pd|num_actv_bc_tl|num_actv_rev_tl|num_bc_sats|num_bc_tl|num_il_tl|num_op_rev_tl|num_rev_accts|num_rev_tl_bal_gt_0|num_sats|num_tl_op_past_12m|percent_bc_gt_75|pub_rec_bankruptcies|tot_hi_cred_lim|total_bal_ex_mort|total_bc_limit|total_il_high_credit_limit|acc_now_delinq|delinq_2yrs|delinq_amnt|emp_title_encoded|home_ownership_encoded|verification_status_encoded|loan_status_encoded|purpose_encoded|initial_list_status_encoded|month_earliest_cr_line|year_earliest_cr_line|month_issue_d|year_issue_d|month_last_pymnt_d|year_last_pymnt_d|month_next_pymnt_d|year_next_pymnt_d|month_last_credit_pull_d|year_last_credit_pull_d|\n",
            "+---------+-----------+---------------+----+--------+-----------+---------+----------+----------+----------+---+--------------+---------------+--------------+----------------------+--------+-------+---------+----------+---------+---------+-------------+----------------+---------------+---------------+-------------+---------------+--------------------+-------------------+---------------------------+------------+-----------+-----------+-----------+-----------+-----------+------------------+------------+-------+-----------+-----------+----------+--------+----------------+------+-----------+------------+--------------------+-----------+--------------+-------+------------------+--------------------+---------------------+--------------+--------+--------------------+---------------------+---------------------+--------------+---------------+-----------+---------+---------+-------------+-------------+-------------------+--------+------------------+----------------+--------------------+---------------+-----------------+--------------+--------------------------+--------------+-----------+-----------+-----------------+----------------------+---------------------------+-------------------+---------------+---------------------------+----------------------+---------------------+-------------+------------+------------------+-----------------+------------------+-----------------+------------------------+-----------------------+\n",
            "|    24000|      24000|        24000.0|  36|      16|     855.07|       13|        10|     60000|        20| 20|           700|            704|             1|                  NULL|      11|      0|    24126|        16|       20|    20287|     20287.29|         5962.89|        5962.89|        3712.71|      2250.18|            855|                 719|                715|                         80|           0|     161515|          0|          2|          0|          1|                15|       18940|     70|          0|          1|      5336|      72|           33100|     0|          2|           3|                   2|      14683|          2380|   88.0|               250|                  66|                   22|            15|       2|                  42|                    5|                    2|             4|              8|          4|        4|       10|            8|            8|                  8|      11|                 0|           100.0|                   0|         188838|            43066|         19800|                     27029|             0|          0|          0|       (10,[],[])|         (3,[1],[1.0])|              (3,[0],[1.0])|      (6,[3],[1.0])| (14,[5],[1.0])|              (2,[1],[1.0])|                    11|                 1998|            9|        2019|                 5|             2020|                 6|             2020|                       5|                   2020|\n",
            "|    16000|      16000|        16000.0|  60|      12|     359.16|        8|         5|     67500|        47| 26|           710|            714|             1|                  NULL|      32|      0|    17079|        12|       74|    13537|     13537.23|         4287.88|        4287.88|        2462.77|      1825.11|              0|                 674|                670|                       NULL|           0|     296847|          1|         20|          2|          4|                 6|      115852|    104|          0|          1|      6211|      89|           37700|     1|          0|           5|                   8|       9276|         12888|   47.2|               156|                 144|                   23|             6|       5|                  23|                    0|                    0|             3|              6|          5|        8|       55|           11|           14|                  6|      32|                 2|            60.0|                   0|         330446|           132931|         24400|                    111246|             0|          0|          0|   (10,[2],[1.0])|         (3,[1],[1.0])|              (3,[1],[1.0])|      (6,[2],[1.0])| (14,[4],[1.0])|              (2,[1],[1.0])|                     3|                 2006|            3|        2019|                 5|             2020|                 7|             2020|                       5|                   2020|\n",
            "|     4000|       4000|         4000.0|  36|       6|     123.46|        2|         2|     94500|        13| 10|           720|            724|             0|                  NULL|       9|      0|     3532|         6|       23|        0|          0.0|  4441.201727622|         4441.2|         4000.0|        441.2|            123|                 714|                710|                       NULL|        2070|      15723|          1|          3|          1|          2|                12|       12191|     39|          3|          4|      2728|      27|           27800|     0|          2|           7|                   6|       1747|         24268|   12.7|               226|                 255|                    3|             3|       1|                   3|                    0|                    0|             4|              4|          6|       11|        7|            6|           15|                  4|       9|                 4|             0.0|                   0|          59233|            15723|         27800|                     31433|             0|          0|          0|   (10,[1],[1.0])|         (3,[0],[1.0])|              (3,[1],[1.0])|      (6,[0],[1.0])|(14,[10],[1.0])|              (2,[1],[1.0])|                    12|                 1994|            3|        2016|                 4|             2019|              NULL|             NULL|                      11|                   2019|\n",
            "|    13500|      13500|        13500.0|  36|       6|     413.52|        0|        10|     27000|        13| 29|           795|            799|             0|                  NULL|       9|      0|     9952|         6|       23|     9648|      9648.13|         4539.03|        4539.03|        3851.87|       687.16|            413|                 804|                800|                       NULL|           0|      84148|          0|          3|          0|          1|                17|       10020|     48|          0|          0|      9552|      36|           35100|     0|          0|           0|                   1|       9350|         20948|   31.3|               275|                 286|                   68|            17|       2|                  83|                 NULL|                    0|             1|              2|          2|        4|        7|            5|           14|                  2|       9|                 0|             0.0|                   0|         127528|            19972|         30500|                     21000|             0|          0|          0|   (10,[0],[1.0])|         (3,[1],[1.0])|              (3,[0],[1.0])|      (6,[2],[1.0])| (14,[5],[1.0])|              (2,[1],[1.0])|                     8|                 1995|            6|        2019|                 5|             2020|                 6|             2020|                       5|                   2020|\n",
            "|    21075|      21075|        21075.0|  60|      21|     581.95|       24|        10|     55000|        13| 29|           690|            694|             0|                  NULL|      14|      0|    15955|        21|       21|        0|          0.0|34852.4956372544|        34852.5|        21075.0|      13777.5|            581|                 699|                695|                       NULL|           0|     262274|       NULL|       NULL|       NULL|       NULL|              NULL|        NULL|   NULL|       NULL|       NULL|      NULL|    NULL|           18000|  NULL|       NULL|        NULL|                   0|      20175|          1468|   91.0|               160|                 205|                   30|            30|       1|                  30|                   10|                    2|             3|              4|          3|        6|        7|            5|           11|                  4|      14|                 0|           100.0|                   0|         300308|            62443|         16300|                     55441|             0|          0|          0|   (10,[9],[1.0])|         (3,[1],[1.0])|              (3,[1],[1.0])|      (6,[0],[1.0])| (14,[4],[1.0])|              (2,[0],[1.0])|                    11|                 1987|           12|        2014|                12|             2019|              NULL|             NULL|                       1|                   2020|\n",
            "|    10000|      10000|        10000.0|  36|       7|     311.02|        3|         4|     85000|        18| 17|           750|            754|             0|                  NULL|      12|      0|     7668|         7|       26|        0|          0.0|11068.3970224134|        11068.4|        10000.0|       1068.4|           2307|                 809|                805|                       NULL|           0|      52149|          0|          9|          0|          1|                16|       44481|     62|          0|          1|      7668|      59|           15800|     1|          0|           0|                   2|       4346|          8132|   48.5|               119|                 111|                   24|            16|       0|                  24|                   17|                    0|             1|              1|          3|        3|       23|            3|            3|                  1|      12|                 0|             0.0|                   0|          88045|            52149|         15800|                     72245|             0|          0|          0|   (10,[1],[1.0])|         (3,[0],[1.0])|              (3,[2],[1.0])|      (6,[0],[1.0])| (14,[4],[1.0])|              (2,[0],[1.0])|                     4|                 2007|            3|        2017|                 6|             2019|              NULL|             NULL|                       6|                   2019|\n",
            "|     2000|       2000|         2000.0|  36|      14|      69.33|       14|         8|     32200|        33| 22|           670|            674|             0|                    95|      10|      1|     9544|        14|       21|        0|          0.0|         2101.52|        2101.52|         2000.0|       101.52|           1897|                 649|                645|                       NULL|           0|      20539|       NULL|       NULL|       NULL|       NULL|              NULL|        NULL|   NULL|       NULL|       NULL|      NULL|    NULL|           15300|  NULL|       NULL|        NULL|                   6|       2054|          3636|   72.2|                27|                 219|                    8|             4|       0|                   8|                   14|                    0|             5|              6|          6|       10|        4|            8|           17|                  6|      10|                 4|            83.3|                   1|          27300|            20539|         13100|                     12000|             0|          0|          0|   (10,[4],[1.0])|         (3,[0],[1.0])|              (3,[2],[1.0])|      (6,[0],[1.0])| (14,[5],[1.0])|              (2,[0],[1.0])|                     9|                 1996|           12|        2014|                 5|             2015|              NULL|             NULL|                      10|                   2019|\n",
            "|     8800|       8800|         8800.0|  36|       9|     283.13|        7|        10|     92000|        21|  5|           665|            669|             1|                  NULL|       9|      0|     9195|         9|       24|        0|          0.0|  9852.877877179|        9852.88|         8800.0|      1052.88|           4768|                 709|                705|                       NULL|           0|     105650|          1|          1|          0|          0|                35|         921|     15|          2|          5|      3818|      56|           12000|     0|          2|           3|                   8|      11739|           445|   94.8|               102|                 169|                    6|             6|       2|                   9|                    6|                    0|             3|              5|          3|       11|        6|            6|           15|                  5|       9|                 2|           100.0|                   0|         116292|            10116|          8500|                      6000|             0|          0|          0|   (10,[4],[1.0])|         (3,[1],[1.0])|              (3,[1],[1.0])|      (6,[0],[1.0])| (14,[5],[1.0])|              (2,[1],[1.0])|                    11|                 2001|           12|        2015|                 8|             2017|              NULL|             NULL|                       8|                   2017|\n",
            "|     9000|       9000|         9000.0|  36|       9|     288.05|        5|        10|     72000|        21|  3|           695|            699|             1|                  NULL|      12|      0|     1154|         9|       40|     1129|      1129.66|         9208.16|        9208.16|        7870.34|      1337.82|            288|                 709|                705|                         18|           0|     185410|          1|         10|          0|          0|                81|       38930|    132|          1|          1|      1154|     123|            3000|     1|          0|           1|                   1|      15451|          1846|   38.5|               216|                 137|                    6|             6|       1|                   6|                    6|                   14|             1|              1|          1|        8|       23|            1|           15|                  1|      12|                 1|             0.0|                   0|         190355|            40084|          3000|                     29481|             0|          3|          0|   (10,[3],[1.0])|         (3,[1],[1.0])|              (3,[2],[1.0])|      (6,[2],[1.0])|(14,[11],[1.0])|              (2,[1],[1.0])|                     9|                 1999|            9|        2017|                 5|             2020|                 6|             2020|                       5|                   2020|\n",
            "|    32000|      32000|        32000.0|  36|      13|    1093.53|       12|        10|    110000|        18| 17|           705|            709|             0|                  NULL|       9|      0|    40816|        13|       15|        0|          0.0|39339.8498137895|       39339.85|        32000.0|      7339.85|           2193|                 709|                705|                       NULL|           0|     216674|          1|          3|          0|          1|                14|       25826|     51|          1|          2|      6159|      72|           42200|     0|          2|           0|                   3|      24075|           781|   95.5|                98|                 289|                    3|             3|       1|                   3|                 NULL|                    0|             4|              5|          4|        7|        4|            5|           10|                  5|       9|                 1|            75.0|                   0|         283160|            66642|         17200|                     50960|             0|          0|          0|   (10,[0],[1.0])|         (3,[1],[1.0])|              (3,[0],[1.0])|      (6,[0],[1.0])| (14,[4],[1.0])|              (2,[0],[1.0])|                     5|                 1992|            6|        2016|                 6|             2019|              NULL|             NULL|                       5|                   2020|\n",
            "|    10000|      10000|        10000.0|  60|      13|     232.58|       10|         5|     25000|        33| 27|           700|            704|             0|                  NULL|      13|      0|     5394|        13|       22|        0|          0.0|          4068.3|         4068.3|        1619.02|      1404.23|            232|                 574|                570|                       NULL|           0|      24419|       NULL|       NULL|       NULL|       NULL|              NULL|        NULL|   NULL|       NULL|       NULL|      NULL|    NULL|           11500|  NULL|       NULL|        NULL|                   6|       1878|           701|   76.6|               101|                 118|                   13|            13|       0|                  17|                   14|                    0|             1|              2|          1|        2|       14|            5|            8|                  2|      13|                 0|           100.0|                   0|          40142|            24419|          3000|                     28642|             0|          0|          0|   (10,[0],[1.0])|         (3,[0],[1.0])|              (3,[1],[1.0])|      (6,[1],[1.0])| (14,[4],[1.0])|              (2,[0],[1.0])|                     2|                 2004|           12|        2013|                 2|             2015|              NULL|             NULL|                      10|                   2016|\n",
            "|    12000|      12000|        12000.0|  36|      16|     427.78|       15|      NULL|     30000|        46|  9|           665|            669|             0|                    72|       3|      3|     8862|        16|        5|        0|          0.0|14188.8074239509|       14188.81|        12000.0|      2188.81|           8228|                 799|                795|                       NULL|           0|       8862|          1|          0|          0|          0|              NULL|           0|   NULL|          2|          2|      8617|      38|           23200|     0|          0|           2|                   2|       2954|         14338|   38.2|              NULL|                 241|                    0|             0|       0|                   0|                   10|                    0|             3|              3|          3|        4|        0|            3|            5|                  3|       3|                 2|             0.0|                   0|          23200|             8862|         23200|                         0|             0|          0|          0|   (10,[0],[1.0])|         (3,[0],[1.0])|              (3,[2],[1.0])|      (6,[0],[1.0])| (14,[5],[1.0])|              (2,[1],[1.0])|                    11|                 1996|           12|        2016|                 4|             2018|              NULL|             NULL|                      11|                   2019|\n",
            "|    10000|      10000|        10000.0|  36|      11|      332.1|        7|        10|     41000|        37| 25|           695|            699|             1|                    98|      10|      1|    12409|        11|       16|        0|          0.0|        11719.93|       11719.93|        10000.0|      1719.93|           4395|                 689|                685|                       NULL|           0|      50865|       NULL|       NULL|       NULL|       NULL|              NULL|        NULL|   NULL|       NULL|       NULL|      NULL|    NULL|           19100|  NULL|       NULL|        NULL|                   3|       5652|          1658|   74.1|               137|                  86|                    5|             5|       2|                  27|                    5|                    0|             3|              7|          3|        5|        3|            7|            9|                  7|      10|                 2|            66.7|                   1|          85580|            29894|          6400|                     21480|             0|          0|          0|   (10,[0],[1.0])|         (3,[1],[1.0])|              (3,[2],[1.0])|      (6,[0],[1.0])| (14,[4],[1.0])|              (2,[1],[1.0])|                     7|                 2001|           12|        2013|                12|             2015|              NULL|             NULL|                       5|                   2020|\n",
            "|     2000|       2000|         2000.0|  36|      13|      67.87|       11|         2|     40000|        34| 25|           690|            694|             1|                  NULL|      19|      0|     9079|        13|       24|        0|          0.0| 2313.8763799293|        2313.88|         2000.0|       313.88|           1230|                 624|                620|                       NULL|           0|      59901|          2|          9|          0|          1|                21|       50822|     92|          3|          6|      4700|      73|           26800|     0|          1|           1|                   7|       3328|          8058|   51.5|                69|                  66|                    2|             2|       0|                   2|                    2|                    0|             3|              6|          4|        6|       10|           10|           14|                  6|      19|                 3|            50.0|                   0|          82372|            59901|         16600|                     55572|             0|          0|          0|   (10,[4],[1.0])|         (3,[0],[1.0])|              (3,[1],[1.0])|      (6,[0],[1.0])| (14,[2],[1.0])|              (2,[1],[1.0])|                     9|                 2010|            6|        2016|                12|             2017|              NULL|             NULL|                       3|                   2019|\n",
            "|     3000|       3000|         3000.0|  36|       8|      94.28|        3|         2|     36766|        26|  0|           730|            734|             0|                  NULL|       9|      0|     2159|         8|       21|        0|          0.0| 3030.4513027008|        3030.45|         3000.0|        30.45|           3033|                 719|                715|                       NULL|          66|       2159|          1|          0|          0|          0|                61|           0|   NULL|          3|          7|      2159|       9|           23200|     0|          0|           0|                   7|        240|         16841|   11.4|                64|                  69|                    5|             5|       0|                   5|                 NULL|                    0|             1|              1|          5|        6|        2|            9|           19|                  1|       9|                 3|             0.0|                   0|          23200|             2159|         19000|                         0|             0|          0|          0|   (10,[4],[1.0])|         (3,[1],[1.0])|              (3,[2],[1.0])|      (6,[0],[1.0])| (14,[2],[1.0])|              (2,[1],[1.0])|                     9|                 2013|            6|        2019|                 7|             2019|              NULL|             NULL|                       8|                   2019|\n",
            "|     6825|       6825|         6825.0|  36|      15|     239.92|       16|         1|     19000|         8| 26|           730|            734|             0|                  NULL|       7|      0|     5514|        15|        9|        0|          0.0|         6881.32|        6881.32|         6825.0|        56.32|           6890|                 729|                725|                       NULL|           0|      15894|       NULL|       NULL|       NULL|       NULL|              NULL|        NULL|   NULL|       NULL|       NULL|      NULL|    NULL|           21000|  NULL|       NULL|        NULL|                   3|       2271|         13074|   27.4|                 4|                  45|                    9|             4|       0|                   9|                    4|                    0|             2|              3|          4|        5|        1|            6|            8|                  3|       7|                 2|             0.0|                   0|          41128|            15894|         18000|                     20128|             0|          0|          0|   (10,[3],[1.0])|         (3,[0],[1.0])|              (3,[2],[1.0])|      (6,[0],[1.0])| (14,[4],[1.0])|              (2,[0],[1.0])|                     3|                 2011|           12|        2014|                 1|             2015|              NULL|             NULL|                       6|                   2016|\n",
            "|    25000|      25000|        25000.0|  60|      10|     533.52|        3|         7|    140000|        13| 23|           705|            709|             0|                  NULL|      12|      0|    47048|        10|       30|    24071|     24071.29|         1586.41|        1586.41|         928.71|        657.7|            533|                 739|                735|                       NULL|           0|     448412|          0|          3|          0|          2|                20|       66559|     45|          1|          3|     19757|      58|           67500|     1|          4|           2|                   5|      37368|         12333|   78.8|               133|                 280|                   10|            10|       6|                  10|                    3|                    0|             6|              7|          6|        8|        9|            8|           15|                  7|      12|                 1|            83.3|                   0|         524913|           113607|         58200|                    110663|             0|          0|          0|   (10,[0],[1.0])|         (3,[1],[1.0])|              (3,[2],[1.0])|      (6,[2],[1.0])| (14,[5],[1.0])|              (2,[1],[1.0])|                     2|                 1997|            6|        2020|                10|             2020|                11|             2020|                      10|                   2020|\n",
            "|    10000|      10000|        10000.0|  36|      17|     360.23|       14|        10|     54000|        13| 21|           685|            689|             1|                  NULL|       9|      0|     8608|        17|       16|     9204|      9204.39|         1426.14|        1426.14|         795.61|       630.53|            360|                 709|                705|                         19|           0|      23689|          0|          2|          1|          1|                 8|       15081|     50|          0|          0|      2697|      47|           20000|     1|          2|           2|                   1|       2632|          9019|   48.8|                58|                 306|                   25|             8|       0|                  36|                    1|                    2|             4|              5|          5|        7|        3|            7|           13|                  5|       9|                 1|            40.0|                   0|          50496|            23689|         17600|                     30496|             0|          3|          0|   (10,[4],[1.0])|         (3,[0],[1.0])|              (3,[1],[1.0])|      (6,[2],[1.0])| (14,[4],[1.0])|              (2,[0],[1.0])|                     6|                 1994|           12|        2019|                 5|             2020|                 6|             2020|                       5|                   2020|\n",
            "|    19000|      19000|        19000.0|  60|      14|     450.52|       14|         9|     75000|        33| 13|           665|            669|             2|                  NULL|      15|      0|    17771|        14|       34|        0|          0.0|21165.0373511115|       21165.04|        19000.0|      2165.04|          10797|                 779|                775|                       NULL|           0|      72043|          2|          2|          0|          1|                13|       30388|     83|          3|          6|      2724|      75|           27900|     0|          4|           2|                   9|       5146|           884|   88.2|               151|                 186|                    1|             1|       3|                   3|                    1|                    1|             4|             10|          4|        6|       13|           12|           18|                 10|      15|                 4|           100.0|                   0|          94620|            48159|          7500|                     36720|             0|          0|          0|   (10,[2],[1.0])|         (3,[2],[1.0])|              (3,[2],[1.0])|      (6,[0],[1.0])| (14,[5],[1.0])|              (2,[1],[1.0])|                     6|                 2000|           12|        2015|                 2|             2017|              NULL|             NULL|                       2|                   2018|\n",
            "|    21000|      21000|        21000.0|  36|      13|     714.37|       12|         2|    127500|        49| 27|           660|            664|             1|                  NULL|      12|      0|    15125|        13|       36|        0|          0.0|        17934.32|       17934.32|        9431.56|       3395.2|            714|                 519|                515|                       NULL|         128|     310152|          0|          4|          2|          3|                 7|       80623|     58|          1|          2|      4896|      65|           17600|     6|          8|          10|                   5|      25846|           156|   97.9|               137|                 277|                   10|             7|       5|                  24|                    0|                    0|             2|              7|          2|        4|       15|            7|           16|                  7|      12|                 3|           100.0|                   0|         345011|            95748|          7300|                    103261|             0|          2|          0|   (10,[1],[1.0])|         (3,[1],[1.0])|              (3,[2],[1.0])|      (6,[1],[1.0])| (14,[4],[1.0])|              (2,[1],[1.0])|                     2|                 1993|            3|        2016|                10|             2017|              NULL|             NULL|                       5|                   2020|\n",
            "+---------+-----------+---------------+----+--------+-----------+---------+----------+----------+----------+---+--------------+---------------+--------------+----------------------+--------+-------+---------+----------+---------+---------+-------------+----------------+---------------+---------------+-------------+---------------+--------------------+-------------------+---------------------------+------------+-----------+-----------+-----------+-----------+-----------+------------------+------------+-------+-----------+-----------+----------+--------+----------------+------+-----------+------------+--------------------+-----------+--------------+-------+------------------+--------------------+---------------------+--------------+--------+--------------------+---------------------+---------------------+--------------+---------------+-----------+---------+---------+-------------+-------------+-------------------+--------+------------------+----------------+--------------------+---------------+-----------------+--------------+--------------------------+--------------+-----------+-----------+-----------------+----------------------+---------------------------+-------------------+---------------+---------------------------+----------------------+---------------------+-------------+------------+------------------+-----------------+------------------+-----------------+------------------------+-----------------------+\n",
            "only showing top 20 rows\n",
            "\n"
          ]
        }
      ]
    },
    {
      "cell_type": "markdown",
      "metadata": {
        "id": "r6hmadlMSEm0"
      },
      "source": [
        "# **How many null values are in each column.**"
      ]
    },
    {
      "cell_type": "code",
      "execution_count": null,
      "metadata": {
        "colab": {
          "base_uri": "https://localhost:8080/"
        },
        "id": "27H_BFy6hZEK",
        "outputId": "10553426-fe22-49ac-8faa-bed0b28d4d0f"
      },
      "outputs": [
        {
          "output_type": "stream",
          "name": "stdout",
          "text": [
            "+---------+-----------+---------------+----+--------+-----------+---------+----------+----------+----------+----+--------------+---------------+--------------+----------------------+--------+-------+---------+----------+---------+---------+-------------+-----------+---------------+---------------+-------------+---------------+--------------------+-------------------+---------------------------+------------+-----------+-----------+-----------+-----------+-----------+------------------+------------+-------+-----------+-----------+----------+--------+----------------+------+-----------+------------+--------------------+-----------+--------------+-------+------------------+--------------------+---------------------+--------------+--------+--------------------+---------------------+---------------------+--------------+---------------+-----------+---------+---------+-------------+-------------+-------------------+--------+------------------+----------------+--------------------+---------------+-----------------+--------------+--------------------------+--------------+-----------+-----------+----------------------+---------------------+-------------+------------+------------------+-----------------+------------------+-----------------+------------------------+-----------------------+\n",
            "|loan_amnt|funded_amnt|funded_amnt_inv|term|int_rate|installment|sub_grade|emp_length|annual_inc|addr_state| dti|fico_range_low|fico_range_high|inq_last_6mths|mths_since_last_record|open_acc|pub_rec|revol_bal|revol_util|total_acc|out_prncp|out_prncp_inv|total_pymnt|total_pymnt_inv|total_rec_prncp|total_rec_int|last_pymnt_amnt|last_fico_range_high|last_fico_range_low|mths_since_last_major_derog|tot_coll_amt|tot_cur_bal|open_acc_6m|open_act_il|open_il_12m|open_il_24m|mths_since_rcnt_il|total_bal_il|il_util|open_rv_12m|open_rv_24m|max_bal_bc|all_util|total_rev_hi_lim|inq_fi|total_cu_tl|inq_last_12m|acc_open_past_24mths|avg_cur_bal|bc_open_to_buy|bc_util|mo_sin_old_il_acct|mo_sin_old_rev_tl_op|mo_sin_rcnt_rev_tl_op|mo_sin_rcnt_tl|mort_acc|mths_since_recent_bc|mths_since_recent_inq|num_accts_ever_120_pd|num_actv_bc_tl|num_actv_rev_tl|num_bc_sats|num_bc_tl|num_il_tl|num_op_rev_tl|num_rev_accts|num_rev_tl_bal_gt_0|num_sats|num_tl_op_past_12m|percent_bc_gt_75|pub_rec_bankruptcies|tot_hi_cred_lim|total_bal_ex_mort|total_bc_limit|total_il_high_credit_limit|acc_now_delinq|delinq_2yrs|delinq_amnt|month_earliest_cr_line|year_earliest_cr_line|month_issue_d|year_issue_d|month_last_pymnt_d|year_last_pymnt_d|month_next_pymnt_d|year_next_pymnt_d|month_last_credit_pull_d|year_last_credit_pull_d|\n",
            "+---------+-----------+---------------+----+--------+-----------+---------+----------+----------+----------+----+--------------+---------------+--------------+----------------------+--------+-------+---------+----------+---------+---------+-------------+-----------+---------------+---------------+-------------+---------------+--------------------+-------------------+---------------------------+------------+-----------+-----------+-----------+-----------+-----------+------------------+------------+-------+-----------+-----------+----------+--------+----------------+------+-----------+------------+--------------------+-----------+--------------+-------+------------------+--------------------+---------------------+--------------+--------+--------------------+---------------------+---------------------+--------------+---------------+-----------+---------+---------+-------------+-------------+-------------------+--------+------------------+----------------+--------------------+---------------+-----------------+--------------+--------------------------+--------------+-----------+-----------+----------------------+---------------------+-------------+------------+------------------+-----------------+------------------+-----------------+------------------------+-----------------------+\n",
            "|        0|          0|              0|   0|       0|          0|        0|    164033|         1|         0|2500|             2|              0|             1|               1998030|       1|      0|        0|         0|        2|        2|            0|          0|              0|              0|            0|              2|                   2|                  0|                    1760961|       56157|      56158|     692767|     692767|     692767|     692767|            740908|      692767| 925248|     692767|     692767|    692767|  693042|           56159|692766|     692768|      692768|               40033|      56243|         66199|  67385|            124289|               56159|                56159|         56158|   40032|               64652|               297022|                56159|         56158|          56158|      46848|    56158|    56158|        56158|        56158|              56158|   46848|             56158|           66592|                1081|          56157|            40032|         40032|                     56158|             0|          0|          0|                     2|                    2|            1|           1|              3952|             3952|           1487915|          1487915|                      63|                     63|\n",
            "+---------+-----------+---------------+----+--------+-----------+---------+----------+----------+----------+----+--------------+---------------+--------------+----------------------+--------+-------+---------+----------+---------+---------+-------------+-----------+---------------+---------------+-------------+---------------+--------------------+-------------------+---------------------------+------------+-----------+-----------+-----------+-----------+-----------+------------------+------------+-------+-----------+-----------+----------+--------+----------------+------+-----------+------------+--------------------+-----------+--------------+-------+------------------+--------------------+---------------------+--------------+--------+--------------------+---------------------+---------------------+--------------+---------------+-----------+---------+---------+-------------+-------------+-------------------+--------+------------------+----------------+--------------------+---------------+-----------------+--------------+--------------------------+--------------+-----------+-----------+----------------------+---------------------+-------------+------------+------------------+-----------------+------------------+-----------------+------------------------+-----------------------+\n",
            "\n"
          ]
        }
      ],
      "source": [
        "calculate_nulls(train).show()"
      ]
    },
    {
      "cell_type": "markdown",
      "metadata": {
        "id": "8vVmg4EVJOhh"
      },
      "source": [
        "# **Fill missing values for train data**"
      ]
    },
    {
      "cell_type": "code",
      "execution_count": null,
      "metadata": {
        "id": "yo436F4uligf"
      },
      "outputs": [],
      "source": [
        "target = ['acc_now_delinq', 'acc_now_delinq', 'delinq_amnt']"
      ]
    },
    {
      "cell_type": "markdown",
      "metadata": {
        "id": "Qd2XP2mZSM7W"
      },
      "source": [
        "# **Drop all null values which are in target.**"
      ]
    },
    {
      "cell_type": "code",
      "execution_count": null,
      "metadata": {
        "id": "SoXyxo6sHwlf"
      },
      "outputs": [],
      "source": [
        "train = train.dropna(subset=target)"
      ]
    },
    {
      "cell_type": "code",
      "execution_count": null,
      "metadata": {
        "colab": {
          "base_uri": "https://localhost:8080/"
        },
        "id": "2j6Ldtyrl_bi",
        "outputId": "965eb779-0300-4a41-cb31-878e9bb85eae"
      },
      "outputs": [
        {
          "output_type": "stream",
          "name": "stdout",
          "text": [
            "+---------+-----------+---------------+----+--------+-----------+---------+----------+----------+----------+----+--------------+---------------+--------------+----------------------+--------+-------+---------+----------+---------+---------+-------------+-----------+---------------+---------------+-------------+---------------+--------------------+-------------------+---------------------------+------------+-----------+-----------+-----------+-----------+-----------+------------------+------------+-------+-----------+-----------+----------+--------+----------------+------+-----------+------------+--------------------+-----------+--------------+-------+------------------+--------------------+---------------------+--------------+--------+--------------------+---------------------+---------------------+--------------+---------------+-----------+---------+---------+-------------+-------------+-------------------+--------+------------------+----------------+--------------------+---------------+-----------------+--------------+--------------------------+--------------+-----------+-----------+----------------------+---------------------+-------------+------------+------------------+-----------------+------------------+-----------------+------------------------+-----------------------+\n",
            "|loan_amnt|funded_amnt|funded_amnt_inv|term|int_rate|installment|sub_grade|emp_length|annual_inc|addr_state| dti|fico_range_low|fico_range_high|inq_last_6mths|mths_since_last_record|open_acc|pub_rec|revol_bal|revol_util|total_acc|out_prncp|out_prncp_inv|total_pymnt|total_pymnt_inv|total_rec_prncp|total_rec_int|last_pymnt_amnt|last_fico_range_high|last_fico_range_low|mths_since_last_major_derog|tot_coll_amt|tot_cur_bal|open_acc_6m|open_act_il|open_il_12m|open_il_24m|mths_since_rcnt_il|total_bal_il|il_util|open_rv_12m|open_rv_24m|max_bal_bc|all_util|total_rev_hi_lim|inq_fi|total_cu_tl|inq_last_12m|acc_open_past_24mths|avg_cur_bal|bc_open_to_buy|bc_util|mo_sin_old_il_acct|mo_sin_old_rev_tl_op|mo_sin_rcnt_rev_tl_op|mo_sin_rcnt_tl|mort_acc|mths_since_recent_bc|mths_since_recent_inq|num_accts_ever_120_pd|num_actv_bc_tl|num_actv_rev_tl|num_bc_sats|num_bc_tl|num_il_tl|num_op_rev_tl|num_rev_accts|num_rev_tl_bal_gt_0|num_sats|num_tl_op_past_12m|percent_bc_gt_75|pub_rec_bankruptcies|tot_hi_cred_lim|total_bal_ex_mort|total_bc_limit|total_il_high_credit_limit|acc_now_delinq|delinq_2yrs|delinq_amnt|month_earliest_cr_line|year_earliest_cr_line|month_issue_d|year_issue_d|month_last_pymnt_d|year_last_pymnt_d|month_next_pymnt_d|year_next_pymnt_d|month_last_credit_pull_d|year_last_credit_pull_d|\n",
            "+---------+-----------+---------------+----+--------+-----------+---------+----------+----------+----------+----+--------------+---------------+--------------+----------------------+--------+-------+---------+----------+---------+---------+-------------+-----------+---------------+---------------+-------------+---------------+--------------------+-------------------+---------------------------+------------+-----------+-----------+-----------+-----------+-----------+------------------+------------+-------+-----------+-----------+----------+--------+----------------+------+-----------+------------+--------------------+-----------+--------------+-------+------------------+--------------------+---------------------+--------------+--------+--------------------+---------------------+---------------------+--------------+---------------+-----------+---------+---------+-------------+-------------+-------------------+--------+------------------+----------------+--------------------+---------------+-----------------+--------------+--------------------------+--------------+-----------+-----------+----------------------+---------------------+-------------+------------+------------------+-----------------+------------------+-----------------+------------------------+-----------------------+\n",
            "|        0|          0|              0|   0|       0|          0|        0|    164033|         1|         0|2500|             2|              0|             1|               1998030|       1|      0|        0|         0|        2|        2|            0|          0|              0|              0|            0|              2|                   2|                  0|                    1760961|       56157|      56158|     692767|     692767|     692767|     692767|            740908|      692767| 925248|     692767|     692767|    692767|  693042|           56159|692766|     692768|      692768|               40033|      56243|         66199|  67385|            124289|               56159|                56159|         56158|   40032|               64652|               297022|                56159|         56158|          56158|      46848|    56158|    56158|        56158|        56158|              56158|   46848|             56158|           66592|                1081|          56157|            40032|         40032|                     56158|             0|          0|          0|                     2|                    2|            1|           1|              3952|             3952|           1487915|          1487915|                      63|                     63|\n",
            "+---------+-----------+---------------+----+--------+-----------+---------+----------+----------+----------+----+--------------+---------------+--------------+----------------------+--------+-------+---------+----------+---------+---------+-------------+-----------+---------------+---------------+-------------+---------------+--------------------+-------------------+---------------------------+------------+-----------+-----------+-----------+-----------+-----------+------------------+------------+-------+-----------+-----------+----------+--------+----------------+------+-----------+------------+--------------------+-----------+--------------+-------+------------------+--------------------+---------------------+--------------+--------+--------------------+---------------------+---------------------+--------------+---------------+-----------+---------+---------+-------------+-------------+-------------------+--------+------------------+----------------+--------------------+---------------+-----------------+--------------+--------------------------+--------------+-----------+-----------+----------------------+---------------------+-------------+------------+------------------+-----------------+------------------+-----------------+------------------------+-----------------------+\n",
            "\n"
          ]
        }
      ],
      "source": [
        "calculate_nulls(train).show()"
      ]
    },
    {
      "cell_type": "markdown",
      "metadata": {
        "id": "xQmUA4neSTHz"
      },
      "source": [
        "# **Determine which columns' null values must be replaced with medians and which must be predicted by models.**"
      ]
    },
    {
      "cell_type": "code",
      "execution_count": null,
      "metadata": {
        "id": "jHYrQ30lJG0p"
      },
      "outputs": [],
      "source": [
        "medians = train.columns[:7] + train.columns[8:14] + train.columns[15:29] + train.columns[-10:-4] + train.columns[-2:]\n",
        "models = train.columns[7:8] + train.columns[14:15] + train.columns[29:-19] + train.columns[-4:-2]"
      ]
    },
    {
      "cell_type": "markdown",
      "metadata": {
        "id": "cvjx2M9vShTj"
      },
      "source": [
        "# **Replace some columns by medians.**"
      ]
    },
    {
      "cell_type": "code",
      "execution_count": null,
      "metadata": {
        "id": "-zAdGOsePo3x"
      },
      "outputs": [],
      "source": [
        "def replace_nulls_with_medians(data, columnset, train_parameters):\n",
        "    for col_name in columnset:\n",
        "        median_value = train_parameters.filter(col('column_name') == col_name).select('median').collect()[0][0]\n",
        "\n",
        "        data = data.withColumn(col_name, when(col(col_name).isNull(), median_value).otherwise(col(col_name)))\n",
        "\n",
        "    return data"
      ]
    },
    {
      "cell_type": "code",
      "execution_count": null,
      "metadata": {
        "id": "Mbew7o4hP2_I"
      },
      "outputs": [],
      "source": [
        "parameters = spark.read.csv('/content/drive/MyDrive/Bank Project/train_parameters', header=True, inferSchema=True)"
      ]
    },
    {
      "cell_type": "code",
      "execution_count": null,
      "metadata": {
        "id": "pTw_5HVTP0sp"
      },
      "outputs": [],
      "source": [
        "train = replace_nulls_with_medians(train, medians, parameters)"
      ]
    },
    {
      "cell_type": "code",
      "execution_count": null,
      "metadata": {
        "colab": {
          "base_uri": "https://localhost:8080/"
        },
        "id": "MN8VcStu-9k2",
        "outputId": "6244c616-ea89-4c59-d3bd-953d09198330"
      },
      "outputs": [
        {
          "output_type": "stream",
          "name": "stdout",
          "text": [
            "+---------+-----------+---------------+----+--------+-----------+---------+----------+----------+----------+---+--------------+---------------+--------------+----------------------+--------+-------+---------+----------+---------+---------+-------------+-----------+---------------+---------------+-------------+---------------+--------------------+-------------------+---------------------------+------------+-----------+-----------+-----------+-----------+-----------+------------------+------------+-------+-----------+-----------+----------+--------+----------------+------+-----------+------------+--------------------+-----------+--------------+-------+------------------+--------------------+---------------------+--------------+--------+--------------------+---------------------+---------------------+--------------+---------------+-----------+---------+---------+-------------+-------------+-------------------+--------+------------------+----------------+--------------------+---------------+-----------------+--------------+--------------------------+--------------+-----------+-----------+----------------------+---------------------+-------------+------------+------------------+-----------------+------------------+-----------------+------------------------+-----------------------+\n",
            "|loan_amnt|funded_amnt|funded_amnt_inv|term|int_rate|installment|sub_grade|emp_length|annual_inc|addr_state|dti|fico_range_low|fico_range_high|inq_last_6mths|mths_since_last_record|open_acc|pub_rec|revol_bal|revol_util|total_acc|out_prncp|out_prncp_inv|total_pymnt|total_pymnt_inv|total_rec_prncp|total_rec_int|last_pymnt_amnt|last_fico_range_high|last_fico_range_low|mths_since_last_major_derog|tot_coll_amt|tot_cur_bal|open_acc_6m|open_act_il|open_il_12m|open_il_24m|mths_since_rcnt_il|total_bal_il|il_util|open_rv_12m|open_rv_24m|max_bal_bc|all_util|total_rev_hi_lim|inq_fi|total_cu_tl|inq_last_12m|acc_open_past_24mths|avg_cur_bal|bc_open_to_buy|bc_util|mo_sin_old_il_acct|mo_sin_old_rev_tl_op|mo_sin_rcnt_rev_tl_op|mo_sin_rcnt_tl|mort_acc|mths_since_recent_bc|mths_since_recent_inq|num_accts_ever_120_pd|num_actv_bc_tl|num_actv_rev_tl|num_bc_sats|num_bc_tl|num_il_tl|num_op_rev_tl|num_rev_accts|num_rev_tl_bal_gt_0|num_sats|num_tl_op_past_12m|percent_bc_gt_75|pub_rec_bankruptcies|tot_hi_cred_lim|total_bal_ex_mort|total_bc_limit|total_il_high_credit_limit|acc_now_delinq|delinq_2yrs|delinq_amnt|month_earliest_cr_line|year_earliest_cr_line|month_issue_d|year_issue_d|month_last_pymnt_d|year_last_pymnt_d|month_next_pymnt_d|year_next_pymnt_d|month_last_credit_pull_d|year_last_credit_pull_d|\n",
            "+---------+-----------+---------------+----+--------+-----------+---------+----------+----------+----------+---+--------------+---------------+--------------+----------------------+--------+-------+---------+----------+---------+---------+-------------+-----------+---------------+---------------+-------------+---------------+--------------------+-------------------+---------------------------+------------+-----------+-----------+-----------+-----------+-----------+------------------+------------+-------+-----------+-----------+----------+--------+----------------+------+-----------+------------+--------------------+-----------+--------------+-------+------------------+--------------------+---------------------+--------------+--------+--------------------+---------------------+---------------------+--------------+---------------+-----------+---------+---------+-------------+-------------+-------------------+--------+------------------+----------------+--------------------+---------------+-----------------+--------------+--------------------------+--------------+-----------+-----------+----------------------+---------------------+-------------+------------+------------------+-----------------+------------------+-----------------+------------------------+-----------------------+\n",
            "|        0|          0|              0|   0|       0|          0|        0|    164033|         0|         0|  0|             0|              0|             0|               1998030|       0|      0|        0|         0|        0|        0|            0|          0|              0|              0|            0|              0|                   0|                  0|                    1760961|       56157|      56158|     692767|     692767|     692767|     692767|            740908|      692767| 925248|     692767|     692767|    692767|  693042|           56159|692766|     692768|      692768|               40033|      56243|         66199|  67385|            124289|               56159|                56159|         56158|   40032|               64652|               297022|                56159|         56158|          56158|      46848|    56158|    56158|        56158|        56158|              56158|   46848|             56158|           66592|                1081|          56157|            40032|         40032|                     56158|             0|          0|          0|                     0|                    0|            0|           0|                 0|                0|           1487915|          1487915|                       0|                      0|\n",
            "+---------+-----------+---------------+----+--------+-----------+---------+----------+----------+----------+---+--------------+---------------+--------------+----------------------+--------+-------+---------+----------+---------+---------+-------------+-----------+---------------+---------------+-------------+---------------+--------------------+-------------------+---------------------------+------------+-----------+-----------+-----------+-----------+-----------+------------------+------------+-------+-----------+-----------+----------+--------+----------------+------+-----------+------------+--------------------+-----------+--------------+-------+------------------+--------------------+---------------------+--------------+--------+--------------------+---------------------+---------------------+--------------+---------------+-----------+---------+---------+-------------+-------------+-------------------+--------+------------------+----------------+--------------------+---------------+-----------------+--------------+--------------------------+--------------+-----------+-----------+----------------------+---------------------+-------------+------------+------------------+-----------------+------------------+-----------------+------------------------+-----------------------+\n",
            "\n"
          ]
        }
      ],
      "source": [
        "calculate_nulls(train).show()"
      ]
    },
    {
      "cell_type": "markdown",
      "metadata": {
        "id": "-e65RJ7fSzuj"
      },
      "source": [
        "# **Train models for left columns with null values.**"
      ]
    },
    {
      "cell_type": "code",
      "execution_count": null,
      "metadata": {
        "id": "BICdhYtDJehV"
      },
      "outputs": [],
      "source": [
        "def save_models_without_filling(data: DataFrame, columnset1: list, columnset2: list, save_path: str, test_ratio: float = 0.1):\n",
        "    accuracies = {}\n",
        "\n",
        "    for col2 in columnset2:\n",
        "        start = time.time()\n",
        "\n",
        "        non_null_df = data.filter(col(col2).isNotNull())\n",
        "\n",
        "        assembler = VectorAssembler(inputCols=columnset1, outputCol=\"features\")\n",
        "        non_null_df = assembler.transform(non_null_df)\n",
        "\n",
        "        train_df, test_df = non_null_df.randomSplit([1.0 - test_ratio, test_ratio])\n",
        "\n",
        "        dt = DecisionTreeRegressor(\n",
        "            featuresCol=\"features\",\n",
        "            labelCol=col2\n",
        "        )\n",
        "        dt_model = dt.fit(train_df)\n",
        "\n",
        "        model_path = f\"{save_path}/{col2}_dt_model\"\n",
        "        dt_model.save(model_path)\n",
        "        print(f\"Model for column '{col2}' saved to {model_path}\")\n",
        "\n",
        "        predictions = dt_model.transform(test_df)\n",
        "        evaluator = RegressionEvaluator(labelCol=col2, predictionCol=\"prediction\", metricName=\"r2\")\n",
        "        r2 = evaluator.evaluate(predictions)\n",
        "        finish = time.time()\n",
        "        print(f'R2: {r2}', f'Time: {finish - start}')\n",
        "        accuracies[col2] = r2\n",
        "        print('=================================================================')\n",
        "\n",
        "    return accuracies"
      ]
    },
    {
      "cell_type": "markdown",
      "metadata": {
        "id": "1emV8BOKS7z0"
      },
      "source": [
        "# **Save column names which i used for predicting null values in columns.**"
      ]
    },
    {
      "cell_type": "code",
      "execution_count": null,
      "metadata": {
        "id": "yMOxKCbvX2Ym"
      },
      "outputs": [],
      "source": [
        "train_colls = medians + ['emp_title_encoded','home_ownership_encoded','verification_status_encoded','loan_status_encoded','purpose_encoded','initial_list_status_encoded']"
      ]
    },
    {
      "cell_type": "code",
      "execution_count": null,
      "metadata": {
        "id": "zDyQQZfcSyBJ"
      },
      "outputs": [],
      "source": [
        "with open('/content/drive/MyDrive/Bank Project/train_colls.pkl', 'wb') as file:\n",
        "    pickle.dump(train_colls, file)"
      ]
    },
    {
      "cell_type": "markdown",
      "metadata": {
        "id": "RBm25-MzTE6b"
      },
      "source": [
        "# **Create models and save them.**"
      ]
    },
    {
      "cell_type": "code",
      "execution_count": null,
      "metadata": {
        "colab": {
          "base_uri": "https://localhost:8080/"
        },
        "id": "_2hpVvLRQdKJ",
        "outputId": "0ddb08b8-bd8a-45eb-be4e-2ebb8dffe8de"
      },
      "outputs": [
        {
          "output_type": "stream",
          "name": "stdout",
          "text": [
            "Model for column 'emp_length' saved to /content/drive/MyDrive/Bank Project//emp_length_dt_model\n",
            "R2: 0.0924937828462874 Time: 251.5166997909546\n",
            "=================================================================\n",
            "Model for column 'mths_since_last_record' saved to /content/drive/MyDrive/Bank Project//mths_since_last_record_dt_model\n",
            "R2: 0.28380138544666345 Time: 116.3836419582367\n",
            "=================================================================\n",
            "Model for column 'mths_since_last_major_derog' saved to /content/drive/MyDrive/Bank Project//mths_since_last_major_derog_dt_model\n",
            "R2: 0.041513466788972386 Time: 133.5477545261383\n",
            "=================================================================\n",
            "Model for column 'tot_coll_amt' saved to /content/drive/MyDrive/Bank Project//tot_coll_amt_dt_model\n",
            "R2: -0.01876434589677567 Time: 263.05756092071533\n",
            "=================================================================\n",
            "Model for column 'tot_cur_bal' saved to /content/drive/MyDrive/Bank Project//tot_cur_bal_dt_model\n",
            "R2: 0.49984299354304895 Time: 266.2573194503784\n",
            "=================================================================\n",
            "Model for column 'open_acc_6m' saved to /content/drive/MyDrive/Bank Project//open_acc_6m_dt_model\n",
            "R2: 1.9019958811150595e-05 Time: 199.76341342926025\n",
            "=================================================================\n",
            "Model for column 'open_act_il' saved to /content/drive/MyDrive/Bank Project//open_act_il_dt_model\n",
            "R2: 0.3290776378441951 Time: 203.010840177536\n",
            "=================================================================\n",
            "Model for column 'open_il_12m' saved to /content/drive/MyDrive/Bank Project//open_il_12m_dt_model\n",
            "R2: 0.1250088696654258 Time: 199.8362011909485\n",
            "=================================================================\n",
            "Model for column 'open_il_24m' saved to /content/drive/MyDrive/Bank Project//open_il_24m_dt_model\n",
            "R2: 0.18815617853762012 Time: 198.04238557815552\n",
            "=================================================================\n",
            "Model for column 'mths_since_rcnt_il' saved to /content/drive/MyDrive/Bank Project//mths_since_rcnt_il_dt_model\n",
            "R2: 0.18683884186267719 Time: 197.8744101524353\n",
            "=================================================================\n",
            "Model for column 'total_bal_il' saved to /content/drive/MyDrive/Bank Project//total_bal_il_dt_model\n",
            "R2: 0.2682215694671386 Time: 201.00986981391907\n",
            "=================================================================\n",
            "Model for column 'il_util' saved to /content/drive/MyDrive/Bank Project//il_util_dt_model\n",
            "R2: 0.07233234401332 Time: 182.98738026618958\n",
            "=================================================================\n",
            "Model for column 'open_rv_12m' saved to /content/drive/MyDrive/Bank Project//open_rv_12m_dt_model\n",
            "R2: 0.21732214503828773 Time: 200.3659086227417\n",
            "=================================================================\n",
            "Model for column 'open_rv_24m' saved to /content/drive/MyDrive/Bank Project//open_rv_24m_dt_model\n",
            "R2: 0.27297441303701087 Time: 202.75096154212952\n",
            "=================================================================\n",
            "Model for column 'max_bal_bc' saved to /content/drive/MyDrive/Bank Project//max_bal_bc_dt_model\n",
            "R2: 0.5272401506225821 Time: 200.94782328605652\n",
            "=================================================================\n",
            "Model for column 'all_util' saved to /content/drive/MyDrive/Bank Project//all_util_dt_model\n",
            "R2: 0.2630727541712232 Time: 201.99686455726624\n",
            "=================================================================\n",
            "Model for column 'total_rev_hi_lim' saved to /content/drive/MyDrive/Bank Project//total_rev_hi_lim_dt_model\n",
            "R2: 0.6076049814104181 Time: 262.53361988067627\n",
            "=================================================================\n",
            "Model for column 'inq_fi' saved to /content/drive/MyDrive/Bank Project//inq_fi_dt_model\n",
            "R2: 0.08163910797900831 Time: 200.5887806415558\n",
            "=================================================================\n",
            "Model for column 'total_cu_tl' saved to /content/drive/MyDrive/Bank Project//total_cu_tl_dt_model\n",
            "R2: 0.11398265112479233 Time: 197.62296962738037\n",
            "=================================================================\n",
            "Model for column 'inq_last_12m' saved to /content/drive/MyDrive/Bank Project//inq_last_12m_dt_model\n",
            "R2: 0.26385679507074933 Time: 204.93320107460022\n",
            "=================================================================\n",
            "Model for column 'acc_open_past_24mths' saved to /content/drive/MyDrive/Bank Project//acc_open_past_24mths_dt_model\n",
            "R2: 0.3179067251519957 Time: 254.24867749214172\n",
            "=================================================================\n",
            "Model for column 'avg_cur_bal' saved to /content/drive/MyDrive/Bank Project//avg_cur_bal_dt_model\n",
            "R2: 0.401695873384355 Time: 256.36019682884216\n",
            "=================================================================\n",
            "Model for column 'bc_open_to_buy' saved to /content/drive/MyDrive/Bank Project//bc_open_to_buy_dt_model\n",
            "R2: 0.4087152611604591 Time: 265.9074363708496\n",
            "=================================================================\n",
            "Model for column 'bc_util' saved to /content/drive/MyDrive/Bank Project//bc_util_dt_model\n",
            "R2: 0.4134398592802727 Time: 258.88263964653015\n",
            "=================================================================\n",
            "Model for column 'mo_sin_old_il_acct' saved to /content/drive/MyDrive/Bank Project//mo_sin_old_il_acct_dt_model\n",
            "R2: 0.3066932728179814 Time: 252.0730276107788\n",
            "=================================================================\n",
            "Model for column 'mo_sin_old_rev_tl_op' saved to /content/drive/MyDrive/Bank Project//mo_sin_old_rev_tl_op_dt_model\n",
            "R2: 0.812884085672679 Time: 256.4780135154724\n",
            "=================================================================\n",
            "Model for column 'mo_sin_rcnt_rev_tl_op' saved to /content/drive/MyDrive/Bank Project//mo_sin_rcnt_rev_tl_op_dt_model\n",
            "R2: 0.14158556704885872 Time: 261.106595993042\n",
            "=================================================================\n",
            "Model for column 'mo_sin_rcnt_tl' saved to /content/drive/MyDrive/Bank Project//mo_sin_rcnt_tl_dt_model\n",
            "R2: 0.17124385456357072 Time: 263.9053511619568\n",
            "=================================================================\n",
            "Model for column 'mort_acc' saved to /content/drive/MyDrive/Bank Project//mort_acc_dt_model\n",
            "R2: 0.38214552081267394 Time: 271.8063123226166\n",
            "=================================================================\n",
            "Model for column 'mths_since_recent_bc' saved to /content/drive/MyDrive/Bank Project//mths_since_recent_bc_dt_model\n",
            "R2: 0.10599449495819646 Time: 265.47579979896545\n",
            "=================================================================\n",
            "Model for column 'mths_since_recent_inq' saved to /content/drive/MyDrive/Bank Project//mths_since_recent_inq_dt_model\n",
            "R2: 0.4411688583347795 Time: 246.78950119018555\n",
            "=================================================================\n",
            "Model for column 'num_accts_ever_120_pd' saved to /content/drive/MyDrive/Bank Project//num_accts_ever_120_pd_dt_model\n",
            "R2: 0.1289683115037873 Time: 259.8350577354431\n",
            "=================================================================\n",
            "Model for column 'num_actv_bc_tl' saved to /content/drive/MyDrive/Bank Project//num_actv_bc_tl_dt_model\n",
            "R2: 0.44616337587560884 Time: 264.38309621810913\n",
            "=================================================================\n",
            "Model for column 'num_actv_rev_tl' saved to /content/drive/MyDrive/Bank Project//num_actv_rev_tl_dt_model\n",
            "R2: 0.5706210283524017 Time: 258.61455273628235\n",
            "=================================================================\n",
            "Model for column 'num_bc_sats' saved to /content/drive/MyDrive/Bank Project//num_bc_sats_dt_model\n",
            "R2: 0.4743223713019482 Time: 264.6711518764496\n",
            "=================================================================\n",
            "Model for column 'num_bc_tl' saved to /content/drive/MyDrive/Bank Project//num_bc_tl_dt_model\n",
            "R2: 0.433963915233041 Time: 273.0220148563385\n",
            "=================================================================\n",
            "Model for column 'num_il_tl' saved to /content/drive/MyDrive/Bank Project//num_il_tl_dt_model\n",
            "R2: 0.5216052766843529 Time: 257.7123100757599\n",
            "=================================================================\n",
            "Model for column 'num_op_rev_tl' saved to /content/drive/MyDrive/Bank Project//num_op_rev_tl_dt_model\n",
            "R2: 0.7142436958056744 Time: 256.971652507782\n",
            "=================================================================\n",
            "Model for column 'num_rev_accts' saved to /content/drive/MyDrive/Bank Project//num_rev_accts_dt_model\n",
            "R2: 0.6169744348389221 Time: 256.95844745635986\n",
            "=================================================================\n",
            "Model for column 'num_rev_tl_bal_gt_0' saved to /content/drive/MyDrive/Bank Project//num_rev_tl_bal_gt_0_dt_model\n",
            "R2: 0.5746244858042109 Time: 264.9798924922943\n",
            "=================================================================\n",
            "Model for column 'num_sats' saved to /content/drive/MyDrive/Bank Project//num_sats_dt_model\n",
            "R2: 0.9937882899413113 Time: 265.46383118629456\n",
            "=================================================================\n",
            "Model for column 'num_tl_op_past_12m' saved to /content/drive/MyDrive/Bank Project//num_tl_op_past_12m_dt_model\n",
            "R2: 0.2497753930508766 Time: 255.5988154411316\n",
            "=================================================================\n",
            "Model for column 'percent_bc_gt_75' saved to /content/drive/MyDrive/Bank Project//percent_bc_gt_75_dt_model\n",
            "R2: 0.2824876283026365 Time: 258.4453809261322\n",
            "=================================================================\n",
            "Model for column 'pub_rec_bankruptcies' saved to /content/drive/MyDrive/Bank Project//pub_rec_bankruptcies_dt_model\n",
            "R2: 0.7397565330673658 Time: 259.8281829357147\n",
            "=================================================================\n",
            "Model for column 'tot_hi_cred_lim' saved to /content/drive/MyDrive/Bank Project//tot_hi_cred_lim_dt_model\n",
            "R2: 0.5198754050401005 Time: 260.45167422294617\n",
            "=================================================================\n",
            "Model for column 'total_bal_ex_mort' saved to /content/drive/MyDrive/Bank Project//total_bal_ex_mort_dt_model\n",
            "R2: 0.3903471260341659 Time: 267.5412690639496\n",
            "=================================================================\n",
            "Model for column 'total_bc_limit' saved to /content/drive/MyDrive/Bank Project//total_bc_limit_dt_model\n",
            "R2: 0.5133600617418742 Time: 263.2027659416199\n",
            "=================================================================\n",
            "Model for column 'total_il_high_credit_limit' saved to /content/drive/MyDrive/Bank Project//total_il_high_credit_limit_dt_model\n",
            "R2: 0.3802672698405897 Time: 260.6180317401886\n",
            "=================================================================\n",
            "Model for column 'month_next_pymnt_d' saved to /content/drive/MyDrive/Bank Project//month_next_pymnt_d_dt_model\n",
            "R2: 0.9386006278944633 Time: 145.164692401886\n",
            "=================================================================\n",
            "Model for column 'year_next_pymnt_d' saved to /content/drive/MyDrive/Bank Project//year_next_pymnt_d_dt_model\n",
            "R2: 0.9986875241125799 Time: 142.62765645980835\n",
            "=================================================================\n"
          ]
        }
      ],
      "source": [
        "accuracies = save_models_without_filling(train, train_colls, models, '/content/drive/MyDrive/Bank Project/')"
      ]
    },
    {
      "cell_type": "markdown",
      "metadata": {
        "id": "IEVR3MhQTPwV"
      },
      "source": [
        "# **Choose columns which has models more than 40% r2.**"
      ]
    },
    {
      "cell_type": "code",
      "execution_count": null,
      "metadata": {
        "id": "x6zfhcyny5B3"
      },
      "outputs": [],
      "source": [
        "model_replacement = ['tot_cur_bal', 'max_bal_bc', 'total_rev_hi_lim', 'avg_cur_bal', 'bc_open_to_buy', 'bc_util', 'mo_sin_old_rev_tl_op', 'mort_acc', 'mths_since_recent_inq', 'num_actv_bc_tl', 'num_actv_rev_tl', 'num_bc_sats', 'num_bc_tl', 'num_il_tl', 'num_op_rev_tl', 'num_rev_accts', 'num_rev_tl_bal_gt_0', 'num_sats', 'pub_rec_bankruptcies', 'tot_hi_cred_lim', 'total_bal_ex_mort', 'total_bc_limit', 'total_il_high_credit_limit', 'month_next_pymnt_d', 'year_next_pymnt_d']"
      ]
    },
    {
      "cell_type": "code",
      "execution_count": null,
      "metadata": {
        "colab": {
          "base_uri": "https://localhost:8080/"
        },
        "id": "ItQiVSYh2eev",
        "outputId": "ee3d1766-bd9c-436d-cdb8-ac314157f2db"
      },
      "outputs": [
        {
          "output_type": "execute_result",
          "data": {
            "text/plain": [
              "66"
            ]
          },
          "metadata": {},
          "execution_count": 186
        }
      ],
      "source": [
        "len(model_replacement + train_colls)"
      ]
    },
    {
      "cell_type": "code",
      "execution_count": null,
      "metadata": {
        "id": "FqaYMQ6VBcwb"
      },
      "outputs": [],
      "source": [
        "with open('/content/drive/MyDrive/Bank Project/median_replacement.pkl', 'wb') as file:\n",
        "    pickle.dump(medians, file)\n",
        "with open('/content/drive/MyDrive/Bank Project/model_replacement.pkl', 'wb') as file:\n",
        "    pickle.dump(model_replacement, file)\n",
        "with open('/content/drive/MyDrive/Bank Project/train_colls.pkl', 'wb') as file:\n",
        "    pickle.dump(train_colls, file)"
      ]
    },
    {
      "cell_type": "markdown",
      "metadata": {
        "id": "IfK0zBKqTjXE"
      },
      "source": [
        "# **Fill missing values.**"
      ]
    },
    {
      "cell_type": "code",
      "execution_count": null,
      "metadata": {
        "id": "wlkHpmY4_cl7"
      },
      "outputs": [],
      "source": [
        "def fill_missing_values(spark, spark_df):\n",
        "    with open('/content/drive/MyDrive/Bank Project/median_replacement.pkl', 'rb') as file:\n",
        "        median_replacement_columns = pickle.load(file)\n",
        "\n",
        "    with open('/content/drive/MyDrive/Bank Project/model_replacement.pkl', 'rb') as file:\n",
        "        model_replacement_columns = pickle.load(file)\n",
        "\n",
        "    with open('/content/drive/MyDrive/Bank Project/train_colls.pkl', 'rb') as file:\n",
        "        train_colls = pickle.load(file)\n",
        "    relevant_columns = train_colls + ['acc_now_delinq', 'delinq_2yrs', 'delinq_amnt'] + model_replacement_columns\n",
        "    spark_df = spark_df.select([col for col in spark_df.columns if col in relevant_columns])\n",
        "\n",
        "    spark_df = spark_df.cache()\n",
        "\n",
        "    median_parameters = spark.read.csv('/content/drive/MyDrive/Bank Project/train_parameters', header=True, inferSchema=True)\n",
        "\n",
        "    median_dict = dict(zip(median_parameters.select('column_name').rdd.flatMap(lambda x: x).collect(),\n",
        "                           median_parameters.select('median').rdd.flatMap(lambda x: x).collect()))\n",
        "    for column in median_replacement_columns:\n",
        "        if column in median_dict:\n",
        "            median_value = median_dict[column]\n",
        "            spark_df = spark_df.fillna(median_value, subset=[column])\n",
        "\n",
        "    n = 1\n",
        "    for column in model_replacement_columns:\n",
        "        start_time = time.time()\n",
        "        model_path = f'/content/drive/MyDrive/Bank Project/{column}_dt_model'\n",
        "        model = DecisionTreeRegressionModel.load(model_path)\n",
        "\n",
        "        assembler = VectorAssembler(inputCols=train_colls, outputCol='features')\n",
        "        feature_df = assembler.transform(spark_df)\n",
        "\n",
        "        predictions = model.transform(feature_df)\n",
        "\n",
        "        predictions_dict = dict(predictions.select(column, 'prediction').rdd.map(lambda row: (row[column], row['prediction'])).collect())\n",
        "\n",
        "        def replace_missing_value(value):\n",
        "            return predictions_dict.get(value, None)\n",
        "\n",
        "        replace_missing_value_udf = F.udf(replace_missing_value, DoubleType())\n",
        "\n",
        "        spark_df = spark_df.withColumn(column, F.when(F.col(column).isNull(), replace_missing_value_udf(F.col(column))).otherwise(F.col(column)))\n",
        "        end_time = time.time()\n",
        "        print(f'{n} column processed in {end_time - start_time:.4f} seconds')\n",
        "        n += 1\n",
        "\n",
        "    spark_df.unpersist()\n",
        "\n",
        "    return spark_df"
      ]
    },
    {
      "cell_type": "code",
      "execution_count": null,
      "metadata": {
        "colab": {
          "base_uri": "https://localhost:8080/"
        },
        "id": "20_YhcG3_cjb",
        "outputId": "df37cfc9-b64e-43f3-fd49-b0b6308c859e"
      },
      "outputs": [
        {
          "output_type": "stream",
          "name": "stdout",
          "text": [
            "1 column processed in 130.5553 seconds\n",
            "2 column processed in 33.7109 seconds\n",
            "3 column processed in 34.8434 seconds\n",
            "4 column processed in 34.4181 seconds\n",
            "5 column processed in 31.2094 seconds\n",
            "6 column processed in 32.1097 seconds\n",
            "7 column processed in 29.7674 seconds\n",
            "8 column processed in 30.7429 seconds\n",
            "9 column processed in 29.2112 seconds\n",
            "10 column processed in 29.4596 seconds\n",
            "11 column processed in 29.2820 seconds\n",
            "12 column processed in 28.3420 seconds\n",
            "13 column processed in 28.2692 seconds\n",
            "14 column processed in 29.6073 seconds\n",
            "15 column processed in 28.5228 seconds\n",
            "16 column processed in 29.1691 seconds\n",
            "17 column processed in 29.7490 seconds\n",
            "18 column processed in 29.1427 seconds\n",
            "19 column processed in 30.1674 seconds\n",
            "20 column processed in 30.9669 seconds\n",
            "21 column processed in 32.1354 seconds\n",
            "22 column processed in 30.2327 seconds\n",
            "23 column processed in 30.4019 seconds\n",
            "24 column processed in 29.5376 seconds\n",
            "25 column processed in 30.7367 seconds\n"
          ]
        }
      ],
      "source": [
        "filled_missing_values = fill_missing_values(spark, train)"
      ]
    },
    {
      "cell_type": "markdown",
      "metadata": {
        "id": "irqeKB_dTpIr"
      },
      "source": [
        "# **Visualization of each columns' situation in terms of null values.**"
      ]
    },
    {
      "cell_type": "code",
      "execution_count": null,
      "metadata": {
        "colab": {
          "base_uri": "https://localhost:8080/"
        },
        "id": "7miMpfaNTzk4",
        "outputId": "84be357c-0f14-477b-cc9c-d9a72b0818b9"
      },
      "outputs": [
        {
          "output_type": "stream",
          "name": "stdout",
          "text": [
            "+---------+-----------+---------------+----+--------+-----------+---------+----------+----------+---+--------------+---------------+--------------+--------+-------+---------+----------+---------+---------+-------------+-----------+---------------+---------------+-------------+---------------+--------------------+-------------------+-----------+----------+----------------+-----------+--------------+-------+--------------------+--------+---------------------+--------------+---------------+-----------+---------+---------+-------------+-------------+-------------------+--------+--------------------+---------------+-----------------+--------------+--------------------------+--------------+-----------+-----------+----------------------+---------------------+-------------+------------+------------------+-----------------+------------------+-----------------+------------------------+-----------------------+\n",
            "|loan_amnt|funded_amnt|funded_amnt_inv|term|int_rate|installment|sub_grade|annual_inc|addr_state|dti|fico_range_low|fico_range_high|inq_last_6mths|open_acc|pub_rec|revol_bal|revol_util|total_acc|out_prncp|out_prncp_inv|total_pymnt|total_pymnt_inv|total_rec_prncp|total_rec_int|last_pymnt_amnt|last_fico_range_high|last_fico_range_low|tot_cur_bal|max_bal_bc|total_rev_hi_lim|avg_cur_bal|bc_open_to_buy|bc_util|mo_sin_old_rev_tl_op|mort_acc|mths_since_recent_inq|num_actv_bc_tl|num_actv_rev_tl|num_bc_sats|num_bc_tl|num_il_tl|num_op_rev_tl|num_rev_accts|num_rev_tl_bal_gt_0|num_sats|pub_rec_bankruptcies|tot_hi_cred_lim|total_bal_ex_mort|total_bc_limit|total_il_high_credit_limit|acc_now_delinq|delinq_2yrs|delinq_amnt|month_earliest_cr_line|year_earliest_cr_line|month_issue_d|year_issue_d|month_last_pymnt_d|year_last_pymnt_d|month_next_pymnt_d|year_next_pymnt_d|month_last_credit_pull_d|year_last_credit_pull_d|\n",
            "+---------+-----------+---------------+----+--------+-----------+---------+----------+----------+---+--------------+---------------+--------------+--------+-------+---------+----------+---------+---------+-------------+-----------+---------------+---------------+-------------+---------------+--------------------+-------------------+-----------+----------+----------------+-----------+--------------+-------+--------------------+--------+---------------------+--------------+---------------+-----------+---------+---------+-------------+-------------+-------------------+--------+--------------------+---------------+-----------------+--------------+--------------------------+--------------+-----------+-----------+----------------------+---------------------+-------------+------------+------------------+-----------------+------------------+-----------------+------------------------+-----------------------+\n",
            "|        0|          0|              0|   0|       0|          0|        0|         0|         0|  0|             0|              0|             0|       0|      0|        0|         0|        0|        0|            0|          0|              0|              0|            0|              0|                   0|                  0|          0|         0|               0|          0|             0|      0|                   0|       0|                    0|             0|              0|          0|        0|        0|            0|            0|                  0|       0|                   0|              0|                0|             0|                         0|             0|          0|          0|                     0|                    0|            0|           0|                 0|                0|                 0|                0|                       0|                      0|\n",
            "+---------+-----------+---------------+----+--------+-----------+---------+----------+----------+---+--------------+---------------+--------------+--------+-------+---------+----------+---------+---------+-------------+-----------+---------------+---------------+-------------+---------------+--------------------+-------------------+-----------+----------+----------------+-----------+--------------+-------+--------------------+--------+---------------------+--------------+---------------+-----------+---------+---------+-------------+-------------+-------------------+--------+--------------------+---------------+-----------------+--------------+--------------------------+--------------+-----------+-----------+----------------------+---------------------+-------------+------------+------------------+-----------------+------------------+-----------------+------------------------+-----------------------+\n",
            "\n"
          ]
        }
      ],
      "source": [
        "calculate_nulls(filled_missing_values).show()"
      ]
    },
    {
      "cell_type": "code",
      "execution_count": null,
      "metadata": {
        "colab": {
          "base_uri": "https://localhost:8080/"
        },
        "id": "bqnP7fmdUXYQ",
        "outputId": "83bfb78a-606b-42d9-f597-fc8fe20bb661"
      },
      "outputs": [
        {
          "name": "stdout",
          "output_type": "stream",
          "text": [
            "+---------+-----------+---------------+----+--------+-----------+---------+----------+----+--------------+---------------+--------------+--------+-------+---------+----------+---------+---------+-------------+----------------+---------------+---------------+-------------+---------------+--------------------+-------------------+-----------+------------------+----------------+-----------+--------------+-------+--------------------+--------+---------------------+--------------+-----------+---------+---------+-------------+-------------+-------------------+--------+--------------------+---------------+-----------------+--------------+--------------------------+--------------+-----------+-----------+-----------------+----------------------+---------------------------+-------------------+---------------+------------------+---------------------------+----------------------+---------------------+-------------+------------+------------------+-----------------+------------------+-----------------+------------------------+-----------------------+\n",
            "|loan_amnt|funded_amnt|funded_amnt_inv|term|int_rate|installment|sub_grade|annual_inc| dti|fico_range_low|fico_range_high|inq_last_6mths|open_acc|pub_rec|revol_bal|revol_util|total_acc|out_prncp|out_prncp_inv|     total_pymnt|total_pymnt_inv|total_rec_prncp|total_rec_int|last_pymnt_amnt|last_fico_range_high|last_fico_range_low|tot_cur_bal|        max_bal_bc|total_rev_hi_lim|avg_cur_bal|bc_open_to_buy|bc_util|mo_sin_old_rev_tl_op|mort_acc|mths_since_recent_inq|num_actv_bc_tl|num_bc_sats|num_bc_tl|num_il_tl|num_op_rev_tl|num_rev_accts|num_rev_tl_bal_gt_0|num_sats|pub_rec_bankruptcies|tot_hi_cred_lim|total_bal_ex_mort|total_bc_limit|total_il_high_credit_limit|acc_now_delinq|delinq_2yrs|delinq_amnt|emp_title_encoded|home_ownership_encoded|verification_status_encoded|loan_status_encoded|purpose_encoded|addr_state_encoded|initial_list_status_encoded|month_earliest_cr_line|year_earliest_cr_line|month_issue_d|year_issue_d|month_last_pymnt_d|year_last_pymnt_d|month_next_pymnt_d|year_next_pymnt_d|month_last_credit_pull_d|year_last_credit_pull_d|\n",
            "+---------+-----------+---------------+----+--------+-----------+---------+----------+----+--------------+---------------+--------------+--------+-------+---------+----------+---------+---------+-------------+----------------+---------------+---------------+-------------+---------------+--------------------+-------------------+-----------+------------------+----------------+-----------+--------------+-------+--------------------+--------+---------------------+--------------+-----------+---------+---------+-------------+-------------+-------------------+--------+--------------------+---------------+-----------------+--------------+--------------------------+--------------+-----------+-----------+-----------------+----------------------+---------------------------+-------------------+---------------+------------------+---------------------------+----------------------+---------------------+-------------+------------+------------------+-----------------+------------------+-----------------+------------------------+-----------------------+\n",
            "|  24000.0|    24000.0|        24000.0|36.0|    16.0|     855.07|     13.0|   60000.0|20.0|         700.0|          704.0|           1.0|    11.0|    0.0|  24126.0|      16.0|     20.0|  20287.0|     20287.29|         5962.89|        5962.89|        3712.71|      2250.18|          855.0|               719.0|              715.0|   161515.0|            5336.0|         33100.0|    14683.0|        2380.0|   88.0|                66.0|     2.0|                  5.0|           4.0|        4.0|      4.0|     10.0|          8.0|          8.0|                8.0|    11.0|                 0.0|       188838.0|          43066.0|       19800.0|                   27029.0|             0|          0|          0|       (10,[],[])|         (6,[0],[1.0])|              (3,[2],[1.0])|     (10,[4],[1.0])| (14,[1],[1.0])|   (52,[42],[1.0])|              (3,[0],[1.0])|                  11.0|               1998.0|          9.0|      2019.0|               5.0|           2020.0|               6.0|           2020.0|                     5.0|                 2020.0|\n",
            "|  16000.0|    16000.0|        16000.0|60.0|    12.0|     359.16|      8.0|   67500.0|26.0|         710.0|          714.0|           1.0|    32.0|    0.0|  17079.0|      12.0|     74.0|  13537.0|     13537.23|         4287.88|        4287.88|        2462.77|      1825.11|            0.0|               674.0|              670.0|   296847.0|            6211.0|         37700.0|     9276.0|       12888.0|   47.2|               144.0|     5.0|                  0.0|           3.0|        5.0|      8.0|     55.0|         11.0|         14.0|                6.0|    32.0|                 0.0|       330446.0|         132931.0|       24400.0|                  111246.0|             0|          0|          0|   (10,[2],[1.0])|         (6,[0],[1.0])|              (3,[0],[1.0])|     (10,[1],[1.0])| (14,[0],[1.0])|   (52,[23],[1.0])|              (3,[0],[1.0])|                   3.0|               2006.0|          3.0|      2019.0|               5.0|           2020.0|               7.0|           2020.0|                     5.0|                 2020.0|\n",
            "|   4000.0|     4000.0|         4000.0|36.0|     6.0|     123.46|      2.0|   94500.0|10.0|         720.0|          724.0|           0.0|     9.0|    0.0|   3532.0|       6.0|     23.0|      0.0|          0.0|  4441.201727622|         4441.2|         4000.0|        441.2|          123.0|               714.0|              710.0|    15723.0|            2728.0|         27800.0|     1747.0|       24268.0|   12.7|               255.0|     1.0|                  0.0|           4.0|        6.0|     11.0|      7.0|          6.0|         15.0|                4.0|     9.0|                 0.0|        59233.0|          15723.0|       27800.0|                   31433.0|             0|          0|          0|   (10,[1],[1.0])|         (6,[1],[1.0])|              (3,[0],[1.0])|     (10,[0],[1.0])| (14,[7],[1.0])|    (52,[4],[1.0])|              (3,[0],[1.0])|                  12.0|               1994.0|          3.0|      2016.0|               4.0|           2019.0|               6.0|           2020.0|                    11.0|                 2019.0|\n",
            "|  13500.0|    13500.0|        13500.0|36.0|     6.0|     413.52|      0.0|   27000.0|29.0|         795.0|          799.0|           0.0|     9.0|    0.0|   9952.0|       6.0|     23.0|   9648.0|      9648.13|         4539.03|        4539.03|        3851.87|       687.16|          413.0|               804.0|              800.0|    84148.0|            9552.0|         35100.0|     9350.0|       20948.0|   31.3|               286.0|     2.0|   11.122244794014508|           1.0|        2.0|      4.0|      7.0|          5.0|         14.0|                2.0|     9.0|                 0.0|       127528.0|          19972.0|       30500.0|                   21000.0|             0|          0|          0|   (10,[0],[1.0])|         (6,[0],[1.0])|              (3,[2],[1.0])|     (10,[1],[1.0])| (14,[1],[1.0])|    (52,[4],[1.0])|              (3,[0],[1.0])|                   8.0|               1995.0|          6.0|      2019.0|               5.0|           2020.0|               6.0|           2020.0|                     5.0|                 2020.0|\n",
            "|  21075.0|    21075.0|        21075.0|60.0|    21.0|     581.95|     24.0|   55000.0|29.0|         690.0|          694.0|           0.0|    14.0|    0.0|  15955.0|      21.0|     21.0|      0.0|          0.0|34852.4956372544|        34852.5|        21075.0|      13777.5|          581.0|               699.0|              695.0|   262274.0|130.11391916906624|         18000.0|    20175.0|        1468.0|   91.0|               205.0|     1.0|                 10.0|           3.0|        3.0|      6.0|      7.0|          5.0|         11.0|                4.0|    14.0|                 0.0|       300308.0|          62443.0|       16300.0|                   55441.0|             0|          0|          0|   (10,[9],[1.0])|         (6,[0],[1.0])|              (3,[0],[1.0])|     (10,[0],[1.0])| (14,[0],[1.0])|    (52,[4],[1.0])|              (3,[1],[1.0])|                  11.0|               1987.0|         12.0|      2014.0|              12.0|           2019.0|               6.0|           2020.0|                     1.0|                 2020.0|\n",
            "|  10000.0|    10000.0|        10000.0|36.0|     7.0|     311.02|      3.0|   85000.0|17.0|         750.0|          754.0|           0.0|    12.0|    0.0|   7668.0|       7.0|     26.0|      0.0|          0.0|11068.3970224134|        11068.4|        10000.0|       1068.4|         2307.0|               809.0|              805.0|    52149.0|            7668.0|         15800.0|     4346.0|        8132.0|   48.5|               111.0|     0.0|                 17.0|           1.0|        3.0|      3.0|     23.0|          3.0|          3.0|                1.0|    12.0|                 0.0|        88045.0|          52149.0|       15800.0|                   72245.0|             0|          0|          0|   (10,[1],[1.0])|         (6,[1],[1.0])|              (3,[1],[1.0])|     (10,[0],[1.0])| (14,[0],[1.0])|   (52,[14],[1.0])|              (3,[1],[1.0])|                   4.0|               2007.0|          3.0|      2017.0|               6.0|           2019.0|               6.0|           2020.0|                     6.0|                 2019.0|\n",
            "|   2000.0|     2000.0|         2000.0|36.0|    14.0|      69.33|     14.0|   32200.0|22.0|         670.0|          674.0|           0.0|    10.0|    1.0|   9544.0|      14.0|     21.0|      0.0|          0.0|         2101.52|        2101.52|         2000.0|       101.52|         1897.0|               649.0|              645.0|    20539.0|130.11391916906624|         15300.0|     2054.0|        3636.0|   72.2|               219.0|     0.0|                 14.0|           5.0|        6.0|     10.0|      4.0|          8.0|         17.0|                6.0|    10.0|                 1.0|        27300.0|          20539.0|       13100.0|                   12000.0|             0|          0|          0|   (10,[4],[1.0])|         (6,[1],[1.0])|              (3,[1],[1.0])|     (10,[0],[1.0])| (14,[1],[1.0])|    (52,[2],[1.0])|              (3,[1],[1.0])|                   9.0|               1996.0|         12.0|      2014.0|               5.0|           2015.0|               6.0|           2020.0|                    10.0|                 2019.0|\n",
            "|   8800.0|     8800.0|         8800.0|36.0|     9.0|     283.13|      7.0|   92000.0| 5.0|         665.0|          669.0|           1.0|     9.0|    0.0|   9195.0|       9.0|     24.0|      0.0|          0.0|  9852.877877179|        9852.88|         8800.0|      1052.88|         4768.0|               709.0|              705.0|   105650.0|            3818.0|         12000.0|    11739.0|         445.0|   94.8|               169.0|     2.0|                  6.0|           3.0|        3.0|     11.0|      6.0|          6.0|         15.0|                5.0|     9.0|                 0.0|       116292.0|          10116.0|        8500.0|                    6000.0|             0|          0|          0|   (10,[4],[1.0])|         (6,[0],[1.0])|              (3,[0],[1.0])|     (10,[0],[1.0])| (14,[1],[1.0])|   (52,[11],[1.0])|              (3,[0],[1.0])|                  11.0|               2001.0|         12.0|      2015.0|               8.0|           2017.0|               6.0|           2020.0|                     8.0|                 2017.0|\n",
            "|   9000.0|     9000.0|         9000.0|36.0|     9.0|     288.05|      5.0|   72000.0| 3.0|         695.0|          699.0|           1.0|    12.0|    0.0|   1154.0|       9.0|     40.0|   1129.0|      1129.66|         9208.16|        9208.16|        7870.34|      1337.82|          288.0|               709.0|              705.0|   185410.0|            1154.0|          3000.0|    15451.0|        1846.0|   38.5|               137.0|     1.0|                  6.0|           1.0|        1.0|      8.0|     23.0|          1.0|         15.0|                1.0|    12.0|                 0.0|       190355.0|          40084.0|        3000.0|                   29481.0|             0|          3|          0|   (10,[3],[1.0])|         (6,[0],[1.0])|              (3,[1],[1.0])|     (10,[1],[1.0])| (14,[4],[1.0])|   (52,[11],[1.0])|              (3,[0],[1.0])|                   9.0|               1999.0|          9.0|      2017.0|               5.0|           2020.0|               6.0|           2020.0|                     5.0|                 2020.0|\n",
            "|  32000.0|    32000.0|        32000.0|36.0|    13.0|    1093.53|     12.0|  110000.0|17.0|         705.0|          709.0|           0.0|     9.0|    0.0|  40816.0|      13.0|     15.0|      0.0|          0.0|39339.8498137895|       39339.85|        32000.0|      7339.85|         2193.0|               709.0|              705.0|   216674.0|            6159.0|         42200.0|    24075.0|         781.0|   95.5|               289.0|     1.0|   11.122244794014508|           4.0|        4.0|      7.0|      4.0|          5.0|         10.0|                5.0|     9.0|                 0.0|       283160.0|          66642.0|       17200.0|                   50960.0|             0|          0|          0|   (10,[0],[1.0])|         (6,[0],[1.0])|              (3,[2],[1.0])|     (10,[0],[1.0])| (14,[0],[1.0])|   (52,[14],[1.0])|              (3,[1],[1.0])|                   5.0|               1992.0|          6.0|      2016.0|               6.0|           2019.0|               6.0|           2020.0|                     5.0|                 2020.0|\n",
            "|  10000.0|    10000.0|        10000.0|60.0|    13.0|     232.58|     10.0|   25000.0|27.0|         700.0|          704.0|           0.0|    13.0|    0.0|   5394.0|      13.0|     22.0|      0.0|          0.0|          4068.3|         4068.3|        1619.02|      1404.23|          232.0|               574.0|              570.0|    24419.0|130.11391916906624|         11500.0|     1878.0|         701.0|   76.6|               118.0|     0.0|                 14.0|           1.0|        1.0|      2.0|     14.0|          5.0|          8.0|                2.0|    13.0|                 0.0|        40142.0|          24419.0|        3000.0|                   28642.0|             0|          0|          0|   (10,[0],[1.0])|         (6,[1],[1.0])|              (3,[0],[1.0])|     (10,[2],[1.0])| (14,[0],[1.0])|    (52,[2],[1.0])|              (3,[1],[1.0])|                   2.0|               2004.0|         12.0|      2013.0|               2.0|           2015.0|               6.0|           2020.0|                    10.0|                 2016.0|\n",
            "|  12000.0|    12000.0|        12000.0|36.0|    16.0|     427.78|     15.0|   30000.0| 9.0|         665.0|          669.0|           0.0|     3.0|    3.0|   8862.0|      16.0|      5.0|      0.0|          0.0|14188.8074239509|       14188.81|        12000.0|      2188.81|         8228.0|               799.0|              795.0|     8862.0|            8617.0|         23200.0|     2954.0|       14338.0|   38.2|               241.0|     0.0|                 10.0|           3.0|        3.0|      4.0|      0.0|          3.0|          5.0|                3.0|     3.0|                 0.0|        23200.0|           8862.0|       23200.0|                       0.0|             0|          0|          0|   (10,[0],[1.0])|         (6,[1],[1.0])|              (3,[1],[1.0])|     (10,[0],[1.0])| (14,[1],[1.0])|   (52,[15],[1.0])|              (3,[0],[1.0])|                  11.0|               1996.0|         12.0|      2016.0|               4.0|           2018.0|               6.0|           2020.0|                    11.0|                 2019.0|\n",
            "|  10000.0|    10000.0|        10000.0|36.0|    11.0|      332.1|      7.0|   41000.0|25.0|         695.0|          699.0|           1.0|    10.0|    1.0|  12409.0|      11.0|     16.0|      0.0|          0.0|        11719.93|       11719.93|        10000.0|      1719.93|         4395.0|               689.0|              685.0|    50865.0|130.11391916906624|         19100.0|     5652.0|        1658.0|   74.1|                86.0|     2.0|                  5.0|           3.0|        3.0|      5.0|      3.0|          7.0|          9.0|                7.0|    10.0|                 1.0|        85580.0|          29894.0|        6400.0|                   21480.0|             0|          0|          0|   (10,[0],[1.0])|         (6,[0],[1.0])|              (3,[1],[1.0])|     (10,[0],[1.0])| (14,[0],[1.0])|    (52,[6],[1.0])|              (3,[0],[1.0])|                   7.0|               2001.0|         12.0|      2013.0|              12.0|           2015.0|               6.0|           2020.0|                     5.0|                 2020.0|\n",
            "|   2000.0|     2000.0|         2000.0|36.0|    13.0|      67.87|     11.0|   40000.0|25.0|         690.0|          694.0|           1.0|    19.0|    0.0|   9079.0|      13.0|     24.0|      0.0|          0.0| 2313.8763799293|        2313.88|         2000.0|       313.88|         1230.0|               624.0|              620.0|    59901.0|            4700.0|         26800.0|     3328.0|        8058.0|   51.5|                66.0|     0.0|                  2.0|           3.0|        4.0|      6.0|     10.0|         10.0|         14.0|                6.0|    19.0|                 0.0|        82372.0|          59901.0|       16600.0|                   55572.0|             0|          0|          0|   (10,[4],[1.0])|         (6,[1],[1.0])|              (3,[0],[1.0])|     (10,[0],[1.0])| (14,[3],[1.0])|    (52,[8],[1.0])|              (3,[0],[1.0])|                   9.0|               2010.0|          6.0|      2016.0|              12.0|           2017.0|               6.0|           2020.0|                     3.0|                 2019.0|\n",
            "|   3000.0|     3000.0|         3000.0|36.0|     8.0|      94.28|      3.0|   36766.0| 0.0|         730.0|          734.0|           0.0|     9.0|    0.0|   2159.0|       8.0|     21.0|      0.0|          0.0| 3030.4513027008|        3030.45|         3000.0|        30.45|         3033.0|               719.0|              715.0|     2159.0|            2159.0|         23200.0|      240.0|       16841.0|   11.4|                69.0|     0.0|   11.122244794014508|           1.0|        5.0|      6.0|      2.0|          9.0|         19.0|                1.0|     9.0|                 0.0|        23200.0|           2159.0|       19000.0|                       0.0|             0|          0|          0|   (10,[4],[1.0])|         (6,[0],[1.0])|              (3,[1],[1.0])|     (10,[0],[1.0])| (14,[3],[1.0])|    (52,[9],[1.0])|              (3,[0],[1.0])|                   9.0|               2013.0|          6.0|      2019.0|               7.0|           2019.0|               6.0|           2020.0|                     8.0|                 2019.0|\n",
            "|   6825.0|     6825.0|         6825.0|36.0|    15.0|     239.92|     16.0|   19000.0|26.0|         730.0|          734.0|           0.0|     7.0|    0.0|   5514.0|      15.0|      9.0|      0.0|          0.0|         6881.32|        6881.32|         6825.0|        56.32|         6890.0|               729.0|              725.0|    15894.0|130.11391916906624|         21000.0|     2271.0|       13074.0|   27.4|                45.0|     0.0|                  4.0|           2.0|        4.0|      5.0|      1.0|          6.0|          8.0|                3.0|     7.0|                 0.0|        41128.0|          15894.0|       18000.0|                   20128.0|             0|          0|          0|   (10,[3],[1.0])|         (6,[1],[1.0])|              (3,[1],[1.0])|     (10,[0],[1.0])| (14,[0],[1.0])|    (52,[3],[1.0])|              (3,[1],[1.0])|                   3.0|               2011.0|         12.0|      2014.0|               1.0|           2015.0|               6.0|           2020.0|                     6.0|                 2016.0|\n",
            "|  25000.0|    25000.0|        25000.0|60.0|    10.0|     533.52|      3.0|  140000.0|23.0|         705.0|          709.0|           0.0|    12.0|    0.0|  47048.0|      10.0|     30.0|  24071.0|     24071.29|         1586.41|        1586.41|         928.71|        657.7|          533.0|               739.0|              735.0|   448412.0|           19757.0|         67500.0|    37368.0|       12333.0|   78.8|               280.0|     6.0|                  3.0|           6.0|        6.0|      8.0|      9.0|          8.0|         15.0|                7.0|    12.0|                 0.0|       524913.0|         113607.0|       58200.0|                  110663.0|             0|          0|          0|   (10,[0],[1.0])|         (6,[0],[1.0])|              (3,[1],[1.0])|     (10,[1],[1.0])| (14,[1],[1.0])|    (52,[4],[1.0])|              (3,[0],[1.0])|                   2.0|               1997.0|          6.0|      2020.0|              10.0|           2020.0|              11.0|           2020.0|                    10.0|                 2020.0|\n",
            "|  10000.0|    10000.0|        10000.0|36.0|    17.0|     360.23|     14.0|   54000.0|21.0|         685.0|          689.0|           1.0|     9.0|    0.0|   8608.0|      17.0|     16.0|   9204.0|      9204.39|         1426.14|        1426.14|         795.61|       630.53|          360.0|               709.0|              705.0|    23689.0|            2697.0|         20000.0|     2632.0|        9019.0|   48.8|               306.0|     0.0|                  1.0|           4.0|        5.0|      7.0|      3.0|          7.0|         13.0|                5.0|     9.0|                 0.0|        50496.0|          23689.0|       17600.0|                   30496.0|             0|          3|          0|   (10,[4],[1.0])|         (6,[1],[1.0])|              (3,[0],[1.0])|     (10,[1],[1.0])| (14,[0],[1.0])|    (52,[4],[1.0])|              (3,[1],[1.0])|                   6.0|               1994.0|         12.0|      2019.0|               5.0|           2020.0|               6.0|           2020.0|                     5.0|                 2020.0|\n",
            "|  19000.0|    19000.0|        19000.0|60.0|    14.0|     450.52|     14.0|   75000.0|13.0|         665.0|          669.0|           2.0|    15.0|    0.0|  17771.0|      14.0|     34.0|      0.0|          0.0|21165.0373511115|       21165.04|        19000.0|      2165.04|        10797.0|               779.0|              775.0|    72043.0|            2724.0|         27900.0|     5146.0|         884.0|   88.2|               186.0|     3.0|                  1.0|           4.0|        4.0|      6.0|     13.0|         12.0|         18.0|               10.0|    15.0|                 0.0|        94620.0|          48159.0|        7500.0|                   36720.0|             0|          0|          0|   (10,[2],[1.0])|         (6,[2],[1.0])|              (3,[1],[1.0])|     (10,[0],[1.0])| (14,[1],[1.0])|    (52,[2],[1.0])|              (3,[0],[1.0])|                   6.0|               2000.0|         12.0|      2015.0|               2.0|           2017.0|               6.0|           2020.0|                     2.0|                 2018.0|\n",
            "|  21000.0|    21000.0|        21000.0|36.0|    13.0|     714.37|     12.0|  127500.0|27.0|         660.0|          664.0|           1.0|    12.0|    0.0|  15125.0|      13.0|     36.0|      0.0|          0.0|        17934.32|       17934.32|        9431.56|       3395.2|          714.0|               519.0|              515.0|   310152.0|            4896.0|         17600.0|    25846.0|         156.0|   97.9|               277.0|     5.0|                  0.0|           2.0|        2.0|      4.0|     15.0|          7.0|         16.0|                7.0|    12.0|                 0.0|       345011.0|          95748.0|        7300.0|                  103261.0|             0|          2|          0|   (10,[1],[1.0])|         (6,[0],[1.0])|              (3,[1],[1.0])|     (10,[2],[1.0])| (14,[0],[1.0])|   (52,[47],[1.0])|              (3,[0],[1.0])|                   2.0|               1993.0|          3.0|      2016.0|              10.0|           2017.0|               6.0|           2020.0|                     5.0|                 2020.0|\n",
            "+---------+-----------+---------------+----+--------+-----------+---------+----------+----+--------------+---------------+--------------+--------+-------+---------+----------+---------+---------+-------------+----------------+---------------+---------------+-------------+---------------+--------------------+-------------------+-----------+------------------+----------------+-----------+--------------+-------+--------------------+--------+---------------------+--------------+-----------+---------+---------+-------------+-------------+-------------------+--------+--------------------+---------------+-----------------+--------------+--------------------------+--------------+-----------+-----------+-----------------+----------------------+---------------------------+-------------------+---------------+------------------+---------------------------+----------------------+---------------------+-------------+------------+------------------+-----------------+------------------+-----------------+------------------------+-----------------------+\n",
            "only showing top 20 rows\n",
            "\n"
          ]
        }
      ],
      "source": [
        "filled_missing_values.show()"
      ]
    },
    {
      "cell_type": "code",
      "execution_count": null,
      "metadata": {
        "id": "hrXL-IQJUaWH"
      },
      "outputs": [],
      "source": [
        "filled_missing_values.write.parquet('/content/drive/MyDrive/Bank Project/filled_missing_values', mode = 'overwrite')"
      ]
    },
    {
      "cell_type": "code",
      "execution_count": null,
      "metadata": {
        "id": "9cdy5EUTvCzE"
      },
      "outputs": [],
      "source": [
        "filled_missing_values = spark.read.parquet('/content/drive/MyDrive/Bank Project/filled_missing_values')"
      ]
    },
    {
      "cell_type": "markdown",
      "metadata": {
        "id": "sgimSZlaT4Vb"
      },
      "source": [
        "# **Scale data.**"
      ]
    },
    {
      "cell_type": "code",
      "execution_count": null,
      "metadata": {
        "id": "JTQWRaBUj-1b"
      },
      "outputs": [],
      "source": [
        "def scale_data(spark, data, min_max_path):\n",
        "    min_max_spark_df = spark.read.csv(min_max_path, header=True, inferSchema=True)\n",
        "\n",
        "    column_name_col = min_max_spark_df.columns[0]\n",
        "    cols_ = data.columns\n",
        "    new_cols = cols_[:10] + cols_[11:] + [cols_[10]]\n",
        "    data = data.select(new_cols)\n",
        "\n",
        "    for column in data.columns:\n",
        "        if column == 'acc_now_delinq':\n",
        "            continue\n",
        "        if column == 'delinq_2yrs':\n",
        "            continue\n",
        "        min_row = min_max_spark_df.filter(F.col(column_name_col) == column).select('min').first()\n",
        "        max_row = min_max_spark_df.filter(F.col(column_name_col) == column).select('max').first()\n",
        "\n",
        "        if min_row and max_row:\n",
        "            min_val = min_row['min']\n",
        "            max_val = max_row['max']\n",
        "\n",
        "            if min_val == max_val:\n",
        "                print(f\"Column {column} has min_val == max_val == {min_val}. Filling this column with zeros.\")\n",
        "                data = data.withColumn(column, F.lit(0))\n",
        "            else:\n",
        "                data = data.withColumn(column, (F.col(column) - min_val) / (max_val - min_val))\n",
        "        else:\n",
        "            print(f\"Min or Max value for column {column} not found in the min_max_df.\")\n",
        "\n",
        "    return data"
      ]
    },
    {
      "cell_type": "code",
      "execution_count": null,
      "metadata": {
        "colab": {
          "base_uri": "https://localhost:8080/"
        },
        "id": "V5M2rLgfWOFQ",
        "outputId": "bb7f1620-bb24-4d4b-dc51-554f095649ac"
      },
      "outputs": [
        {
          "output_type": "stream",
          "name": "stdout",
          "text": [
            "Min or Max value for column emp_title_encoded not found in the min_max_df.\n",
            "Min or Max value for column home_ownership_encoded not found in the min_max_df.\n",
            "Min or Max value for column verification_status_encoded not found in the min_max_df.\n",
            "Min or Max value for column loan_status_encoded not found in the min_max_df.\n",
            "Min or Max value for column purpose_encoded not found in the min_max_df.\n",
            "Min or Max value for column initial_list_status_encoded not found in the min_max_df.\n"
          ]
        }
      ],
      "source": [
        "scaled_data = scale_data(spark, filled_missing_values, '/content/drive/MyDrive/Bank Project/train_parameters')"
      ]
    },
    {
      "cell_type": "markdown",
      "metadata": {
        "id": "MTRu7PWdT_0U"
      },
      "source": [
        "# **Round data.**"
      ]
    },
    {
      "cell_type": "code",
      "execution_count": null,
      "metadata": {
        "id": "MyA7C42tv6Ji"
      },
      "outputs": [],
      "source": [
        "def round_data(data):\n",
        "    for column, dtype in data.dtypes:\n",
        "        if isinstance(data.schema[column].dataType, NumericType):\n",
        "            data = data.withColumn(column, F.round(F.col(column), 4))\n",
        "        print(f'Column {column} processed')\n",
        "    return data"
      ]
    },
    {
      "cell_type": "code",
      "execution_count": null,
      "metadata": {
        "colab": {
          "base_uri": "https://localhost:8080/"
        },
        "id": "9dgCboqXwP92",
        "outputId": "e903d050-a4e5-4a8d-8624-be741c641444"
      },
      "outputs": [
        {
          "output_type": "stream",
          "name": "stdout",
          "text": [
            "Column loan_amnt processed\n",
            "Column funded_amnt processed\n",
            "Column funded_amnt_inv processed\n",
            "Column term processed\n",
            "Column int_rate processed\n",
            "Column installment processed\n",
            "Column sub_grade processed\n",
            "Column annual_inc processed\n",
            "Column addr_state processed\n",
            "Column dti processed\n",
            "Column fico_range_high processed\n",
            "Column inq_last_6mths processed\n",
            "Column open_acc processed\n",
            "Column pub_rec processed\n",
            "Column revol_bal processed\n",
            "Column revol_util processed\n",
            "Column total_acc processed\n",
            "Column out_prncp processed\n",
            "Column out_prncp_inv processed\n",
            "Column total_pymnt processed\n",
            "Column total_pymnt_inv processed\n",
            "Column total_rec_prncp processed\n",
            "Column total_rec_int processed\n",
            "Column last_pymnt_amnt processed\n",
            "Column last_fico_range_high processed\n",
            "Column last_fico_range_low processed\n",
            "Column tot_cur_bal processed\n",
            "Column max_bal_bc processed\n",
            "Column total_rev_hi_lim processed\n",
            "Column avg_cur_bal processed\n",
            "Column bc_open_to_buy processed\n",
            "Column bc_util processed\n",
            "Column mo_sin_old_rev_tl_op processed\n",
            "Column mort_acc processed\n",
            "Column mths_since_recent_inq processed\n",
            "Column num_actv_bc_tl processed\n",
            "Column num_actv_rev_tl processed\n",
            "Column num_bc_sats processed\n",
            "Column num_bc_tl processed\n",
            "Column num_il_tl processed\n",
            "Column num_op_rev_tl processed\n",
            "Column num_rev_accts processed\n",
            "Column num_rev_tl_bal_gt_0 processed\n",
            "Column num_sats processed\n",
            "Column pub_rec_bankruptcies processed\n",
            "Column tot_hi_cred_lim processed\n",
            "Column total_bal_ex_mort processed\n",
            "Column total_bc_limit processed\n",
            "Column total_il_high_credit_limit processed\n",
            "Column acc_now_delinq processed\n",
            "Column delinq_2yrs processed\n",
            "Column delinq_amnt processed\n",
            "Column emp_title_encoded processed\n",
            "Column home_ownership_encoded processed\n",
            "Column verification_status_encoded processed\n",
            "Column loan_status_encoded processed\n",
            "Column purpose_encoded processed\n",
            "Column initial_list_status_encoded processed\n",
            "Column month_earliest_cr_line processed\n",
            "Column year_earliest_cr_line processed\n",
            "Column month_issue_d processed\n",
            "Column year_issue_d processed\n",
            "Column month_last_pymnt_d processed\n",
            "Column year_last_pymnt_d processed\n",
            "Column month_next_pymnt_d processed\n",
            "Column year_next_pymnt_d processed\n",
            "Column month_last_credit_pull_d processed\n",
            "Column year_last_credit_pull_d processed\n",
            "Column fico_range_low processed\n"
          ]
        }
      ],
      "source": [
        "rounded_data = round_data(scaled_data)"
      ]
    },
    {
      "cell_type": "markdown",
      "metadata": {
        "id": "0o-P3QL6Dgl_"
      },
      "source": [
        "# **Value count of target variables.**"
      ]
    },
    {
      "cell_type": "code",
      "execution_count": null,
      "metadata": {
        "colab": {
          "base_uri": "https://localhost:8080/"
        },
        "id": "STuPsGDJxhLq",
        "outputId": "9093ff38-d483-4282-b5e7-745cac26ddbb"
      },
      "outputs": [
        {
          "output_type": "stream",
          "name": "stdout",
          "text": [
            "+--------------+-------+\n",
            "|acc_now_delinq|  count|\n",
            "+--------------+-------+\n",
            "|             1|   7119|\n",
            "|             0|2332237|\n",
            "+--------------+-------+\n",
            "\n",
            "+-----------+-------+\n",
            "|delinq_2yrs|  count|\n",
            "+-----------+-------+\n",
            "|          1| 279594|\n",
            "|          3|  41166|\n",
            "|          4|  15646|\n",
            "|          2|  78483|\n",
            "|          0|1924467|\n",
            "+-----------+-------+\n",
            "\n",
            "+-----------+-------+\n",
            "|delinq_amnt|  count|\n",
            "+-----------+-------+\n",
            "|     0.0317|      1|\n",
            "|     0.0124|      5|\n",
            "|     0.1567|      1|\n",
            "|     0.0287|      2|\n",
            "|     0.0011|     87|\n",
            "|     0.0261|      2|\n",
            "|     0.0242|      2|\n",
            "|      0.035|      1|\n",
            "|      0.032|      1|\n",
            "|     0.0331|      1|\n",
            "|     0.0481|      1|\n",
            "|        0.0|2333576|\n",
            "|     0.1612|      1|\n",
            "|      0.058|      1|\n",
            "|     0.1718|      1|\n",
            "|     0.0012|     65|\n",
            "|      0.257|      1|\n",
            "|     0.0472|      1|\n",
            "|     0.0156|      9|\n",
            "|     0.0347|      2|\n",
            "+-----------+-------+\n",
            "only showing top 20 rows\n",
            "\n"
          ]
        }
      ],
      "source": [
        "rounded_data.groupBy('acc_now_delinq').count().show()\n",
        "rounded_data.groupBy('delinq_2yrs').count().show()\n",
        "rounded_data.groupBy('delinq_amnt').count().show()"
      ]
    },
    {
      "cell_type": "markdown",
      "metadata": {
        "id": "nG9bZQFjDojG"
      },
      "source": [
        "# **Create three different dataframe for each target variable**."
      ]
    },
    {
      "cell_type": "code",
      "execution_count": null,
      "metadata": {
        "id": "lWBrdvRaxqvb"
      },
      "outputs": [],
      "source": [
        "main_delinq_amnt = rounded_data.select(*rounded_data.columns[:49] + rounded_data.columns[52:] + [rounded_data.columns[51]])\n",
        "main_acc_now_delinq = rounded_data.select(*rounded_data.columns[:49] + rounded_data.columns[52:] + [rounded_data.columns[49]])\n",
        "main_delinq_2yrs = rounded_data.select(*rounded_data.columns[:49] + rounded_data.columns[52:] + [rounded_data.columns[50]])"
      ]
    },
    {
      "cell_type": "markdown",
      "metadata": {
        "id": "PQlI07uhD2vu"
      },
      "source": [
        "# **Preprocess first target variable: \"delinq_amnt\"**\n",
        "---"
      ]
    },
    {
      "cell_type": "markdown",
      "metadata": {
        "id": "X03_sUtiG-Uh"
      },
      "source": [
        "### Determine minority and majority classes' amounts."
      ]
    },
    {
      "cell_type": "code",
      "execution_count": null,
      "metadata": {
        "colab": {
          "base_uri": "https://localhost:8080/"
        },
        "id": "F_pz3wau3xJE",
        "outputId": "4231470d-67ee-4d55-933f-5c7ff8b89000"
      },
      "outputs": [
        {
          "output_type": "stream",
          "name": "stdout",
          "text": [
            "Majority class count: 2333576\n",
            "Minority classes count: 5780\n"
          ]
        }
      ],
      "source": [
        "majority_class_delinq_amnt = main_delinq_amnt.filter(col('delinq_amnt') == 0.0)\n",
        "minority_classes_delinq_amnt = main_delinq_amnt.filter(col('delinq_amnt') != 0.0)\n",
        "\n",
        "majority_class_count_delinq_amnt = majority_class_delinq_amnt.count()\n",
        "minority_classes_count_delinq_amnt = minority_classes_delinq_amnt.count()\n",
        "\n",
        "print(f\"Majority class count: {majority_class_count_delinq_amnt}\")\n",
        "print(f\"Minority classes count: {minority_classes_count_delinq_amnt}\")"
      ]
    },
    {
      "cell_type": "markdown",
      "source": [
        "### Oversample minority class to majority."
      ],
      "metadata": {
        "id": "5QRcUyPuWQIS"
      }
    },
    {
      "cell_type": "code",
      "execution_count": null,
      "metadata": {
        "id": "ciJuU_4Q6AJi"
      },
      "outputs": [],
      "source": [
        "num_synthetic_samples_delinq_amnt = majority_class_count_delinq_amnt - minority_classes_count_delinq_amnt\n",
        "\n",
        "fraction_to_sample_delinq_amnt = num_synthetic_samples_delinq_amnt / minority_classes_count_delinq_amnt\n",
        "\n",
        "synthetic_df_delinq_amnt = minority_classes_delinq_amnt.sample(withReplacement=True, fraction=fraction_to_sample_delinq_amnt)"
      ]
    },
    {
      "cell_type": "code",
      "execution_count": null,
      "metadata": {
        "colab": {
          "base_uri": "https://localhost:8080/"
        },
        "id": "EMtmQHOo6E-p",
        "outputId": "1113456a-fe2e-44fa-c96b-dab1a09b8dec"
      },
      "outputs": [
        {
          "output_type": "stream",
          "name": "stdout",
          "text": [
            "+-----------+-------+\n",
            "|delinq_amnt|  count|\n",
            "+-----------+-------+\n",
            "|        0.0|2333576|\n",
            "|     1.0E-4| 136196|\n",
            "|     2.0E-4| 164573|\n",
            "|     3.0E-4| 227482|\n",
            "|     4.0E-4| 118213|\n",
            "|     5.0E-4|  70876|\n",
            "|     6.0E-4|  65886|\n",
            "|     7.0E-4|  53387|\n",
            "|     8.0E-4|  42174|\n",
            "|     9.0E-4|  40191|\n",
            "|      0.001|  41130|\n",
            "|     0.0011|  34889|\n",
            "|     0.0012|  26197|\n",
            "|     0.0013|  33534|\n",
            "|     0.0014|  37091|\n",
            "|     0.0015|  28021|\n",
            "|     0.0016|  28077|\n",
            "|     0.0017|  26060|\n",
            "|     0.0018|  23980|\n",
            "|     0.0019|  28595|\n",
            "+-----------+-------+\n",
            "only showing top 20 rows\n",
            "\n"
          ]
        }
      ],
      "source": [
        "balanced_delinq_amnt = majority_class_delinq_amnt.union(synthetic_df_delinq_amnt)\n",
        "balanced_delinq_amnt.groupBy('delinq_amnt').count().orderBy('delinq_amnt').show()"
      ]
    },
    {
      "cell_type": "markdown",
      "metadata": {
        "id": "bjKiBDRoHzVN"
      },
      "source": [
        "### Round balanced data."
      ]
    },
    {
      "cell_type": "code",
      "execution_count": null,
      "metadata": {
        "colab": {
          "base_uri": "https://localhost:8080/"
        },
        "id": "oopsIWbj6upL",
        "outputId": "bb655e7f-d95c-4dd7-fc1f-348bea3a09fc"
      },
      "outputs": [
        {
          "output_type": "stream",
          "name": "stdout",
          "text": [
            "Column loan_amnt processed\n",
            "Column funded_amnt processed\n",
            "Column funded_amnt_inv processed\n",
            "Column term processed\n",
            "Column int_rate processed\n",
            "Column installment processed\n",
            "Column sub_grade processed\n",
            "Column annual_inc processed\n",
            "Column addr_state processed\n",
            "Column dti processed\n",
            "Column fico_range_high processed\n",
            "Column inq_last_6mths processed\n",
            "Column open_acc processed\n",
            "Column pub_rec processed\n",
            "Column revol_bal processed\n",
            "Column revol_util processed\n",
            "Column total_acc processed\n",
            "Column out_prncp processed\n",
            "Column out_prncp_inv processed\n",
            "Column total_pymnt processed\n",
            "Column total_pymnt_inv processed\n",
            "Column total_rec_prncp processed\n",
            "Column total_rec_int processed\n",
            "Column last_pymnt_amnt processed\n",
            "Column last_fico_range_high processed\n",
            "Column last_fico_range_low processed\n",
            "Column tot_cur_bal processed\n",
            "Column max_bal_bc processed\n",
            "Column total_rev_hi_lim processed\n",
            "Column avg_cur_bal processed\n",
            "Column bc_open_to_buy processed\n",
            "Column bc_util processed\n",
            "Column mo_sin_old_rev_tl_op processed\n",
            "Column mort_acc processed\n",
            "Column mths_since_recent_inq processed\n",
            "Column num_actv_bc_tl processed\n",
            "Column num_actv_rev_tl processed\n",
            "Column num_bc_sats processed\n",
            "Column num_bc_tl processed\n",
            "Column num_il_tl processed\n",
            "Column num_op_rev_tl processed\n",
            "Column num_rev_accts processed\n",
            "Column num_rev_tl_bal_gt_0 processed\n",
            "Column num_sats processed\n",
            "Column pub_rec_bankruptcies processed\n",
            "Column tot_hi_cred_lim processed\n",
            "Column total_bal_ex_mort processed\n",
            "Column total_bc_limit processed\n",
            "Column total_il_high_credit_limit processed\n",
            "Column emp_title_encoded processed\n",
            "Column home_ownership_encoded processed\n",
            "Column verification_status_encoded processed\n",
            "Column loan_status_encoded processed\n",
            "Column purpose_encoded processed\n",
            "Column initial_list_status_encoded processed\n",
            "Column month_earliest_cr_line processed\n",
            "Column year_earliest_cr_line processed\n",
            "Column month_issue_d processed\n",
            "Column year_issue_d processed\n",
            "Column month_last_pymnt_d processed\n",
            "Column year_last_pymnt_d processed\n",
            "Column month_next_pymnt_d processed\n",
            "Column year_next_pymnt_d processed\n",
            "Column month_last_credit_pull_d processed\n",
            "Column year_last_credit_pull_d processed\n",
            "Column fico_range_low processed\n",
            "Column delinq_amnt processed\n"
          ]
        }
      ],
      "source": [
        "balanced_delinq_amnt = round_data(balanced_delinq_amnt)"
      ]
    },
    {
      "cell_type": "markdown",
      "metadata": {
        "id": "PdTFOfHAH_7c"
      },
      "source": [
        "### Calculation of whisker values for each column and saving."
      ]
    },
    {
      "cell_type": "code",
      "execution_count": null,
      "metadata": {
        "id": "pfzDEh3lKhT1"
      },
      "outputs": [],
      "source": [
        "def calculate_whiskers(data, column):\n",
        "    pd_data = data.select(column).toPandas()[column]\n",
        "\n",
        "    q1 = pd_data.quantile(0.25)\n",
        "    q3 = pd_data.quantile(0.75)\n",
        "    iqr = q3 - q1\n",
        "    lower_whisker = q1 - 1.5 * iqr\n",
        "    upper_whisker = q3 + 1.5 * iqr\n",
        "\n",
        "    return lower_whisker, upper_whisker"
      ]
    },
    {
      "cell_type": "code",
      "execution_count": null,
      "metadata": {
        "id": "o8wG3nDPRMpI",
        "colab": {
          "base_uri": "https://localhost:8080/"
        },
        "outputId": "74ffd3fc-64b2-401e-f06e-b4e5a81e950f"
      },
      "outputs": [
        {
          "output_type": "stream",
          "name": "stdout",
          "text": [
            "Column loan_amnt processed\n",
            "Column funded_amnt processed\n",
            "Column funded_amnt_inv processed\n",
            "Column term processed\n",
            "Column int_rate processed\n",
            "Column installment processed\n",
            "Column sub_grade processed\n",
            "Column annual_inc processed\n",
            "Column addr_state processed\n",
            "Column dti processed\n",
            "Column fico_range_high processed\n",
            "Column inq_last_6mths processed\n",
            "Column open_acc processed\n",
            "Column pub_rec processed\n",
            "Column revol_bal processed\n",
            "Column revol_util processed\n",
            "Column total_acc processed\n",
            "Column out_prncp processed\n",
            "Column out_prncp_inv processed\n",
            "Column total_pymnt processed\n",
            "Column total_pymnt_inv processed\n",
            "Column total_rec_prncp processed\n",
            "Column total_rec_int processed\n",
            "Column last_pymnt_amnt processed\n",
            "Column last_fico_range_high processed\n",
            "Column last_fico_range_low processed\n",
            "Column tot_cur_bal processed\n",
            "Column max_bal_bc processed\n",
            "Column total_rev_hi_lim processed\n",
            "Column avg_cur_bal processed\n",
            "Column bc_open_to_buy processed\n",
            "Column bc_util processed\n",
            "Column mo_sin_old_rev_tl_op processed\n",
            "Column mort_acc processed\n",
            "Column mths_since_recent_inq processed\n",
            "Column num_actv_bc_tl processed\n",
            "Column num_actv_rev_tl processed\n",
            "Column num_bc_sats processed\n",
            "Column num_bc_tl processed\n",
            "Column num_il_tl processed\n",
            "Column num_op_rev_tl processed\n",
            "Column num_rev_accts processed\n",
            "Column num_rev_tl_bal_gt_0 processed\n",
            "Column num_sats processed\n",
            "Column pub_rec_bankruptcies processed\n",
            "Column tot_hi_cred_lim processed\n",
            "Column total_bal_ex_mort processed\n",
            "Column total_bc_limit processed\n",
            "Column total_il_high_credit_limit processed\n",
            "Skipping column emp_title_encoded as it is of type VectorUDT\n",
            "Skipping column home_ownership_encoded as it is of type VectorUDT\n",
            "Skipping column verification_status_encoded as it is of type VectorUDT\n",
            "Skipping column loan_status_encoded as it is of type VectorUDT\n",
            "Skipping column purpose_encoded as it is of type VectorUDT\n",
            "Skipping column initial_list_status_encoded as it is of type VectorUDT\n",
            "Column month_earliest_cr_line processed\n",
            "Column year_earliest_cr_line processed\n",
            "Column month_issue_d processed\n",
            "Column year_issue_d processed\n",
            "Column month_last_pymnt_d processed\n",
            "Column year_last_pymnt_d processed\n",
            "Column month_next_pymnt_d processed\n",
            "Column year_next_pymnt_d processed\n",
            "Column month_last_credit_pull_d processed\n",
            "Column year_last_credit_pull_d processed\n",
            "Column fico_range_low processed\n",
            "Column delinq_amnt processed\n"
          ]
        }
      ],
      "source": [
        "whisk_dict_delinq_amnt = {'column': [], 'lower_whisker': [], 'upper_whisker': []}\n",
        "for column in balanced_delinq_amnt.columns:\n",
        "    wiskers = {}\n",
        "    if isinstance(balanced_delinq_amnt.schema[column].dataType, VectorUDT):\n",
        "        print(f'Skipping column {column} as it is of type VectorUDT')\n",
        "        continue\n",
        "    lower_whisker_delinq_amnt, upper_whisker_delinq_amnt = calculate_whiskers(balanced_delinq_amnt, column)\n",
        "    whisk_dict_delinq_amnt['column'].append(column)\n",
        "    whisk_dict_delinq_amnt['lower_whisker'].append(lower_whisker_delinq_amnt)\n",
        "    whisk_dict_delinq_amnt['upper_whisker'].append(upper_whisker_delinq_amnt)\n",
        "    print(f'Column {column} processed')\n",
        "with open('/content/drive/MyDrive/Bank Project/whiskers_delinq_amnt.pkl', 'wb') as file:\n",
        "    pickle.dump(whisk_dict_delinq_amnt, file)"
      ]
    },
    {
      "cell_type": "markdown",
      "metadata": {
        "id": "PwxIexwsmOAK"
      },
      "source": [
        "### Handle outliers and replace by median value of train."
      ]
    },
    {
      "cell_type": "code",
      "execution_count": null,
      "metadata": {
        "id": "NYLi59JXt6tG"
      },
      "outputs": [],
      "source": [
        "import pickle\n",
        "from pyspark.sql.functions import col, when\n",
        "from pyspark.ml.linalg import VectorUDT\n",
        "\n",
        "def handle_outliers(data, whisker_path):\n",
        "    with open(whisker_path, 'rb') as file:\n",
        "        whiskers = pickle.load(file)\n",
        "\n",
        "    train_parameters = spark.read.csv('/content/drive/MyDrive/Bank Project/train_parameters', header=True, inferSchema=True)\n",
        "\n",
        "    for column in data.columns:\n",
        "        if isinstance(data.schema[column].dataType, VectorUDT):\n",
        "            print(f'Skipping column {column} as it is of type VectorUDT')\n",
        "            continue\n",
        "        outliers = True\n",
        "\n",
        "\n",
        "        outliers = False\n",
        "        median_value = train_parameters.filter(col('column_name') == column).select('median').collect()[0][0]\n",
        "        min_value = train_parameters.filter(col('column_name') == column).select('min').collect()[0][0]\n",
        "        max_value = train_parameters.filter(col('column_name') == column).select('max').collect()[0][0]\n",
        "        scaled_median = (median_value - min_value) / (max_value - min_value)\n",
        "\n",
        "        column_index = whiskers['column'].index(column)\n",
        "\n",
        "        lower_whisker = whiskers['lower_whisker'][column_index]\n",
        "        upper_whisker = whiskers['upper_whisker'][column_index]\n",
        "\n",
        "        data = data.withColumn(\n",
        "            column,\n",
        "            when(col(column).isNull(), None)\n",
        "            .when(col(column) <= lower_whisker, scaled_median)\n",
        "            .when(col(column) >= upper_whisker, scaled_median)\n",
        "            .otherwise(col(column))\n",
        "        )\n",
        "        print(f'Column {column} processed successfully')\n",
        "    return data"
      ]
    },
    {
      "cell_type": "code",
      "execution_count": null,
      "metadata": {
        "colab": {
          "base_uri": "https://localhost:8080/"
        },
        "id": "YWc2CXlJizuy",
        "outputId": "4072cb52-031a-45c2-9c6c-7df39bf80785"
      },
      "outputs": [
        {
          "output_type": "stream",
          "name": "stdout",
          "text": [
            "Column loan_amnt processed successfully\n",
            "Column funded_amnt processed successfully\n",
            "Column funded_amnt_inv processed successfully\n",
            "Column term processed successfully\n",
            "Column int_rate processed successfully\n",
            "Column installment processed successfully\n",
            "Column sub_grade processed successfully\n",
            "Column annual_inc processed successfully\n",
            "Column addr_state processed successfully\n",
            "Column dti processed successfully\n",
            "Column fico_range_high processed successfully\n",
            "Column inq_last_6mths processed successfully\n",
            "Column open_acc processed successfully\n",
            "Column pub_rec processed successfully\n",
            "Column revol_bal processed successfully\n",
            "Column revol_util processed successfully\n",
            "Column total_acc processed successfully\n",
            "Column out_prncp processed successfully\n",
            "Column out_prncp_inv processed successfully\n",
            "Column total_pymnt processed successfully\n",
            "Column total_pymnt_inv processed successfully\n",
            "Column total_rec_prncp processed successfully\n",
            "Column total_rec_int processed successfully\n",
            "Column last_pymnt_amnt processed successfully\n",
            "Column last_fico_range_high processed successfully\n",
            "Column last_fico_range_low processed successfully\n",
            "Column tot_cur_bal processed successfully\n",
            "Column max_bal_bc processed successfully\n",
            "Column total_rev_hi_lim processed successfully\n",
            "Column avg_cur_bal processed successfully\n",
            "Column bc_open_to_buy processed successfully\n",
            "Column bc_util processed successfully\n",
            "Column mo_sin_old_rev_tl_op processed successfully\n",
            "Column mort_acc processed successfully\n",
            "Column mths_since_recent_inq processed successfully\n",
            "Column num_actv_bc_tl processed successfully\n",
            "Column num_actv_rev_tl processed successfully\n",
            "Column num_bc_sats processed successfully\n",
            "Column num_bc_tl processed successfully\n",
            "Column num_il_tl processed successfully\n",
            "Column num_op_rev_tl processed successfully\n",
            "Column num_rev_accts processed successfully\n",
            "Column num_rev_tl_bal_gt_0 processed successfully\n",
            "Column num_sats processed successfully\n",
            "Column pub_rec_bankruptcies processed successfully\n",
            "Column tot_hi_cred_lim processed successfully\n",
            "Column total_bal_ex_mort processed successfully\n",
            "Column total_bc_limit processed successfully\n",
            "Column total_il_high_credit_limit processed successfully\n",
            "Skipping column emp_title_encoded as it is of type VectorUDT\n",
            "Skipping column home_ownership_encoded as it is of type VectorUDT\n",
            "Skipping column verification_status_encoded as it is of type VectorUDT\n",
            "Skipping column loan_status_encoded as it is of type VectorUDT\n",
            "Skipping column purpose_encoded as it is of type VectorUDT\n",
            "Skipping column initial_list_status_encoded as it is of type VectorUDT\n",
            "Column month_earliest_cr_line processed successfully\n",
            "Column year_earliest_cr_line processed successfully\n",
            "Column month_issue_d processed successfully\n",
            "Column year_issue_d processed successfully\n",
            "Column month_last_pymnt_d processed successfully\n",
            "Column year_last_pymnt_d processed successfully\n",
            "Column month_next_pymnt_d processed successfully\n",
            "Column year_next_pymnt_d processed successfully\n",
            "Column month_last_credit_pull_d processed successfully\n",
            "Column year_last_credit_pull_d processed successfully\n",
            "Column fico_range_low processed successfully\n",
            "Column delinq_amnt processed successfully\n"
          ]
        }
      ],
      "source": [
        "final_delinq_amnt = handle_outliers(balanced_delinq_amnt, '/content/drive/MyDrive/Bank Project/whiskers_delinq_amnt.pkl')"
      ]
    },
    {
      "cell_type": "code",
      "execution_count": null,
      "metadata": {
        "id": "V7UPcqF17wtd"
      },
      "outputs": [],
      "source": [
        "final_delinq_amnt.write.parquet('/content/drive/MyDrive/Bank Project/final_delinq_amnt_data', mode = 'overwrite')"
      ]
    },
    {
      "cell_type": "markdown",
      "metadata": {
        "id": "gKwpjUP_RXPI"
      },
      "source": [
        "# **Preprocess second target variable: \"acc_now_delinq\"**\n",
        "---"
      ]
    },
    {
      "cell_type": "markdown",
      "metadata": {
        "id": "C8G_p_YhAkH_"
      },
      "source": [
        "### See the values of \"acc_now_delinq\" target."
      ]
    },
    {
      "cell_type": "code",
      "execution_count": null,
      "metadata": {
        "colab": {
          "base_uri": "https://localhost:8080/"
        },
        "id": "KbXe1beZRHku",
        "outputId": "77587b6d-7991-4e02-83ba-1624730ed32b"
      },
      "outputs": [
        {
          "output_type": "stream",
          "name": "stdout",
          "text": [
            "+--------------+-------+\n",
            "|acc_now_delinq|  count|\n",
            "+--------------+-------+\n",
            "|             1|   7119|\n",
            "|             0|2332237|\n",
            "+--------------+-------+\n",
            "\n"
          ]
        }
      ],
      "source": [
        "main_acc_now_delinq.groupBy('acc_now_delinq').count().show()"
      ]
    },
    {
      "cell_type": "markdown",
      "source": [
        "### Determine minority and majority classes."
      ],
      "metadata": {
        "id": "kj6YW8VZWfJ7"
      }
    },
    {
      "cell_type": "code",
      "execution_count": null,
      "metadata": {
        "colab": {
          "base_uri": "https://localhost:8080/"
        },
        "id": "DfiUe-yYSxZz",
        "outputId": "29214919-e721-44cb-ba46-82922ac6aac8"
      },
      "outputs": [
        {
          "output_type": "stream",
          "name": "stdout",
          "text": [
            "Majority class count: 2332237\n",
            "Minority classes count: 7119\n"
          ]
        }
      ],
      "source": [
        "majority_class_acc_now_delinq = main_acc_now_delinq.filter(col('acc_now_delinq') == 0.0)\n",
        "minority_classes_acc_now_delinq = main_acc_now_delinq.filter(col('acc_now_delinq') == 1)\n",
        "\n",
        "majority_class_count_acc_now_delinq = majority_class_acc_now_delinq.count()\n",
        "minority_classes_count_acc_now_delinq = minority_classes_acc_now_delinq.count()\n",
        "\n",
        "print(f\"Majority class count: {majority_class_count_acc_now_delinq}\")\n",
        "print(f\"Minority classes count: {minority_classes_count_acc_now_delinq}\")"
      ]
    },
    {
      "cell_type": "markdown",
      "source": [
        "### Oversample minority class to majority."
      ],
      "metadata": {
        "id": "uGwlSJNxWopU"
      }
    },
    {
      "cell_type": "code",
      "source": [
        "num_synthetic_samples_acc_now_delinq = majority_class_count_acc_now_delinq - minority_classes_count_acc_now_delinq\n",
        "\n",
        "fraction_to_sample_acc_now_delinq = num_synthetic_samples_acc_now_delinq / minority_classes_count_acc_now_delinq\n",
        "\n",
        "synthetic_df_acc_now_delinq = minority_classes_acc_now_delinq.sample(withReplacement=True, fraction=fraction_to_sample_acc_now_delinq)"
      ],
      "metadata": {
        "id": "0-XJhShDCg1n"
      },
      "execution_count": null,
      "outputs": []
    },
    {
      "cell_type": "code",
      "source": [
        "balanced_acc_now_delinq = majority_class_acc_now_delinq.union(synthetic_df_acc_now_delinq)\n",
        "balanced_acc_now_delinq.groupBy('acc_now_delinq').count().orderBy('acc_now_delinq').show()"
      ],
      "metadata": {
        "colab": {
          "base_uri": "https://localhost:8080/"
        },
        "id": "IYTC3indDfIv",
        "outputId": "c37055a2-6a6b-4430-e331-be52b480944f"
      },
      "execution_count": null,
      "outputs": [
        {
          "output_type": "stream",
          "name": "stdout",
          "text": [
            "+--------------+-------+\n",
            "|acc_now_delinq|  count|\n",
            "+--------------+-------+\n",
            "|             0|2332237|\n",
            "|             1|2324567|\n",
            "+--------------+-------+\n",
            "\n"
          ]
        }
      ]
    },
    {
      "cell_type": "markdown",
      "metadata": {
        "id": "BuqKATAiA6LQ"
      },
      "source": [
        "### Round data."
      ]
    },
    {
      "cell_type": "code",
      "execution_count": null,
      "metadata": {
        "colab": {
          "base_uri": "https://localhost:8080/"
        },
        "id": "EtLON5BiU5Ix",
        "outputId": "8a8cdf44-6fa2-4f6b-9b55-3e98f59be9e8"
      },
      "outputs": [
        {
          "output_type": "stream",
          "name": "stdout",
          "text": [
            "Column loan_amnt processed\n",
            "Column funded_amnt processed\n",
            "Column funded_amnt_inv processed\n",
            "Column term processed\n",
            "Column int_rate processed\n",
            "Column installment processed\n",
            "Column sub_grade processed\n",
            "Column annual_inc processed\n",
            "Column addr_state processed\n",
            "Column dti processed\n",
            "Column fico_range_high processed\n",
            "Column inq_last_6mths processed\n",
            "Column open_acc processed\n",
            "Column pub_rec processed\n",
            "Column revol_bal processed\n",
            "Column revol_util processed\n",
            "Column total_acc processed\n",
            "Column out_prncp processed\n",
            "Column out_prncp_inv processed\n",
            "Column total_pymnt processed\n",
            "Column total_pymnt_inv processed\n",
            "Column total_rec_prncp processed\n",
            "Column total_rec_int processed\n",
            "Column last_pymnt_amnt processed\n",
            "Column last_fico_range_high processed\n",
            "Column last_fico_range_low processed\n",
            "Column tot_cur_bal processed\n",
            "Column max_bal_bc processed\n",
            "Column total_rev_hi_lim processed\n",
            "Column avg_cur_bal processed\n",
            "Column bc_open_to_buy processed\n",
            "Column bc_util processed\n",
            "Column mo_sin_old_rev_tl_op processed\n",
            "Column mort_acc processed\n",
            "Column mths_since_recent_inq processed\n",
            "Column num_actv_bc_tl processed\n",
            "Column num_actv_rev_tl processed\n",
            "Column num_bc_sats processed\n",
            "Column num_bc_tl processed\n",
            "Column num_il_tl processed\n",
            "Column num_op_rev_tl processed\n",
            "Column num_rev_accts processed\n",
            "Column num_rev_tl_bal_gt_0 processed\n",
            "Column num_sats processed\n",
            "Column pub_rec_bankruptcies processed\n",
            "Column tot_hi_cred_lim processed\n",
            "Column total_bal_ex_mort processed\n",
            "Column total_bc_limit processed\n",
            "Column total_il_high_credit_limit processed\n",
            "Column emp_title_encoded processed\n",
            "Column home_ownership_encoded processed\n",
            "Column verification_status_encoded processed\n",
            "Column loan_status_encoded processed\n",
            "Column purpose_encoded processed\n",
            "Column initial_list_status_encoded processed\n",
            "Column month_earliest_cr_line processed\n",
            "Column year_earliest_cr_line processed\n",
            "Column month_issue_d processed\n",
            "Column year_issue_d processed\n",
            "Column month_last_pymnt_d processed\n",
            "Column year_last_pymnt_d processed\n",
            "Column month_next_pymnt_d processed\n",
            "Column year_next_pymnt_d processed\n",
            "Column month_last_credit_pull_d processed\n",
            "Column year_last_credit_pull_d processed\n",
            "Column fico_range_low processed\n",
            "Column acc_now_delinq processed\n"
          ]
        }
      ],
      "source": [
        "balanced_acc_now_delinq = round_data(balanced_acc_now_delinq)"
      ]
    },
    {
      "cell_type": "markdown",
      "metadata": {
        "id": "TZZQActMA9ez"
      },
      "source": [
        "### Calculate whiskers for second target and save."
      ]
    },
    {
      "cell_type": "code",
      "source": [
        "whisk_dict_acc_now_delinq = {'column': [], 'lower_whisker': [], 'upper_whisker': []}\n",
        "for column in balanced_acc_now_delinq.columns:\n",
        "    wiskers = {}\n",
        "    if isinstance(balanced_acc_now_delinq.schema[column].dataType, VectorUDT):\n",
        "        print(f'Skipping column {column} as it is of type VectorUDT')\n",
        "        continue\n",
        "    lower_whisker_acc_now_delinq, upper_whisker_acc_now_delinq = calculate_whiskers(balanced_acc_now_delinq, column)\n",
        "    whisk_dict_acc_now_delinq['column'].append(column)\n",
        "    whisk_dict_acc_now_delinq['lower_whisker'].append(lower_whisker_acc_now_delinq)\n",
        "    whisk_dict_acc_now_delinq['upper_whisker'].append(upper_whisker_acc_now_delinq)\n",
        "    print(f'Column {column} processed')\n",
        "with open('/content/drive/MyDrive/Bank Project/whiskers_acc_now_delinq.pkl', 'wb') as file:\n",
        "    pickle.dump(whisk_dict_acc_now_delinq, file)"
      ],
      "metadata": {
        "colab": {
          "base_uri": "https://localhost:8080/"
        },
        "id": "0YAZE6CA9DPA",
        "outputId": "511ab897-fe8c-4759-92e5-2029e8c625e4"
      },
      "execution_count": null,
      "outputs": [
        {
          "output_type": "stream",
          "name": "stdout",
          "text": [
            "Column loan_amnt processed\n",
            "Column funded_amnt processed\n",
            "Column funded_amnt_inv processed\n",
            "Column term processed\n",
            "Column int_rate processed\n",
            "Column installment processed\n",
            "Column sub_grade processed\n",
            "Column annual_inc processed\n",
            "Column addr_state processed\n",
            "Column dti processed\n",
            "Column fico_range_high processed\n",
            "Column inq_last_6mths processed\n",
            "Column open_acc processed\n",
            "Column pub_rec processed\n",
            "Column revol_bal processed\n",
            "Column revol_util processed\n",
            "Column total_acc processed\n",
            "Column out_prncp processed\n",
            "Column out_prncp_inv processed\n",
            "Column total_pymnt processed\n",
            "Column total_pymnt_inv processed\n",
            "Column total_rec_prncp processed\n",
            "Column total_rec_int processed\n",
            "Column last_pymnt_amnt processed\n",
            "Column last_fico_range_high processed\n",
            "Column last_fico_range_low processed\n",
            "Column tot_cur_bal processed\n",
            "Column max_bal_bc processed\n",
            "Column total_rev_hi_lim processed\n",
            "Column avg_cur_bal processed\n",
            "Column bc_open_to_buy processed\n",
            "Column bc_util processed\n",
            "Column mo_sin_old_rev_tl_op processed\n",
            "Column mort_acc processed\n",
            "Column mths_since_recent_inq processed\n",
            "Column num_actv_bc_tl processed\n",
            "Column num_actv_rev_tl processed\n",
            "Column num_bc_sats processed\n",
            "Column num_bc_tl processed\n",
            "Column num_il_tl processed\n",
            "Column num_op_rev_tl processed\n",
            "Column num_rev_accts processed\n",
            "Column num_rev_tl_bal_gt_0 processed\n",
            "Column num_sats processed\n",
            "Column pub_rec_bankruptcies processed\n",
            "Column tot_hi_cred_lim processed\n",
            "Column total_bal_ex_mort processed\n",
            "Column total_bc_limit processed\n",
            "Column total_il_high_credit_limit processed\n",
            "Skipping column emp_title_encoded as it is of type VectorUDT\n",
            "Skipping column home_ownership_encoded as it is of type VectorUDT\n",
            "Skipping column verification_status_encoded as it is of type VectorUDT\n",
            "Skipping column loan_status_encoded as it is of type VectorUDT\n",
            "Skipping column purpose_encoded as it is of type VectorUDT\n",
            "Skipping column initial_list_status_encoded as it is of type VectorUDT\n",
            "Column month_earliest_cr_line processed\n",
            "Column year_earliest_cr_line processed\n",
            "Column month_issue_d processed\n",
            "Column year_issue_d processed\n",
            "Column month_last_pymnt_d processed\n",
            "Column year_last_pymnt_d processed\n",
            "Column month_next_pymnt_d processed\n",
            "Column year_next_pymnt_d processed\n",
            "Column month_last_credit_pull_d processed\n",
            "Column year_last_credit_pull_d processed\n",
            "Column fico_range_low processed\n",
            "Column acc_now_delinq processed\n"
          ]
        }
      ]
    },
    {
      "cell_type": "markdown",
      "metadata": {
        "id": "y6aow6yaBC86"
      },
      "source": [
        "### Handle outliers."
      ]
    },
    {
      "cell_type": "code",
      "execution_count": null,
      "metadata": {
        "colab": {
          "base_uri": "https://localhost:8080/"
        },
        "id": "k6wLqgopVUga",
        "outputId": "b3cf5203-b26a-413c-cbe9-6ff3669dabd8"
      },
      "outputs": [
        {
          "output_type": "stream",
          "name": "stdout",
          "text": [
            "Column loan_amnt processed successfully\n",
            "Column funded_amnt processed successfully\n",
            "Column funded_amnt_inv processed successfully\n",
            "Column term processed successfully\n",
            "Column int_rate processed successfully\n",
            "Column installment processed successfully\n",
            "Column sub_grade processed successfully\n",
            "Column annual_inc processed successfully\n",
            "Column addr_state processed successfully\n",
            "Column dti processed successfully\n",
            "Column fico_range_high processed successfully\n",
            "Column inq_last_6mths processed successfully\n",
            "Column open_acc processed successfully\n",
            "Column pub_rec processed successfully\n",
            "Column revol_bal processed successfully\n",
            "Column revol_util processed successfully\n",
            "Column total_acc processed successfully\n",
            "Column out_prncp processed successfully\n",
            "Column out_prncp_inv processed successfully\n",
            "Column total_pymnt processed successfully\n",
            "Column total_pymnt_inv processed successfully\n",
            "Column total_rec_prncp processed successfully\n",
            "Column total_rec_int processed successfully\n",
            "Column last_pymnt_amnt processed successfully\n",
            "Column last_fico_range_high processed successfully\n",
            "Column last_fico_range_low processed successfully\n",
            "Column tot_cur_bal processed successfully\n",
            "Column max_bal_bc processed successfully\n",
            "Column total_rev_hi_lim processed successfully\n",
            "Column avg_cur_bal processed successfully\n",
            "Column bc_open_to_buy processed successfully\n",
            "Column bc_util processed successfully\n",
            "Column mo_sin_old_rev_tl_op processed successfully\n",
            "Column mort_acc processed successfully\n",
            "Column mths_since_recent_inq processed successfully\n",
            "Column num_actv_bc_tl processed successfully\n",
            "Column num_actv_rev_tl processed successfully\n",
            "Column num_bc_sats processed successfully\n",
            "Column num_bc_tl processed successfully\n",
            "Column num_il_tl processed successfully\n",
            "Column num_op_rev_tl processed successfully\n",
            "Column num_rev_accts processed successfully\n",
            "Column num_rev_tl_bal_gt_0 processed successfully\n",
            "Column num_sats processed successfully\n",
            "Column pub_rec_bankruptcies processed successfully\n",
            "Column tot_hi_cred_lim processed successfully\n",
            "Column total_bal_ex_mort processed successfully\n",
            "Column total_bc_limit processed successfully\n",
            "Column total_il_high_credit_limit processed successfully\n",
            "Skipping column emp_title_encoded as it is of type VectorUDT\n",
            "Skipping column home_ownership_encoded as it is of type VectorUDT\n",
            "Skipping column verification_status_encoded as it is of type VectorUDT\n",
            "Skipping column loan_status_encoded as it is of type VectorUDT\n",
            "Skipping column purpose_encoded as it is of type VectorUDT\n",
            "Skipping column initial_list_status_encoded as it is of type VectorUDT\n",
            "Column month_earliest_cr_line processed successfully\n",
            "Column year_earliest_cr_line processed successfully\n",
            "Column month_issue_d processed successfully\n",
            "Column year_issue_d processed successfully\n",
            "Column month_last_pymnt_d processed successfully\n",
            "Column year_last_pymnt_d processed successfully\n",
            "Column month_next_pymnt_d processed successfully\n",
            "Column year_next_pymnt_d processed successfully\n",
            "Column month_last_credit_pull_d processed successfully\n",
            "Column year_last_credit_pull_d processed successfully\n",
            "Column fico_range_low processed successfully\n",
            "Column acc_now_delinq processed successfully\n"
          ]
        }
      ],
      "source": [
        "final_acc_now_delinq = handle_outliers(balanced_acc_now_delinq, '/content/drive/MyDrive/Bank Project/whiskers_acc_now_delinq.pkl')"
      ]
    },
    {
      "cell_type": "code",
      "execution_count": null,
      "metadata": {
        "id": "goBKy-OfVDA7"
      },
      "outputs": [],
      "source": [
        "final_acc_now_delinq.write.parquet('/content/drive/MyDrive/Bank Project/final_acc_now_delinq_data', mode='overwrite')"
      ]
    },
    {
      "cell_type": "markdown",
      "metadata": {
        "id": "l6VoRui-gro5"
      },
      "source": [
        "# **Preprocess third target variable: \"delinq_2yrs\"**\n",
        "---"
      ]
    },
    {
      "cell_type": "markdown",
      "metadata": {
        "id": "7ZwwmIe0BLwq"
      },
      "source": [
        "### Value count of each class in target variable \"delinq_2yrs\"."
      ]
    },
    {
      "cell_type": "code",
      "execution_count": null,
      "metadata": {
        "colab": {
          "base_uri": "https://localhost:8080/"
        },
        "id": "Mt9b7HJiev3h",
        "outputId": "d199ff65-1d98-4c5b-9926-e355cc687df9"
      },
      "outputs": [
        {
          "output_type": "stream",
          "name": "stdout",
          "text": [
            "+-----------+-------+\n",
            "|delinq_2yrs|  count|\n",
            "+-----------+-------+\n",
            "|          1| 279594|\n",
            "|          3|  41166|\n",
            "|          4|  15646|\n",
            "|          2|  78483|\n",
            "|          0|1924467|\n",
            "+-----------+-------+\n",
            "\n"
          ]
        }
      ],
      "source": [
        "main_delinq_2yrs.groupBy('delinq_2yrs').count().show()"
      ]
    },
    {
      "cell_type": "markdown",
      "source": [
        "### Determine minority and majority classes."
      ],
      "metadata": {
        "id": "sbIb4UCLWu4T"
      }
    },
    {
      "cell_type": "code",
      "execution_count": null,
      "metadata": {
        "colab": {
          "base_uri": "https://localhost:8080/"
        },
        "id": "_jE1lZ6cg7pu",
        "outputId": "891dd115-e812-4c30-ff99-66dea123632e"
      },
      "outputs": [
        {
          "output_type": "stream",
          "name": "stdout",
          "text": [
            "Majority class count: 1924467\n",
            "Minority classes count: 414889\n"
          ]
        }
      ],
      "source": [
        "majority_class_delinq_2yrs = main_delinq_2yrs.filter(col('delinq_2yrs') == 0.0)\n",
        "minority_classes_delinq_2yrs = main_delinq_2yrs.filter(col('delinq_2yrs') != 0.0)\n",
        "\n",
        "majority_class_count_delinq_2yrs = majority_class_delinq_2yrs.count()\n",
        "minority_classes_count_delinq_2yrs = minority_classes_delinq_2yrs.count()\n",
        "\n",
        "print(f\"Majority class count: {majority_class_count_delinq_2yrs}\")\n",
        "print(f\"Minority classes count: {minority_classes_count_delinq_2yrs}\")"
      ]
    },
    {
      "cell_type": "markdown",
      "metadata": {
        "id": "iplP8MYIBVSj"
      },
      "source": [
        "### Oversample minority class to majoritydata from minority classes in target variable."
      ]
    },
    {
      "cell_type": "code",
      "execution_count": null,
      "metadata": {
        "id": "JBVdRGs0iJOB"
      },
      "outputs": [],
      "source": [
        "majority_class_delinq_2yrs = main_delinq_2yrs.filter(col('delinq_2yrs') == 0.0)\n",
        "minority_classes_delinq_2yrs_1 = main_delinq_2yrs.filter(col('delinq_2yrs') == 1)\n",
        "minority_classes_delinq_2yrs_2 = main_delinq_2yrs.filter(col('delinq_2yrs') == 2)\n",
        "minority_classes_delinq_2yrs_3 = main_delinq_2yrs.filter(col('delinq_2yrs') == 3)\n",
        "minority_classes_delinq_2yrs_4 = main_delinq_2yrs.filter(col('delinq_2yrs') == 4)"
      ]
    },
    {
      "cell_type": "code",
      "execution_count": null,
      "metadata": {
        "id": "N1788cevjjeO"
      },
      "outputs": [],
      "source": [
        "num_synthetic_samples_delinq_2yrs_1 = majority_class_count_delinq_2yrs - minority_classes_delinq_2yrs_1.count()\n",
        "fraction_1 = num_synthetic_samples_delinq_2yrs_1 / minority_classes_delinq_2yrs_1.count()\n",
        "synthetic_df_delinq_2yrs_1 = minority_classes_delinq_2yrs_1.sample(withReplacement=True, fraction=fraction_1)\n",
        "\n",
        "num_synthetic_samples_delinq_2yrs_2 = majority_class_count_delinq_2yrs - minority_classes_delinq_2yrs_2.count()\n",
        "fraction_2 = num_synthetic_samples_delinq_2yrs_2 / minority_classes_delinq_2yrs_2.count()\n",
        "synthetic_df_delinq_2yrs_2 = minority_classes_delinq_2yrs_2.sample(withReplacement=True, fraction=fraction_2)\n",
        "\n",
        "\n",
        "num_synthetic_samples_delinq_2yrs_3 = majority_class_count_delinq_2yrs - minority_classes_delinq_2yrs_3.count()\n",
        "fraction_3 = num_synthetic_samples_delinq_2yrs_3 / minority_classes_delinq_2yrs_3.count()\n",
        "synthetic_df_delinq_2yrs_3 = minority_classes_delinq_2yrs_3.sample(withReplacement=True, fraction=fraction_3)\n",
        "\n",
        "\n",
        "num_synthetic_samples_delinq_2yrs_4 = majority_class_count_delinq_2yrs - minority_classes_delinq_2yrs_4.count()\n",
        "fraction_4 = num_synthetic_samples_delinq_2yrs_4 / minority_classes_delinq_2yrs_4.count()\n",
        "synthetic_df_delinq_2yrs_4 = minority_classes_delinq_2yrs_4.sample(withReplacement=True, fraction=fraction_4)"
      ]
    },
    {
      "cell_type": "markdown",
      "metadata": {
        "id": "ks2ICjAtBe-M"
      },
      "source": [
        "### Balance all classes in target variable."
      ]
    },
    {
      "cell_type": "code",
      "execution_count": null,
      "metadata": {
        "id": "o6fpaljlq2Jn"
      },
      "outputs": [],
      "source": [
        "balanced_delinq_2yrs = majority_class_delinq_2yrs.\\\n",
        "union(synthetic_df_delinq_2yrs_1) \\\n",
        ".union(synthetic_df_delinq_2yrs_2) \\\n",
        ".union(synthetic_df_delinq_2yrs_3) \\\n",
        ".union(synthetic_df_delinq_2yrs_4)"
      ]
    },
    {
      "cell_type": "code",
      "execution_count": null,
      "metadata": {
        "colab": {
          "base_uri": "https://localhost:8080/"
        },
        "id": "LLUqnu3vrjUe",
        "outputId": "c10155c0-834b-48ef-e966-31c97ba47a11"
      },
      "outputs": [
        {
          "output_type": "stream",
          "name": "stdout",
          "text": [
            "+-----------+-------+\n",
            "|delinq_2yrs|  count|\n",
            "+-----------+-------+\n",
            "|          0|1924467|\n",
            "|          1|1641275|\n",
            "|          2|1846547|\n",
            "|          3|1882620|\n",
            "|          4|1909161|\n",
            "+-----------+-------+\n",
            "\n"
          ]
        }
      ],
      "source": [
        "balanced_delinq_2yrs.groupBy('delinq_2yrs').count().show()"
      ]
    },
    {
      "cell_type": "markdown",
      "metadata": {
        "id": "pvU3wHmeBksL"
      },
      "source": [
        "### Round data."
      ]
    },
    {
      "cell_type": "code",
      "execution_count": null,
      "metadata": {
        "colab": {
          "base_uri": "https://localhost:8080/"
        },
        "id": "-G1hcl6Yr7h2",
        "outputId": "736d8686-9f68-4c81-caa2-865898348db6"
      },
      "outputs": [
        {
          "output_type": "stream",
          "name": "stdout",
          "text": [
            "Column loan_amnt processed\n",
            "Column funded_amnt processed\n",
            "Column funded_amnt_inv processed\n",
            "Column term processed\n",
            "Column int_rate processed\n",
            "Column installment processed\n",
            "Column sub_grade processed\n",
            "Column annual_inc processed\n",
            "Column addr_state processed\n",
            "Column dti processed\n",
            "Column fico_range_high processed\n",
            "Column inq_last_6mths processed\n",
            "Column open_acc processed\n",
            "Column pub_rec processed\n",
            "Column revol_bal processed\n",
            "Column revol_util processed\n",
            "Column total_acc processed\n",
            "Column out_prncp processed\n",
            "Column out_prncp_inv processed\n",
            "Column total_pymnt processed\n",
            "Column total_pymnt_inv processed\n",
            "Column total_rec_prncp processed\n",
            "Column total_rec_int processed\n",
            "Column last_pymnt_amnt processed\n",
            "Column last_fico_range_high processed\n",
            "Column last_fico_range_low processed\n",
            "Column tot_cur_bal processed\n",
            "Column max_bal_bc processed\n",
            "Column total_rev_hi_lim processed\n",
            "Column avg_cur_bal processed\n",
            "Column bc_open_to_buy processed\n",
            "Column bc_util processed\n",
            "Column mo_sin_old_rev_tl_op processed\n",
            "Column mort_acc processed\n",
            "Column mths_since_recent_inq processed\n",
            "Column num_actv_bc_tl processed\n",
            "Column num_actv_rev_tl processed\n",
            "Column num_bc_sats processed\n",
            "Column num_bc_tl processed\n",
            "Column num_il_tl processed\n",
            "Column num_op_rev_tl processed\n",
            "Column num_rev_accts processed\n",
            "Column num_rev_tl_bal_gt_0 processed\n",
            "Column num_sats processed\n",
            "Column pub_rec_bankruptcies processed\n",
            "Column tot_hi_cred_lim processed\n",
            "Column total_bal_ex_mort processed\n",
            "Column total_bc_limit processed\n",
            "Column total_il_high_credit_limit processed\n",
            "Column emp_title_encoded processed\n",
            "Column home_ownership_encoded processed\n",
            "Column verification_status_encoded processed\n",
            "Column loan_status_encoded processed\n",
            "Column purpose_encoded processed\n",
            "Column initial_list_status_encoded processed\n",
            "Column month_earliest_cr_line processed\n",
            "Column year_earliest_cr_line processed\n",
            "Column month_issue_d processed\n",
            "Column year_issue_d processed\n",
            "Column month_last_pymnt_d processed\n",
            "Column year_last_pymnt_d processed\n",
            "Column month_next_pymnt_d processed\n",
            "Column year_next_pymnt_d processed\n",
            "Column month_last_credit_pull_d processed\n",
            "Column year_last_credit_pull_d processed\n",
            "Column fico_range_low processed\n",
            "Column delinq_2yrs processed\n"
          ]
        }
      ],
      "source": [
        "balanced_delinq_2yrs = round_data(balanced_delinq_2yrs)"
      ]
    },
    {
      "cell_type": "markdown",
      "metadata": {
        "id": "4yzwW85mBnAV"
      },
      "source": [
        "### Calculate whiskers of each columns and save."
      ]
    },
    {
      "cell_type": "code",
      "execution_count": null,
      "metadata": {
        "colab": {
          "base_uri": "https://localhost:8080/"
        },
        "id": "vgqfg7ntvBmu",
        "outputId": "61f87a1d-8a68-4097-9d2a-15c9cc9b2a78"
      },
      "outputs": [
        {
          "output_type": "stream",
          "name": "stdout",
          "text": [
            "Column loan_amnt processed\n",
            "Column funded_amnt processed\n",
            "Column funded_amnt_inv processed\n",
            "Column term processed\n",
            "Column int_rate processed\n",
            "Column installment processed\n",
            "Column sub_grade processed\n",
            "Column annual_inc processed\n",
            "Column addr_state processed\n",
            "Column dti processed\n",
            "Column fico_range_high processed\n",
            "Column inq_last_6mths processed\n",
            "Column open_acc processed\n",
            "Column pub_rec processed\n",
            "Column revol_bal processed\n",
            "Column revol_util processed\n",
            "Column total_acc processed\n",
            "Column out_prncp processed\n",
            "Column out_prncp_inv processed\n",
            "Column total_pymnt processed\n",
            "Column total_pymnt_inv processed\n",
            "Column total_rec_prncp processed\n",
            "Column total_rec_int processed\n",
            "Column last_pymnt_amnt processed\n",
            "Column last_fico_range_high processed\n",
            "Column last_fico_range_low processed\n",
            "Column tot_cur_bal processed\n",
            "Column max_bal_bc processed\n",
            "Column total_rev_hi_lim processed\n",
            "Column avg_cur_bal processed\n",
            "Column bc_open_to_buy processed\n",
            "Column bc_util processed\n",
            "Column mo_sin_old_rev_tl_op processed\n",
            "Column mort_acc processed\n",
            "Column mths_since_recent_inq processed\n",
            "Column num_actv_bc_tl processed\n",
            "Column num_actv_rev_tl processed\n",
            "Column num_bc_sats processed\n",
            "Column num_bc_tl processed\n",
            "Column num_il_tl processed\n",
            "Column num_op_rev_tl processed\n",
            "Column num_rev_accts processed\n",
            "Column num_rev_tl_bal_gt_0 processed\n",
            "Column num_sats processed\n",
            "Column pub_rec_bankruptcies processed\n",
            "Column tot_hi_cred_lim processed\n",
            "Column total_bal_ex_mort processed\n",
            "Column total_bc_limit processed\n",
            "Column total_il_high_credit_limit processed\n",
            "Skipping column emp_title_encoded as it is of type VectorUDT\n",
            "Skipping column home_ownership_encoded as it is of type VectorUDT\n",
            "Skipping column verification_status_encoded as it is of type VectorUDT\n",
            "Skipping column loan_status_encoded as it is of type VectorUDT\n",
            "Skipping column purpose_encoded as it is of type VectorUDT\n",
            "Skipping column initial_list_status_encoded as it is of type VectorUDT\n",
            "Column month_earliest_cr_line processed\n",
            "Column year_earliest_cr_line processed\n",
            "Column month_issue_d processed\n",
            "Column year_issue_d processed\n",
            "Column month_last_pymnt_d processed\n",
            "Column year_last_pymnt_d processed\n",
            "Column month_next_pymnt_d processed\n",
            "Column year_next_pymnt_d processed\n",
            "Column month_last_credit_pull_d processed\n",
            "Column year_last_credit_pull_d processed\n",
            "Column fico_range_low processed\n",
            "Column delinq_2yrs processed\n"
          ]
        }
      ],
      "source": [
        "whisk_dict_delinq_2yrs = {'column': [], 'lower_whisker': [], 'upper_whisker': []}\n",
        "for column in balanced_delinq_2yrs.columns:\n",
        "    wiskers = {}\n",
        "    if isinstance(balanced_delinq_2yrs.schema[column].dataType, VectorUDT):\n",
        "        print(f'Skipping column {column} as it is of type VectorUDT')\n",
        "        continue\n",
        "    lower_whisker_delinq_2yrs, upper_whisker_delinq_2yrs = calculate_whiskers(balanced_delinq_2yrs, column)\n",
        "    whisk_dict_delinq_2yrs['column'].append(column)\n",
        "    whisk_dict_delinq_2yrs['lower_whisker'].append(lower_whisker_delinq_2yrs)\n",
        "    whisk_dict_delinq_2yrs['upper_whisker'].append(upper_whisker_delinq_2yrs)\n",
        "    print(f'Column {column} processed')\n",
        "with open('/content/drive/MyDrive/Bank Project/whiskers_delinq_2yrs.pkl', 'wb') as file:\n",
        "    pickle.dump(whisk_dict_delinq_2yrs, file)"
      ]
    },
    {
      "cell_type": "markdown",
      "metadata": {
        "id": "CxxHafAGBtQ3"
      },
      "source": [
        "### Handle outliers."
      ]
    },
    {
      "cell_type": "code",
      "execution_count": null,
      "metadata": {
        "colab": {
          "base_uri": "https://localhost:8080/"
        },
        "id": "CH2AoVQMvgTe",
        "outputId": "43249636-65d2-4944-e7ff-211704b114b0"
      },
      "outputs": [
        {
          "output_type": "stream",
          "name": "stdout",
          "text": [
            "Column loan_amnt processed successfully\n",
            "Column funded_amnt processed successfully\n",
            "Column funded_amnt_inv processed successfully\n",
            "Column term processed successfully\n",
            "Column int_rate processed successfully\n",
            "Column installment processed successfully\n",
            "Column sub_grade processed successfully\n",
            "Column annual_inc processed successfully\n",
            "Column addr_state processed successfully\n",
            "Column dti processed successfully\n",
            "Column fico_range_high processed successfully\n",
            "Column inq_last_6mths processed successfully\n",
            "Column open_acc processed successfully\n",
            "Column pub_rec processed successfully\n",
            "Column revol_bal processed successfully\n",
            "Column revol_util processed successfully\n",
            "Column total_acc processed successfully\n",
            "Column out_prncp processed successfully\n",
            "Column out_prncp_inv processed successfully\n",
            "Column total_pymnt processed successfully\n",
            "Column total_pymnt_inv processed successfully\n",
            "Column total_rec_prncp processed successfully\n",
            "Column total_rec_int processed successfully\n",
            "Column last_pymnt_amnt processed successfully\n",
            "Column last_fico_range_high processed successfully\n",
            "Column last_fico_range_low processed successfully\n",
            "Column tot_cur_bal processed successfully\n",
            "Column max_bal_bc processed successfully\n",
            "Column total_rev_hi_lim processed successfully\n",
            "Column avg_cur_bal processed successfully\n",
            "Column bc_open_to_buy processed successfully\n",
            "Column bc_util processed successfully\n",
            "Column mo_sin_old_rev_tl_op processed successfully\n",
            "Column mort_acc processed successfully\n",
            "Column mths_since_recent_inq processed successfully\n",
            "Column num_actv_bc_tl processed successfully\n",
            "Column num_actv_rev_tl processed successfully\n",
            "Column num_bc_sats processed successfully\n",
            "Column num_bc_tl processed successfully\n",
            "Column num_il_tl processed successfully\n",
            "Column num_op_rev_tl processed successfully\n",
            "Column num_rev_accts processed successfully\n",
            "Column num_rev_tl_bal_gt_0 processed successfully\n",
            "Column num_sats processed successfully\n",
            "Column pub_rec_bankruptcies processed successfully\n",
            "Column tot_hi_cred_lim processed successfully\n",
            "Column total_bal_ex_mort processed successfully\n",
            "Column total_bc_limit processed successfully\n",
            "Column total_il_high_credit_limit processed successfully\n",
            "Skipping column emp_title_encoded as it is of type VectorUDT\n",
            "Skipping column home_ownership_encoded as it is of type VectorUDT\n",
            "Skipping column verification_status_encoded as it is of type VectorUDT\n",
            "Skipping column loan_status_encoded as it is of type VectorUDT\n",
            "Skipping column purpose_encoded as it is of type VectorUDT\n",
            "Skipping column initial_list_status_encoded as it is of type VectorUDT\n",
            "Column month_earliest_cr_line processed successfully\n",
            "Column year_earliest_cr_line processed successfully\n",
            "Column month_issue_d processed successfully\n",
            "Column year_issue_d processed successfully\n",
            "Column month_last_pymnt_d processed successfully\n",
            "Column year_last_pymnt_d processed successfully\n",
            "Column month_next_pymnt_d processed successfully\n",
            "Column year_next_pymnt_d processed successfully\n",
            "Column month_last_credit_pull_d processed successfully\n",
            "Column year_last_credit_pull_d processed successfully\n",
            "Column fico_range_low processed successfully\n",
            "Column delinq_2yrs processed successfully\n"
          ]
        }
      ],
      "source": [
        "final_delinq_2yrs = handle_outliers(balanced_delinq_2yrs, '/content/drive/MyDrive/Bank Project/whiskers_delinq_2yrs.pkl')"
      ]
    },
    {
      "cell_type": "markdown",
      "metadata": {
        "id": "91YBd7ArBwhc"
      },
      "source": [
        "### Save data for target variable \"delinq_2yrs\"."
      ]
    },
    {
      "cell_type": "code",
      "execution_count": null,
      "metadata": {
        "id": "6vm_t2iZ-XjD"
      },
      "outputs": [],
      "source": [
        "final_delinq_2yrs.write.parquet('/content/drive/MyDrive/Bank Project/final_final_delinq_2yrs_data', mode = 'overwrite')"
      ]
    }
  ],
  "metadata": {
    "colab": {
      "provenance": []
    },
    "kernelspec": {
      "display_name": "base",
      "language": "python",
      "name": "python3"
    },
    "language_info": {
      "codemirror_mode": {
        "name": "ipython",
        "version": 3
      },
      "file_extension": ".py",
      "mimetype": "text/x-python",
      "name": "python",
      "nbconvert_exporter": "python",
      "pygments_lexer": "ipython3",
      "version": "3.12.0"
    }
  },
  "nbformat": 4,
  "nbformat_minor": 0
}