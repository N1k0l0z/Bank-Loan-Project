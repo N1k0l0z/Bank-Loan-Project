{
  "nbformat": 4,
  "nbformat_minor": 0,
  "metadata": {
    "colab": {
      "provenance": []
    },
    "kernelspec": {
      "name": "python3",
      "display_name": "Python 3"
    },
    "language_info": {
      "name": "python"
    }
  },
  "cells": [
    {
      "cell_type": "code",
      "execution_count": 4,
      "metadata": {
        "colab": {
          "base_uri": "https://localhost:8080/"
        },
        "id": "O_wdwy65c4op",
        "outputId": "c74e2909-c559-489a-840d-86083907ed06"
      },
      "outputs": [
        {
          "output_type": "stream",
          "name": "stdout",
          "text": [
            "Collecting pyspark\n",
            "  Downloading pyspark-3.5.2.tar.gz (317.3 MB)\n",
            "\u001b[2K     \u001b[90m━━━━━━━━━━━━━━━━━━━━━━━━━━━━━━━━━━━━━━━━\u001b[0m \u001b[32m317.3/317.3 MB\u001b[0m \u001b[31m5.6 MB/s\u001b[0m eta \u001b[36m0:00:00\u001b[0m\n",
            "\u001b[?25h  Preparing metadata (setup.py) ... \u001b[?25l\u001b[?25hdone\n",
            "Requirement already satisfied: py4j==0.10.9.7 in /usr/local/lib/python3.10/dist-packages (from pyspark) (0.10.9.7)\n",
            "Building wheels for collected packages: pyspark\n",
            "  Building wheel for pyspark (setup.py) ... \u001b[?25l\u001b[?25hdone\n",
            "  Created wheel for pyspark: filename=pyspark-3.5.2-py2.py3-none-any.whl size=317812365 sha256=4703a0406578afaebb401a1a884f4b90a43c9ed788857c958c333db92f005b4c\n",
            "  Stored in directory: /root/.cache/pip/wheels/34/34/bd/03944534c44b677cd5859f248090daa9fb27b3c8f8e5f49574\n",
            "Successfully built pyspark\n",
            "Installing collected packages: pyspark\n",
            "Successfully installed pyspark-3.5.2\n"
          ]
        }
      ],
      "source": [
        "!pip install pyspark"
      ]
    },
    {
      "cell_type": "code",
      "source": [
        "from google.colab import drive\n",
        "drive.mount('/content/drive')"
      ],
      "metadata": {
        "colab": {
          "base_uri": "https://localhost:8080/"
        },
        "id": "PqXKut6Nc_7v",
        "outputId": "2ca1386d-3350-47fd-cdf0-e180000ab580"
      },
      "execution_count": 5,
      "outputs": [
        {
          "output_type": "stream",
          "name": "stdout",
          "text": [
            "Mounted at /content/drive\n"
          ]
        }
      ]
    },
    {
      "cell_type": "code",
      "source": [
        "from pyspark.sql import SparkSession\n",
        "from pyspark.ml.feature import VectorAssembler\n",
        "from xgboost.spark import SparkXGBClassifier\n",
        "from xgboost.spark import SparkXGBClassifierModel\n",
        "from pyspark.ml.tuning import CrossValidator, ParamGridBuilder, TrainValidationSplit\n",
        "import time\n",
        "import tensorflow as tf\n",
        "from pyspark.ml.evaluation import MulticlassClassificationEvaluator\n",
        "from pyspark.ml.evaluation import BinaryClassificationEvaluator\n",
        "from pyspark.sql.functions import col\n",
        "from pyspark.sql import functions as F"
      ],
      "metadata": {
        "id": "10f5jclCdAOT"
      },
      "execution_count": 6,
      "outputs": []
    },
    {
      "cell_type": "code",
      "source": [
        "spark = SparkSession.builder \\\n",
        "    .appName(\"XGBoost Bank Loan\") \\\n",
        "    .config(\"spark.executor.memory\", \"8g\") \\\n",
        "    .config(\"spark.driver.memory\", \"8g\") \\\n",
        "    .config(\"spark.memory.offHeap.enabled\", True) \\\n",
        "    .config(\"spark.memory.offHeap.size\", \"8g\") \\\n",
        "    .config(\"spark.executor.cores\", \"4\") \\\n",
        "    .config(\"spark.shuffle.service.enabled\", \"true\") \\\n",
        "    .config(\"spark.driver.maxResultSize\", \"8g\") \\\n",
        "    .getOrCreate()"
      ],
      "metadata": {
        "id": "lSiN9PCAdEY5",
        "colab": {
          "base_uri": "https://localhost:8080/"
        },
        "outputId": "6829a2b2-16e8-4a40-aa53-1427da621e83"
      },
      "execution_count": 7,
      "outputs": [
        {
          "output_type": "stream",
          "name": "stderr",
          "text": [
            "/usr/lib/python3.10/subprocess.py:1796: RuntimeWarning: os.fork() was called. os.fork() is incompatible with multithreaded code, and JAX is multithreaded, so this will likely lead to a deadlock.\n",
            "  self.pid = _posixsubprocess.fork_exec(\n"
          ]
        }
      ]
    },
    {
      "cell_type": "markdown",
      "source": [
        "# **Read Train/Test Data**"
      ],
      "metadata": {
        "id": "-YOrrZrZLU4s"
      }
    },
    {
      "cell_type": "code",
      "source": [
        "train = spark.read.parquet(\"/content/drive/MyDrive/Bank Project/final_final_delinq_2yrs_data\", header=True, inferSchema=True)"
      ],
      "metadata": {
        "id": "Uq-zvbUudRbZ"
      },
      "execution_count": 8,
      "outputs": []
    },
    {
      "cell_type": "code",
      "source": [
        "test = spark.read.parquet(\"/content/drive/MyDrive/Bank Project/final_delinq_2yrs_test\", header=True, inferSchema=True)"
      ],
      "metadata": {
        "id": "3O1OEiHadei8"
      },
      "execution_count": 9,
      "outputs": []
    },
    {
      "cell_type": "code",
      "source": [
        "train.groupBy(\"delinq_2yrs\").count().show()"
      ],
      "metadata": {
        "colab": {
          "base_uri": "https://localhost:8080/"
        },
        "id": "6XS36o89dk7K",
        "outputId": "c00a04b3-3d54-4dc1-d573-ead22a891a49"
      },
      "execution_count": 10,
      "outputs": [
        {
          "output_type": "stream",
          "name": "stdout",
          "text": [
            "+-----------+-------+\n",
            "|delinq_2yrs|  count|\n",
            "+-----------+-------+\n",
            "|        0.0|1924467|\n",
            "|        1.0|1641275|\n",
            "|        4.0|1909161|\n",
            "|        3.0|1882620|\n",
            "|        2.0|1846547|\n",
            "+-----------+-------+\n",
            "\n"
          ]
        }
      ]
    },
    {
      "cell_type": "markdown",
      "source": [
        "# **Get Feature vector of each data**"
      ],
      "metadata": {
        "id": "3MPzWTkvLbdu"
      }
    },
    {
      "cell_type": "code",
      "source": [
        "feature_columns_train = train.columns[:-1]\n",
        "assembler = VectorAssembler(inputCols=feature_columns_train, outputCol=\"features\")\n",
        "train = assembler.transform(train)\n",
        "\n",
        "feature_columns_test = test.columns[:-1]\n",
        "assembler_test = VectorAssembler(inputCols=feature_columns_test, outputCol=\"features\")\n",
        "test = assembler_test.transform(test)"
      ],
      "metadata": {
        "id": "wxuAgPofd2fp"
      },
      "execution_count": 11,
      "outputs": []
    },
    {
      "cell_type": "markdown",
      "source": [
        "# **Convert train data into proper format of keras**"
      ],
      "metadata": {
        "id": "BcpUc71ZLkN0"
      }
    },
    {
      "cell_type": "code",
      "source": [
        "train_0 = train.filter(col(\"delinq_2yrs\") == 0).limit(50000)\n",
        "train_1 = train.filter(col(\"delinq_2yrs\") == 1).limit(50000)\n",
        "train_2 = train.filter(col(\"delinq_2yrs\") == 2).limit(50000)\n",
        "train_3 = train.filter(col(\"delinq_2yrs\") == 3).limit(50000)\n",
        "train_4 = train.filter(col(\"delinq_2yrs\") == 4).limit(50000)"
      ],
      "metadata": {
        "id": "Yh228hpq63ne"
      },
      "execution_count": 12,
      "outputs": []
    },
    {
      "cell_type": "code",
      "source": [
        "train = train_0.union(train_1).union(train_2).union(train_3).union(train_4)"
      ],
      "metadata": {
        "id": "WuKU4Wjs7INV"
      },
      "execution_count": 13,
      "outputs": []
    },
    {
      "cell_type": "code",
      "source": [
        "del train_0, train_1, train_2, train_3, train_4"
      ],
      "metadata": {
        "id": "NPSaowC4Avbs"
      },
      "execution_count": 14,
      "outputs": []
    },
    {
      "cell_type": "code",
      "source": [
        "X = train.select(\"features\")\n",
        "y = train.select(\"delinq_2yrs\")"
      ],
      "metadata": {
        "id": "CCT6JNo97Qbm"
      },
      "execution_count": 15,
      "outputs": []
    },
    {
      "cell_type": "code",
      "source": [
        "del train"
      ],
      "metadata": {
        "id": "LWptYwxnAyXd"
      },
      "execution_count": 16,
      "outputs": []
    },
    {
      "cell_type": "code",
      "source": [
        "X_pd = X.toPandas()\n",
        "y_pd = y.toPandas()"
      ],
      "metadata": {
        "id": "xJrJK6kRxuvI"
      },
      "execution_count": 17,
      "outputs": []
    },
    {
      "cell_type": "code",
      "source": [
        "del X, y"
      ],
      "metadata": {
        "id": "qVZOORIGDskJ"
      },
      "execution_count": 18,
      "outputs": []
    },
    {
      "cell_type": "code",
      "source": [
        "import numpy as np\n",
        "X_np = np.array(X_pd[\"features\"].tolist())\n",
        "y_np = np.array(y_pd).flatten()"
      ],
      "metadata": {
        "id": "fkqfRfwvEFlo"
      },
      "execution_count": 19,
      "outputs": []
    },
    {
      "cell_type": "markdown",
      "source": [
        "# **Convert test data into proper format of keras**"
      ],
      "metadata": {
        "id": "PjEUpsDKLxZ_"
      }
    },
    {
      "cell_type": "code",
      "source": [
        "X_test = test.select(\"features\")\n",
        "y_test = test.select(\"delinq_2yrs\")"
      ],
      "metadata": {
        "id": "5Orn49G1L8n4"
      },
      "execution_count": 20,
      "outputs": []
    },
    {
      "cell_type": "code",
      "source": [
        "X_test_pd = X_test.toPandas()\n",
        "y_test_pd = y_test.toPandas()"
      ],
      "metadata": {
        "id": "BdntoktpL_Uk"
      },
      "execution_count": 21,
      "outputs": []
    },
    {
      "cell_type": "code",
      "source": [
        "X_test_np = np.array(X_test_pd[\"features\"].tolist())\n",
        "y_test_np = np.array(y_test_pd).flatten()"
      ],
      "metadata": {
        "id": "qeYlyA4aMtbc"
      },
      "execution_count": 22,
      "outputs": []
    },
    {
      "cell_type": "markdown",
      "source": [
        "# **Build model**"
      ],
      "metadata": {
        "id": "1jNEgzzOMwk7"
      }
    },
    {
      "cell_type": "code",
      "source": [
        "from tensorflow.keras import layers, models\n",
        "import keras\n",
        "\n",
        "teacher_model = models.Sequential([\n",
        "    layers.Input(shape=(X_np.shape[1],)),\n",
        "    layers.Dense(512, activation='relu'),\n",
        "    layers.Dense(256, activation='relu'),\n",
        "    layers.Dense(128, activation='relu'),\n",
        "    layers.Dense(128, activation='relu'),\n",
        "    layers.Dense(64, activation='relu'),\n",
        "    layers.Dense(5, activation='softmax')\n",
        "])\n",
        "\n",
        "spars_categorical_accuracy = keras.metrics.SparseCategoricalAccuracy(\n",
        "    name=\"sparse_categorical_accuracy\", dtype=None\n",
        ")\n",
        "teacher_model.compile(optimizer='adam',\n",
        "                      loss='sparse_categorical_crossentropy',\n",
        "                      metrics=[spars_categorical_accuracy])\n",
        "\n",
        "teacher_model.fit(X_np, y_np, epochs=20, batch_size=32, validation_data=(X_test_np, y_test_np))"
      ],
      "metadata": {
        "id": "dA6NtAEAEGU9",
        "colab": {
          "base_uri": "https://localhost:8080/"
        },
        "outputId": "dbd5abf6-39d6-4b08-f603-d85960e657e3"
      },
      "execution_count": 25,
      "outputs": [
        {
          "output_type": "stream",
          "name": "stdout",
          "text": [
            "Epoch 1/20\n",
            "\u001b[1m7813/7813\u001b[0m \u001b[32m━━━━━━━━━━━━━━━━━━━━\u001b[0m\u001b[37m\u001b[0m \u001b[1m96s\u001b[0m 12ms/step - loss: 1.2446 - sparse_categorical_accuracy: 0.4478 - val_loss: 1.2156 - val_sparse_categorical_accuracy: 0.4739\n",
            "Epoch 2/20\n",
            "\u001b[1m7813/7813\u001b[0m \u001b[32m━━━━━━━━━━━━━━━━━━━━\u001b[0m\u001b[37m\u001b[0m \u001b[1m140s\u001b[0m 12ms/step - loss: 0.5468 - sparse_categorical_accuracy: 0.7652 - val_loss: 1.2324 - val_sparse_categorical_accuracy: 0.5022\n",
            "Epoch 3/20\n",
            "\u001b[1m7813/7813\u001b[0m \u001b[32m━━━━━━━━━━━━━━━━━━━━\u001b[0m\u001b[37m\u001b[0m \u001b[1m141s\u001b[0m 12ms/step - loss: 0.3862 - sparse_categorical_accuracy: 0.8297 - val_loss: 1.3920 - val_sparse_categorical_accuracy: 0.4341\n",
            "Epoch 4/20\n",
            "\u001b[1m7813/7813\u001b[0m \u001b[32m━━━━━━━━━━━━━━━━━━━━\u001b[0m\u001b[37m\u001b[0m \u001b[1m90s\u001b[0m 12ms/step - loss: 0.3227 - sparse_categorical_accuracy: 0.8574 - val_loss: 1.1464 - val_sparse_categorical_accuracy: 0.6192\n",
            "Epoch 5/20\n",
            "\u001b[1m7813/7813\u001b[0m \u001b[32m━━━━━━━━━━━━━━━━━━━━\u001b[0m\u001b[37m\u001b[0m \u001b[1m139s\u001b[0m 11ms/step - loss: 0.2798 - sparse_categorical_accuracy: 0.8784 - val_loss: 1.2450 - val_sparse_categorical_accuracy: 0.5886\n",
            "Epoch 6/20\n",
            "\u001b[1m7813/7813\u001b[0m \u001b[32m━━━━━━━━━━━━━━━━━━━━\u001b[0m\u001b[37m\u001b[0m \u001b[1m142s\u001b[0m 11ms/step - loss: 0.2465 - sparse_categorical_accuracy: 0.8942 - val_loss: 1.2956 - val_sparse_categorical_accuracy: 0.5953\n",
            "Epoch 7/20\n",
            "\u001b[1m7813/7813\u001b[0m \u001b[32m━━━━━━━━━━━━━━━━━━━━\u001b[0m\u001b[37m\u001b[0m \u001b[1m142s\u001b[0m 11ms/step - loss: 0.2159 - sparse_categorical_accuracy: 0.9094 - val_loss: 1.4042 - val_sparse_categorical_accuracy: 0.5822\n",
            "Epoch 8/20\n",
            "\u001b[1m7813/7813\u001b[0m \u001b[32m━━━━━━━━━━━━━━━━━━━━\u001b[0m\u001b[37m\u001b[0m \u001b[1m146s\u001b[0m 12ms/step - loss: 0.1938 - sparse_categorical_accuracy: 0.9202 - val_loss: 1.3299 - val_sparse_categorical_accuracy: 0.6204\n",
            "Epoch 9/20\n",
            "\u001b[1m7813/7813\u001b[0m \u001b[32m━━━━━━━━━━━━━━━━━━━━\u001b[0m\u001b[37m\u001b[0m \u001b[1m141s\u001b[0m 12ms/step - loss: 0.1722 - sparse_categorical_accuracy: 0.9305 - val_loss: 1.3580 - val_sparse_categorical_accuracy: 0.6641\n",
            "Epoch 10/20\n",
            "\u001b[1m7813/7813\u001b[0m \u001b[32m━━━━━━━━━━━━━━━━━━━━\u001b[0m\u001b[37m\u001b[0m \u001b[1m142s\u001b[0m 12ms/step - loss: 0.1551 - sparse_categorical_accuracy: 0.9392 - val_loss: 1.4024 - val_sparse_categorical_accuracy: 0.6555\n",
            "Epoch 11/20\n",
            "\u001b[1m7813/7813\u001b[0m \u001b[32m━━━━━━━━━━━━━━━━━━━━\u001b[0m\u001b[37m\u001b[0m \u001b[1m142s\u001b[0m 12ms/step - loss: 0.1404 - sparse_categorical_accuracy: 0.9453 - val_loss: 1.4573 - val_sparse_categorical_accuracy: 0.6680\n",
            "Epoch 12/20\n",
            "\u001b[1m7813/7813\u001b[0m \u001b[32m━━━━━━━━━━━━━━━━━━━━\u001b[0m\u001b[37m\u001b[0m \u001b[1m144s\u001b[0m 12ms/step - loss: 0.1312 - sparse_categorical_accuracy: 0.9493 - val_loss: 1.4676 - val_sparse_categorical_accuracy: 0.6834\n",
            "Epoch 13/20\n",
            "\u001b[1m7813/7813\u001b[0m \u001b[32m━━━━━━━━━━━━━━━━━━━━\u001b[0m\u001b[37m\u001b[0m \u001b[1m140s\u001b[0m 12ms/step - loss: 0.1181 - sparse_categorical_accuracy: 0.9554 - val_loss: 1.5492 - val_sparse_categorical_accuracy: 0.6570\n",
            "Epoch 14/20\n",
            "\u001b[1m7813/7813\u001b[0m \u001b[32m━━━━━━━━━━━━━━━━━━━━\u001b[0m\u001b[37m\u001b[0m \u001b[1m138s\u001b[0m 11ms/step - loss: 0.1082 - sparse_categorical_accuracy: 0.9592 - val_loss: 1.4853 - val_sparse_categorical_accuracy: 0.6874\n",
            "Epoch 15/20\n",
            "\u001b[1m7813/7813\u001b[0m \u001b[32m━━━━━━━━━━━━━━━━━━━━\u001b[0m\u001b[37m\u001b[0m \u001b[1m141s\u001b[0m 11ms/step - loss: 0.1022 - sparse_categorical_accuracy: 0.9624 - val_loss: 1.5340 - val_sparse_categorical_accuracy: 0.7166\n",
            "Epoch 16/20\n",
            "\u001b[1m7813/7813\u001b[0m \u001b[32m━━━━━━━━━━━━━━━━━━━━\u001b[0m\u001b[37m\u001b[0m \u001b[1m147s\u001b[0m 12ms/step - loss: 0.0918 - sparse_categorical_accuracy: 0.9665 - val_loss: 1.6225 - val_sparse_categorical_accuracy: 0.6659\n",
            "Epoch 17/20\n",
            "\u001b[1m7813/7813\u001b[0m \u001b[32m━━━━━━━━━━━━━━━━━━━━\u001b[0m\u001b[37m\u001b[0m \u001b[1m142s\u001b[0m 12ms/step - loss: 0.0878 - sparse_categorical_accuracy: 0.9673 - val_loss: 1.6463 - val_sparse_categorical_accuracy: 0.6789\n",
            "Epoch 18/20\n",
            "\u001b[1m7813/7813\u001b[0m \u001b[32m━━━━━━━━━━━━━━━━━━━━\u001b[0m\u001b[37m\u001b[0m \u001b[1m92s\u001b[0m 12ms/step - loss: 0.0847 - sparse_categorical_accuracy: 0.9690 - val_loss: 1.6617 - val_sparse_categorical_accuracy: 0.6812\n",
            "Epoch 19/20\n",
            "\u001b[1m7813/7813\u001b[0m \u001b[32m━━━━━━━━━━━━━━━━━━━━\u001b[0m\u001b[37m\u001b[0m \u001b[1m91s\u001b[0m 12ms/step - loss: 0.0772 - sparse_categorical_accuracy: 0.9722 - val_loss: 1.8057 - val_sparse_categorical_accuracy: 0.6983\n",
            "Epoch 20/20\n",
            "\u001b[1m7813/7813\u001b[0m \u001b[32m━━━━━━━━━━━━━━━━━━━━\u001b[0m\u001b[37m\u001b[0m \u001b[1m143s\u001b[0m 12ms/step - loss: 0.0713 - sparse_categorical_accuracy: 0.9744 - val_loss: 1.8655 - val_sparse_categorical_accuracy: 0.6847\n"
          ]
        },
        {
          "output_type": "execute_result",
          "data": {
            "text/plain": [
              "<keras.src.callbacks.history.History at 0x7d5763ea4cd0>"
            ]
          },
          "metadata": {},
          "execution_count": 25
        }
      ]
    },
    {
      "cell_type": "code",
      "source": [
        "soft_labels = teacher_model.predict(X_np)"
      ],
      "metadata": {
        "id": "w3gpkr0BKBnP",
        "colab": {
          "base_uri": "https://localhost:8080/"
        },
        "outputId": "458bee1c-b94d-4af3-ae68-fcc95dab8758"
      },
      "execution_count": 26,
      "outputs": [
        {
          "output_type": "stream",
          "name": "stdout",
          "text": [
            "\u001b[1m7813/7813\u001b[0m \u001b[32m━━━━━━━━━━━━━━━━━━━━\u001b[0m\u001b[37m\u001b[0m \u001b[1m18s\u001b[0m 2ms/step\n"
          ]
        }
      ]
    },
    {
      "cell_type": "code",
      "source": [
        "student_model = models.Sequential([\n",
        "    layers.Input(shape=(X_np.shape[1],)),\n",
        "    layers.Dense(64, activation='relu'),\n",
        "    layers.Dense(32, activation='relu'),\n",
        "    layers.Dense(5, activation='softmax')\n",
        "])\n"
      ],
      "metadata": {
        "id": "yh8jIYLbLfMc"
      },
      "execution_count": 27,
      "outputs": []
    },
    {
      "cell_type": "code",
      "source": [
        "import tensorflow as tf\n",
        "from tensorflow.keras import layers, models\n",
        "\n",
        "def knowledge_distillation_loss(y_true, y_pred, soft_labels, temperature=2.0):\n",
        "    y_true = tf.keras.utils.to_categorical(y_true, num_classes=5)  # Assuming 5 classes\n",
        "    y_pred_soft = tf.keras.backend.softmax(y_pred / temperature)\n",
        "\n",
        "    batch_size = tf.shape(y_true)[0]\n",
        "    soft_labels_batch = tf.gather(soft_labels, tf.range(batch_size))\n",
        "    soft_labels_soft = tf.keras.backend.softmax(soft_labels_batch / temperature)\n",
        "\n",
        "    return tf.keras.backend.categorical_crossentropy(y_true, y_pred) + \\\n",
        "           tf.keras.backend.categorical_crossentropy(soft_labels_soft, y_pred_soft)\n",
        "\n",
        "student_model.compile(optimizer='adam',\n",
        "                      loss=lambda y_true, y_pred: knowledge_distillation_loss(y_true, y_pred, soft_labels),\n",
        "                      metrics=[spars_categorical_accuracy])\n",
        "\n",
        "student_model.fit(X_np, y_np, epochs=30, batch_size=32, validation_data=(X_test_np, y_test_np))"
      ],
      "metadata": {
        "colab": {
          "base_uri": "https://localhost:8080/"
        },
        "id": "31bByjB7Lr8R",
        "outputId": "f1b2c975-9111-4d03-8d5e-862e534a955d"
      },
      "execution_count": 28,
      "outputs": [
        {
          "output_type": "stream",
          "name": "stdout",
          "text": [
            "Epoch 1/30\n",
            "\u001b[1m7813/7813\u001b[0m \u001b[32m━━━━━━━━━━━━━━━━━━━━\u001b[0m\u001b[37m\u001b[0m \u001b[1m45s\u001b[0m 6ms/step - loss: 3.0395 - sparse_categorical_accuracy: 0.6358 - val_loss: 2.8696 - val_sparse_categorical_accuracy: 0.5102\n",
            "Epoch 2/30\n",
            "\u001b[1m7813/7813\u001b[0m \u001b[32m━━━━━━━━━━━━━━━━━━━━\u001b[0m\u001b[37m\u001b[0m \u001b[1m57s\u001b[0m 7ms/step - loss: 2.7291 - sparse_categorical_accuracy: 0.5271 - val_loss: 2.8926 - val_sparse_categorical_accuracy: 0.5072\n",
            "Epoch 3/30\n",
            "\u001b[1m7813/7813\u001b[0m \u001b[32m━━━━━━━━━━━━━━━━━━━━\u001b[0m\u001b[37m\u001b[0m \u001b[1m43s\u001b[0m 5ms/step - loss: 2.6178 - sparse_categorical_accuracy: 0.5720 - val_loss: 2.9878 - val_sparse_categorical_accuracy: 0.4364\n",
            "Epoch 4/30\n",
            "\u001b[1m7813/7813\u001b[0m \u001b[32m━━━━━━━━━━━━━━━━━━━━\u001b[0m\u001b[37m\u001b[0m \u001b[1m57s\u001b[0m 7ms/step - loss: 2.5590 - sparse_categorical_accuracy: 0.5980 - val_loss: 2.8375 - val_sparse_categorical_accuracy: 0.5244\n",
            "Epoch 5/30\n",
            "\u001b[1m7813/7813\u001b[0m \u001b[32m━━━━━━━━━━━━━━━━━━━━\u001b[0m\u001b[37m\u001b[0m \u001b[1m82s\u001b[0m 7ms/step - loss: 2.5141 - sparse_categorical_accuracy: 0.6176 - val_loss: 2.8915 - val_sparse_categorical_accuracy: 0.4902\n",
            "Epoch 6/30\n",
            "\u001b[1m7813/7813\u001b[0m \u001b[32m━━━━━━━━━━━━━━━━━━━━\u001b[0m\u001b[37m\u001b[0m \u001b[1m57s\u001b[0m 7ms/step - loss: 2.4840 - sparse_categorical_accuracy: 0.6324 - val_loss: 2.8825 - val_sparse_categorical_accuracy: 0.5065\n",
            "Epoch 7/30\n",
            "\u001b[1m7813/7813\u001b[0m \u001b[32m━━━━━━━━━━━━━━━━━━━━\u001b[0m\u001b[37m\u001b[0m \u001b[1m58s\u001b[0m 7ms/step - loss: 2.4578 - sparse_categorical_accuracy: 0.6418 - val_loss: 2.8247 - val_sparse_categorical_accuracy: 0.5422\n",
            "Epoch 8/30\n",
            "\u001b[1m7813/7813\u001b[0m \u001b[32m━━━━━━━━━━━━━━━━━━━━\u001b[0m\u001b[37m\u001b[0m \u001b[1m57s\u001b[0m 7ms/step - loss: 2.4356 - sparse_categorical_accuracy: 0.6512 - val_loss: 2.8651 - val_sparse_categorical_accuracy: 0.5350\n",
            "Epoch 9/30\n",
            "\u001b[1m7813/7813\u001b[0m \u001b[32m━━━━━━━━━━━━━━━━━━━━\u001b[0m\u001b[37m\u001b[0m \u001b[1m39s\u001b[0m 5ms/step - loss: 2.4189 - sparse_categorical_accuracy: 0.6600 - val_loss: 2.8751 - val_sparse_categorical_accuracy: 0.5116\n",
            "Epoch 10/30\n",
            "\u001b[1m7813/7813\u001b[0m \u001b[32m━━━━━━━━━━━━━━━━━━━━\u001b[0m\u001b[37m\u001b[0m \u001b[1m40s\u001b[0m 5ms/step - loss: 2.4047 - sparse_categorical_accuracy: 0.6652 - val_loss: 2.9647 - val_sparse_categorical_accuracy: 0.4646\n",
            "Epoch 11/30\n",
            "\u001b[1m7813/7813\u001b[0m \u001b[32m━━━━━━━━━━━━━━━━━━━━\u001b[0m\u001b[37m\u001b[0m \u001b[1m43s\u001b[0m 5ms/step - loss: 2.3934 - sparse_categorical_accuracy: 0.6692 - val_loss: 2.9290 - val_sparse_categorical_accuracy: 0.5035\n",
            "Epoch 12/30\n",
            "\u001b[1m7813/7813\u001b[0m \u001b[32m━━━━━━━━━━━━━━━━━━━━\u001b[0m\u001b[37m\u001b[0m \u001b[1m58s\u001b[0m 7ms/step - loss: 2.3810 - sparse_categorical_accuracy: 0.6751 - val_loss: 2.8793 - val_sparse_categorical_accuracy: 0.5201\n",
            "Epoch 13/30\n",
            "\u001b[1m7813/7813\u001b[0m \u001b[32m━━━━━━━━━━━━━━━━━━━━\u001b[0m\u001b[37m\u001b[0m \u001b[1m82s\u001b[0m 7ms/step - loss: 2.3668 - sparse_categorical_accuracy: 0.6803 - val_loss: 2.9632 - val_sparse_categorical_accuracy: 0.4755\n",
            "Epoch 14/30\n",
            "\u001b[1m7813/7813\u001b[0m \u001b[32m━━━━━━━━━━━━━━━━━━━━\u001b[0m\u001b[37m\u001b[0m \u001b[1m82s\u001b[0m 7ms/step - loss: 2.3574 - sparse_categorical_accuracy: 0.6859 - val_loss: 3.0319 - val_sparse_categorical_accuracy: 0.4900\n",
            "Epoch 15/30\n",
            "\u001b[1m7813/7813\u001b[0m \u001b[32m━━━━━━━━━━━━━━━━━━━━\u001b[0m\u001b[37m\u001b[0m \u001b[1m63s\u001b[0m 5ms/step - loss: 2.3493 - sparse_categorical_accuracy: 0.6874 - val_loss: 3.0013 - val_sparse_categorical_accuracy: 0.4655\n",
            "Epoch 16/30\n",
            "\u001b[1m7813/7813\u001b[0m \u001b[32m━━━━━━━━━━━━━━━━━━━━\u001b[0m\u001b[37m\u001b[0m \u001b[1m40s\u001b[0m 5ms/step - loss: 2.3395 - sparse_categorical_accuracy: 0.6919 - val_loss: 2.9400 - val_sparse_categorical_accuracy: 0.5215\n",
            "Epoch 17/30\n",
            "\u001b[1m7813/7813\u001b[0m \u001b[32m━━━━━━━━━━━━━━━━━━━━\u001b[0m\u001b[37m\u001b[0m \u001b[1m57s\u001b[0m 7ms/step - loss: 2.3293 - sparse_categorical_accuracy: 0.6960 - val_loss: 2.9575 - val_sparse_categorical_accuracy: 0.5195\n",
            "Epoch 18/30\n",
            "\u001b[1m7813/7813\u001b[0m \u001b[32m━━━━━━━━━━━━━━━━━━━━\u001b[0m\u001b[37m\u001b[0m \u001b[1m63s\u001b[0m 5ms/step - loss: 2.3275 - sparse_categorical_accuracy: 0.6960 - val_loss: 2.9815 - val_sparse_categorical_accuracy: 0.4825\n",
            "Epoch 19/30\n",
            "\u001b[1m7813/7813\u001b[0m \u001b[32m━━━━━━━━━━━━━━━━━━━━\u001b[0m\u001b[37m\u001b[0m \u001b[1m39s\u001b[0m 5ms/step - loss: 2.3205 - sparse_categorical_accuracy: 0.6998 - val_loss: 3.0262 - val_sparse_categorical_accuracy: 0.4596\n",
            "Epoch 20/30\n",
            "\u001b[1m7813/7813\u001b[0m \u001b[32m━━━━━━━━━━━━━━━━━━━━\u001b[0m\u001b[37m\u001b[0m \u001b[1m39s\u001b[0m 5ms/step - loss: 2.3165 - sparse_categorical_accuracy: 0.7005 - val_loss: 3.0564 - val_sparse_categorical_accuracy: 0.4809\n",
            "Epoch 21/30\n",
            "\u001b[1m7813/7813\u001b[0m \u001b[32m━━━━━━━━━━━━━━━━━━━━\u001b[0m\u001b[37m\u001b[0m \u001b[1m57s\u001b[0m 7ms/step - loss: 2.3080 - sparse_categorical_accuracy: 0.7025 - val_loss: 2.8959 - val_sparse_categorical_accuracy: 0.5390\n",
            "Epoch 22/30\n",
            "\u001b[1m7813/7813\u001b[0m \u001b[32m━━━━━━━━━━━━━━━━━━━━\u001b[0m\u001b[37m\u001b[0m \u001b[1m67s\u001b[0m 5ms/step - loss: 2.3058 - sparse_categorical_accuracy: 0.7039 - val_loss: 2.9823 - val_sparse_categorical_accuracy: 0.4938\n",
            "Epoch 23/30\n",
            "\u001b[1m7813/7813\u001b[0m \u001b[32m━━━━━━━━━━━━━━━━━━━━\u001b[0m\u001b[37m\u001b[0m \u001b[1m38s\u001b[0m 5ms/step - loss: 2.3010 - sparse_categorical_accuracy: 0.7071 - val_loss: 3.0305 - val_sparse_categorical_accuracy: 0.4699\n",
            "Epoch 24/30\n",
            "\u001b[1m7813/7813\u001b[0m \u001b[32m━━━━━━━━━━━━━━━━━━━━\u001b[0m\u001b[37m\u001b[0m \u001b[1m60s\u001b[0m 7ms/step - loss: 2.2953 - sparse_categorical_accuracy: 0.7085 - val_loss: 3.0154 - val_sparse_categorical_accuracy: 0.4798\n",
            "Epoch 25/30\n",
            "\u001b[1m7813/7813\u001b[0m \u001b[32m━━━━━━━━━━━━━━━━━━━━\u001b[0m\u001b[37m\u001b[0m \u001b[1m38s\u001b[0m 5ms/step - loss: 2.2903 - sparse_categorical_accuracy: 0.7093 - val_loss: 2.9168 - val_sparse_categorical_accuracy: 0.5427\n",
            "Epoch 26/30\n",
            "\u001b[1m7813/7813\u001b[0m \u001b[32m━━━━━━━━━━━━━━━━━━━━\u001b[0m\u001b[37m\u001b[0m \u001b[1m40s\u001b[0m 5ms/step - loss: 2.2855 - sparse_categorical_accuracy: 0.7117 - val_loss: 3.0401 - val_sparse_categorical_accuracy: 0.4700\n",
            "Epoch 27/30\n",
            "\u001b[1m7813/7813\u001b[0m \u001b[32m━━━━━━━━━━━━━━━━━━━━\u001b[0m\u001b[37m\u001b[0m \u001b[1m61s\u001b[0m 8ms/step - loss: 2.2840 - sparse_categorical_accuracy: 0.7118 - val_loss: 2.9087 - val_sparse_categorical_accuracy: 0.5572\n",
            "Epoch 28/30\n",
            "\u001b[1m7813/7813\u001b[0m \u001b[32m━━━━━━━━━━━━━━━━━━━━\u001b[0m\u001b[37m\u001b[0m \u001b[1m57s\u001b[0m 7ms/step - loss: 2.2802 - sparse_categorical_accuracy: 0.7115 - val_loss: 3.0151 - val_sparse_categorical_accuracy: 0.5114\n",
            "Epoch 29/30\n",
            "\u001b[1m7813/7813\u001b[0m \u001b[32m━━━━━━━━━━━━━━━━━━━━\u001b[0m\u001b[37m\u001b[0m \u001b[1m57s\u001b[0m 7ms/step - loss: 2.2776 - sparse_categorical_accuracy: 0.7141 - val_loss: 3.0446 - val_sparse_categorical_accuracy: 0.5022\n",
            "Epoch 30/30\n",
            "\u001b[1m7813/7813\u001b[0m \u001b[32m━━━━━━━━━━━━━━━━━━━━\u001b[0m\u001b[37m\u001b[0m \u001b[1m65s\u001b[0m 5ms/step - loss: 2.2730 - sparse_categorical_accuracy: 0.7144 - val_loss: 3.0864 - val_sparse_categorical_accuracy: 0.4814\n"
          ]
        },
        {
          "output_type": "execute_result",
          "data": {
            "text/plain": [
              "<keras.src.callbacks.history.History at 0x7d576317a710>"
            ]
          },
          "metadata": {},
          "execution_count": 28
        }
      ]
    },
    {
      "cell_type": "code",
      "source": [
        "student_model.save(\"/content/drive/MyDrive/Bank Project/student_model.keras\")"
      ],
      "metadata": {
        "id": "4xdxMxQCL7WL",
        "colab": {
          "base_uri": "https://localhost:8080/"
        },
        "outputId": "0119ace0-e730-41b3-f129-8022964b9813"
      },
      "execution_count": 30,
      "outputs": [
        {
          "output_type": "stream",
          "name": "stderr",
          "text": [
            "/usr/local/lib/python3.10/dist-packages/keras/src/saving/serialization_lib.py:390: UserWarning: The object being serialized includes a `lambda`. This is unsafe. In order to reload the object, you will have to pass `safe_mode=False` to the loading function. Please avoid using `lambda` in the future, and use named Python functions instead. This is the `lambda` being serialized:                       loss=lambda y_true, y_pred: knowledge_distillation_loss(y_true, y_pred, soft_labels),\n",
            "\n",
            "  return {key: serialize_keras_object(value) for key, value in obj.items()}\n"
          ]
        }
      ]
    },
    {
      "cell_type": "code",
      "source": [
        "teacher_model.save(\"/content/drive/MyDrive/Bank Project/teacher_model.keras\")"
      ],
      "metadata": {
        "id": "X9p7F5qABvmK"
      },
      "execution_count": 31,
      "outputs": []
    },
    {
      "cell_type": "code",
      "source": [
        "student_model.evaluate(X_test_np, y_test_np)"
      ],
      "metadata": {
        "colab": {
          "base_uri": "https://localhost:8080/"
        },
        "id": "rPvRXSEZBzeE",
        "outputId": "49288289-6838-4541-b8db-a1d86c3bb8f1"
      },
      "execution_count": 32,
      "outputs": [
        {
          "output_type": "stream",
          "name": "stdout",
          "text": [
            "\u001b[1m18317/18317\u001b[0m \u001b[32m━━━━━━━━━━━━━━━━━━━━\u001b[0m\u001b[37m\u001b[0m \u001b[1m28s\u001b[0m 2ms/step - loss: 3.0836 - sparse_categorical_accuracy: 0.4832\n"
          ]
        },
        {
          "output_type": "execute_result",
          "data": {
            "text/plain": [
              "[3.0863757133483887, 0.48137304186820984]"
            ]
          },
          "metadata": {},
          "execution_count": 32
        }
      ]
    }
  ]
}